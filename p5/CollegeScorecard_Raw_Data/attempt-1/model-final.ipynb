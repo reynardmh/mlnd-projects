{
 "cells": [
  {
   "cell_type": "code",
   "execution_count": 31,
   "metadata": {
    "collapsed": true
   },
   "outputs": [],
   "source": [
    "import pandas as pd\n",
    "import numpy as np\n",
    "import matplotlib.pyplot as plt\n",
    "import re\n",
    "import sys\n",
    "import p5lib\n",
    "import pickle\n",
    "import os.path\n",
    "\n",
    "%matplotlib inline"
   ]
  },
  {
   "cell_type": "code",
   "execution_count": 32,
   "metadata": {
    "collapsed": false
   },
   "outputs": [
    {
     "name": "stdout",
     "output_type": "stream",
     "text": [
      "(6007, 45)\n"
     ]
    }
   ],
   "source": [
    "pickle_file = 'reduced_data.pickle'\n",
    "if os.path.isfile(pickle_file):\n",
    "    data = pickle.load(open(pickle_file, \"rb\"))\n",
    "else:\n",
    "    data = pd.read_csv('MERGED2013_PP.csv')\n",
    "    # print data.shape\n",
    "    data = p5lib.preprocess_data(data)\n",
    "    pickle.dump(data, open(pickle_file, \"wb\"))\n",
    "\n",
    "print data.shape"
   ]
  },
  {
   "cell_type": "code",
   "execution_count": 33,
   "metadata": {
    "collapsed": false
   },
   "outputs": [
    {
     "name": "stdout",
     "output_type": "stream",
     "text": [
      "(5930, 28)\n",
      "(5930, 2)\n",
      "1145\n"
     ]
    }
   ],
   "source": [
    "X = data[['CONTROL', 'DEBT_MDN', 'DEP_INC_AVG', 'GRAD_DEBT_MDN', 'IND_INC_AVG', 'INEXPFTE', 'PAR_ED_PCT_1STGEN', \n",
    "          'PAR_ED_PCT_HS', 'PAR_ED_PCT_MS', 'PAR_ED_PCT_PS', 'PCTFLOAN', 'PCTPELL', 'UG25abv', 'UGDS', \n",
    "          'WDRAW_DEBT_MDN', 'L4_COLLEGE', 'NPT4', 'NUM4', \n",
    "          'PFTFTUG1_EF', 'PFTFAC',\n",
    "          'SAT_AVG_ALL', 'ACTCMMID', 'ADM_RATE_ALL', 'AVGFACSAL', 'COSTT4_A',\n",
    "          'CCSIZSET', 'CCUGPROF', 'CCBASIC', # carnegie classification data (which is not complete)\n",
    "          'C150', 'RET_FT']]\n",
    "\n",
    "# remove noise, this bumps up the r2 score pretty nicely\n",
    "X = X[~((X.RET_FT == 0) & (X.C150 > 0.5))]\n",
    "X = X[~((X.C150 == 0) & (X.RET_FT > 0.5))]\n",
    "X = X[~((X.C150 == 1) & (X.RET_FT < 0.5))]\n",
    "X = X[~((X.RET_FT == 1) & (X.C150 < 0.5))]\n",
    "\n",
    "y = X[['C150', 'RET_FT']]\n",
    "X = X.drop('C150', 1)\n",
    "X = X.drop('RET_FT', 1)\n",
    "print X.shape\n",
    "print y.shape\n",
    "print len(X.dropna())\n"
   ]
  },
  {
   "cell_type": "code",
   "execution_count": 34,
   "metadata": {
    "collapsed": false
   },
   "outputs": [],
   "source": [
    "fill_cols_with_mean = ['DEBT_MDN', 'DEP_INC_AVG', 'GRAD_DEBT_MDN', 'IND_INC_AVG', 'INEXPFTE', 'WDRAW_DEBT_MDN',\n",
    "                       'PAR_ED_PCT_1STGEN', 'PAR_ED_PCT_HS', 'PAR_ED_PCT_MS', 'PAR_ED_PCT_PS', 'PCTFLOAN', 'PCTPELL', \n",
    "                       'UG25abv', 'NPT4', 'NUM4', 'PFTFTUG1_EF', 'PFTFAC', 'SAT_AVG_ALL', 'ACTCMMID', 'ADM_RATE_ALL', \n",
    "                       'AVGFACSAL', 'COSTT4_A']\n",
    "\n",
    "for col in fill_cols_with_mean:\n",
    "    if col in X:\n",
    "        X[col] = X[col].fillna(X[col].mean())"
   ]
  },
  {
   "cell_type": "code",
   "execution_count": 35,
   "metadata": {
    "collapsed": false
   },
   "outputs": [
    {
     "name": "stdout",
     "output_type": "stream",
     "text": [
      "Number of available data for each feature (not counting the NaN values)\n",
      "CONTROL             Control (public/private)                      5930\n",
      "DEBT_MDN            Median debt                                   5930\n",
      "DEP_INC_AVG         Avg income dependent stu                      5930\n",
      "GRAD_DEBT_MDN       Median debt complete                          5930\n",
      "IND_INC_AVG         Avg income independent stu                    5930\n",
      "INEXPFTE            Expense per FTE student                       5930\n",
      "PAR_ED_PCT_1STGEN   % 1st gen students                            5930\n",
      "PAR_ED_PCT_HS       % parent education high school                5930\n",
      "PAR_ED_PCT_MS       % parent education middle school              5930\n",
      "PAR_ED_PCT_PS       % parent education post secondary             5930\n",
      "PCTFLOAN            % Fed student loan                            5930\n",
      "PCTPELL             % Pell Grant receiver                         5930\n",
      "UG25abv             % undergrad > 25 yr                           5930\n",
      "UGDS                Number of Undergrad degree seeking            5930\n",
      "WDRAW_DEBT_MDN      Median debt non-completer                     5930\n",
      "L4_COLLEGE          <4 years college                              5930\n",
      "NPT4                Avg net price Title IV                        5930\n",
      "NUM4                Num Title IV student                          5930\n",
      "PFTFTUG1_EF         Undergrad 1st-time degree seeking             5930\n",
      "PFTFAC              Full time faculty rate                        5930\n",
      "SAT_AVG_ALL         SAT all                                       5930\n",
      "ACTCMMID            ACT                                           5930\n",
      "ADM_RATE_ALL        Admission rate                                5930\n",
      "AVGFACSAL           Avg faculty salary                            5930\n",
      "COSTT4_A            Avg cost academic year                        5930\n",
      "CCSIZSET            Carnegie classification-Size & settings       3251\n",
      "CCUGPROF            Carnegie classification-Undergrad profile     3251\n",
      "CCBASIC             Carnegie classification-basic                 3591\n"
     ]
    }
   ],
   "source": [
    "p5lib.print_num_data_for_each_features(X)"
   ]
  },
  {
   "cell_type": "markdown",
   "metadata": {},
   "source": [
    "Note that the Carnegie classification features do not contain complete data for all 5930 rows"
   ]
  },
  {
   "cell_type": "code",
   "execution_count": 36,
   "metadata": {
    "collapsed": false
   },
   "outputs": [
    {
     "name": "stdout",
     "output_type": "stream",
     "text": [
      "(5930, 23)\n"
     ]
    }
   ],
   "source": [
    "from sklearn import preprocessing\n",
    "\n",
    "# take features of type cost/money, and percentage (between 0 and 1) and preprocess with standard scaler\n",
    "# and then use these preprocessed features for PCA\n",
    "tmpX = X[['DEBT_MDN', 'DEP_INC_AVG', 'GRAD_DEBT_MDN', 'IND_INC_AVG', 'INEXPFTE', 'UGDS', 'WDRAW_DEBT_MDN', 'NPT4', \n",
    "          'NUM4', 'SAT_AVG_ALL', 'ACTCMMID', 'AVGFACSAL', 'COSTT4_A',\n",
    "          'PAR_ED_PCT_1STGEN', 'PAR_ED_PCT_HS', 'PAR_ED_PCT_MS', 'PAR_ED_PCT_PS', 'PCTFLOAN', 'PCTPELL', 'UG25abv', \n",
    "          'PFTFTUG1_EF', 'PFTFAC', 'ADM_RATE_ALL'\n",
    "         ]]\n",
    "\n",
    "scaler = preprocessing.StandardScaler()\n",
    "\n",
    "scaledX = scaler.fit_transform(tmpX)\n",
    "print scaledX.shape\n"
   ]
  },
  {
   "cell_type": "code",
   "execution_count": 37,
   "metadata": {
    "collapsed": false
   },
   "outputs": [
    {
     "name": "stdout",
     "output_type": "stream",
     "text": [
      "[  3.27847019e-01   1.23902660e-01   9.73258255e-02   6.85293297e-02\n",
      "   5.77802450e-02   4.73264511e-02   4.20430022e-02   3.91336823e-02\n",
      "   3.44479046e-02   2.75580133e-02   2.50217155e-02   2.21752119e-02\n",
      "   2.19309148e-02   1.60399102e-02   1.16046323e-02   9.16058349e-03\n",
      "   7.49696855e-03   7.33037616e-03   4.91219481e-03   4.57979241e-03\n",
      "   2.98661079e-03   5.45633907e-04   3.21322779e-04]\n"
     ]
    }
   ],
   "source": [
    "from sklearn.decomposition import PCA\n",
    "\n",
    "pca = PCA(n_components=scaledX.shape[1])\n",
    "pca.fit(scaledX)\n",
    "\n",
    "print pca.explained_variance_ratio_"
   ]
  },
  {
   "cell_type": "code",
   "execution_count": 38,
   "metadata": {
    "collapsed": false
   },
   "outputs": [
    {
     "name": "stdout",
     "output_type": "stream",
     "text": [
      "(5930, 15)\n"
     ]
    }
   ],
   "source": [
    "pca = PCA(n_components=15)\n",
    "pca.fit(scaledX)\n",
    "reducedX = pca.transform(scaledX)\n",
    "\n",
    "# reducedX is the chosen top PCA components\n",
    "print reducedX.shape"
   ]
  },
  {
   "cell_type": "code",
   "execution_count": 39,
   "metadata": {
    "collapsed": false
   },
   "outputs": [
    {
     "name": "stdout",
     "output_type": "stream",
     "text": [
      "(5930, 15)\n",
      "(5930, 3) (5930, 1) (5930, 17) (5930, 14) (5930, 33)\n",
      "(5930, 83)\n"
     ]
    }
   ],
   "source": [
    "# add the categorical features\n",
    "# only CONTROL and L4_COLLEGE because the carnegie classification data is not complete\n",
    "\n",
    "tmp1X = np.array(pd.get_dummies(X['CONTROL']))\n",
    "tmp2X = X['L4_COLLEGE'].astype(int)\n",
    "tmp2X = np.reshape(tmp2X, (len(tmp2X), 1)) \n",
    "\n",
    "tmp3X = np.array(pd.get_dummies(X['CCSIZSET']))\n",
    "tmp4X = np.array(pd.get_dummies(X['CCUGPROF']))\n",
    "tmp5X = np.array(pd.get_dummies(X['CCBASIC']))\n",
    "\n",
    "print reducedX.shape\n",
    "print tmp1X.shape, tmp2X.shape, tmp3X.shape, tmp4X.shape, tmp5X.shape\n",
    "\n",
    "finalX = np.concatenate((reducedX, tmp1X, tmp2X, tmp3X, tmp4X, tmp5X), axis=1)\n",
    "\n",
    "print finalX.shape"
   ]
  },
  {
   "cell_type": "code",
   "execution_count": 40,
   "metadata": {
    "collapsed": false
   },
   "outputs": [
    {
     "name": "stdout",
     "output_type": "stream",
     "text": [
      "(4744, 83)\n",
      "(1186, 83)\n",
      "(4744, 2)\n",
      "(1186, 2)\n",
      "       y_test c150  y_train c150\n",
      "count  1186.000000   4744.000000\n",
      "mean      0.524112      0.529468\n",
      "std       0.237687      0.236318\n",
      "min       0.000000      0.000000\n",
      "25%       0.337558      0.338630\n",
      "50%       0.544395      0.555600\n",
      "75%       0.714273      0.719954\n",
      "max       1.000000      1.000000\n",
      "        y_test ret  y_train ret\n",
      "count  1186.000000  4744.000000\n",
      "mean      0.689928     0.692049\n",
      "std       0.169270     0.174978\n",
      "min       0.000000     0.000000\n",
      "25%       0.584650     0.587800\n",
      "50%       0.694600     0.708300\n",
      "75%       0.812725     0.815425\n",
      "max       1.000000     1.000000\n"
     ]
    }
   ],
   "source": [
    "from sklearn import cross_validation as cv\n",
    "\n",
    "pickle_file = 'm5-split_data.pickle'\n",
    "\n",
    "os.remove(pickle_file) # clear cache (delete pickle). Comment this out to keep the same train/test data over multiple runs\n",
    "if os.path.isfile(pickle_file):\n",
    "    print \"loading split_data from pickle\"\n",
    "    split_data = pickle.load(open(pickle_file, \"rb\"))\n",
    "    X_train, X_test, y_train, y_test = split_data['X_train'], split_data['X_test'], split_data['y_train'], split_data['y_test']\n",
    "else:\n",
    "    y = np.array(y)\n",
    "    X_train, X_test, y_train, y_test = cv.train_test_split(finalX, y, train_size=0.8)\n",
    "    split_data = {\n",
    "        'X_train': X_train,\n",
    "        'X_test':  X_test,\n",
    "        'y_train': y_train,\n",
    "        'y_test':  y_test,        \n",
    "    }\n",
    "    pickle.dump(split_data, open(pickle_file, \"wb\"))\n",
    "\n",
    "print X_train.shape\n",
    "print X_test.shape\n",
    "print y_train.shape\n",
    "print y_test.shape\n",
    "\n",
    "# Check if the train / test has similar distribution\n",
    "print pd.DataFrame(data={'y_train c150': pd.Series(y_train[:,0]).describe(),\n",
    "                         'y_test c150': pd.Series(y_test[:,0]).describe(),\n",
    "                        })\n",
    "print pd.DataFrame(data={'y_train ret': pd.Series(y_train[:,1]).describe(),\n",
    "                         'y_test ret': pd.Series(y_test[:,1]).describe(),\n",
    "                        })"
   ]
  },
  {
   "cell_type": "code",
   "execution_count": 41,
   "metadata": {
    "collapsed": false
   },
   "outputs": [
    {
     "name": "stdout",
     "output_type": "stream",
     "text": [
      "--- Completion ---\n",
      "best params: {'max_depth': 5}\n",
      "R2 score on train data: 0.600272909092\n",
      "R2 score on test  data: 0.587154746388\n",
      "--- Retention ---\n",
      "best params: {'max_depth': 4}\n",
      "R2 score on train data: 0.283624465426\n",
      "R2 score on test  data: 0.269202404232\n"
     ]
    },
    {
     "data": {
      "image/png": "[encoded data removed]",
      "text/plain": [
       "<matplotlib.figure.Figure at 0x112472410>"
      ]
     },
     "metadata": {},
     "output_type": "display_data"
    }
   ],
   "source": [
    "DT_reg1, DT_reg2, DT_c150_19_r2, DT_ret_19_r2 = p5lib.build_DecisionTree_model(X_train[:,:19], X_test[:,:19], y_train, y_test)"
   ]
  },
  {
   "cell_type": "code",
   "execution_count": 42,
   "metadata": {
    "collapsed": false
   },
   "outputs": [
    {
     "name": "stdout",
     "output_type": "stream",
     "text": [
      "--- Completion ---\n",
      "best params: {'max_depth': 6}\n",
      "R2 score on train data: 0.649070804475\n",
      "R2 score on test  data: 0.607194896568\n",
      "--- Retention ---\n",
      "best params: {'max_depth': 4}\n",
      "R2 score on train data: 0.283694064177\n",
      "R2 score on test  data: 0.269364115357\n"
     ]
    },
    {
     "data": {
      "image/png": "[encoded data removed]",
      "text/plain": [
       "<matplotlib.figure.Figure at 0x112285610>"
      ]
     },
     "metadata": {},
     "output_type": "display_data"
    }
   ],
   "source": [
    "DT_reg1, DT_reg2, DT_c150_r2, DT_ret_r2 = p5lib.build_DecisionTree_model(X_train, X_test, y_train, y_test)"
   ]
  },
  {
   "cell_type": "code",
   "execution_count": 43,
   "metadata": {
    "collapsed": false
   },
   "outputs": [
    {
     "name": "stdout",
     "output_type": "stream",
     "text": [
      "--- Completion ---\n",
      "best params: {'epsilon': 0.10000000000000001, 'C': 0.10000000000000001, 'gamma': 0.10000000000000001}\n",
      "R2 score on train data: 0.730226433342\n",
      "R2 score on test  data: 0.656940070571\n",
      "--- Retention ---\n",
      "best params: {'epsilon': 0.10000000000000001, 'C': 0.10000000000000001, 'gamma': 0.10000000000000001}\n",
      "R2 score on train data: 0.453793727776\n",
      "R2 score on test  data: 0.412566274221\n"
     ]
    },
    {
     "data": {
      "image/png": "[encoded data removed]",
      "text/plain": [
       "<matplotlib.figure.Figure at 0x10f6d9050>"
      ]
     },
     "metadata": {},
     "output_type": "display_data"
    }
   ],
   "source": [
    "SVR_reg1, SVR_reg2, SVR_c150_15_r2, SVR_ret_15_r2 = p5lib.build_SVR_model(X_train[:,:15], X_test[:,:15], y_train, y_test)"
   ]
  },
  {
   "cell_type": "code",
   "execution_count": 44,
   "metadata": {
    "collapsed": false
   },
   "outputs": [
    {
     "name": "stdout",
     "output_type": "stream",
     "text": [
      "--- Completion ---\n",
      "best params: {'epsilon': 0.10000000000000001, 'C': 0.10000000000000001, 'gamma': 0.10000000000000001}\n",
      "R2 score on train data: 0.74096865124\n",
      "R2 score on test  data: 0.663657029944\n",
      "--- Retention ---\n",
      "best params: {'epsilon': 0.10000000000000001, 'C': 0.10000000000000001, 'gamma': 0.10000000000000001}\n",
      "R2 score on train data: 0.469969826444\n",
      "R2 score on test  data: 0.417447883338\n"
     ]
    },
    {
     "data": {
      "image/png": "[encoded data removed]",
      "text/plain": [
       "<matplotlib.figure.Figure at 0x112594b50>"
      ]
     },
     "metadata": {},
     "output_type": "display_data"
    }
   ],
   "source": [
    "SVR_reg1, SVR_reg2, SVR_c150_19_r2, SVR_ret_19_r2 = p5lib.build_SVR_model(X_train[:,:19], X_test[:,:19], y_train, y_test)"
   ]
  },
  {
   "cell_type": "code",
   "execution_count": 45,
   "metadata": {
    "collapsed": false
   },
   "outputs": [
    {
     "name": "stdout",
     "output_type": "stream",
     "text": [
      "--- Completion ---\n",
      "best params: {'epsilon': 0.10000000000000001, 'C': 0.10000000000000001, 'gamma': 0.10000000000000001}\n",
      "R2 score on train data: 0.756965948118\n",
      "R2 score on test  data: 0.670815296011\n",
      "--- Retention ---\n",
      "best params: {'epsilon': 0.10000000000000001, 'C': 0.10000000000000001, 'gamma': 0.10000000000000001}\n",
      "R2 score on train data: 0.488136250271\n",
      "R2 score on test  data: 0.421790288761\n"
     ]
    },
    {
     "data": {
      "image/png": "[encoded data removed]",
      "text/plain": [
       "<matplotlib.figure.Figure at 0x11221f850>"
      ]
     },
     "metadata": {},
     "output_type": "display_data"
    }
   ],
   "source": [
    "SVR_reg1, SVR_reg2, SVR_c150_r2, SVR_ret_r2 = p5lib.build_SVR_model(X_train, X_test, y_train, y_test)"
   ]
  },
  {
   "cell_type": "code",
   "execution_count": 46,
   "metadata": {
    "collapsed": false
   },
   "outputs": [
    {
     "name": "stdout",
     "output_type": "stream",
     "text": [
      "--- Completion ---\n",
      "best params: {'n_neighbors': 13}\n",
      "R2 score on train data: 0.727153705365\n",
      "R2 score on test  data: 0.678213760229\n",
      "--- Retention ---\n",
      "best params: {'n_neighbors': 18}\n",
      "R2 score on train data: 0.420553909151\n",
      "R2 score on test  data: 0.417833998821\n"
     ]
    },
    {
     "data": {
      "image/png": "[encoded data removed]",
      "text/plain": [
       "<matplotlib.figure.Figure at 0x10f6d9790>"
      ]
     },
     "metadata": {},
     "output_type": "display_data"
    }
   ],
   "source": [
    "KNN_reg1, KNN_reg2, KNN_c150_19_r2, KNN_ret_19_r2 = p5lib.build_KNN_model(X_train[:,:19], X_test[:,:19], y_train, y_test)"
   ]
  },
  {
   "cell_type": "code",
   "execution_count": 47,
   "metadata": {
    "collapsed": false
   },
   "outputs": [
    {
     "name": "stdout",
     "output_type": "stream",
     "text": [
      "--- Completion ---\n",
      "best params: {'n_neighbors': 11}\n",
      "R2 score on train data: 0.73371721234\n",
      "R2 score on test  data: 0.686388787644\n",
      "--- Retention ---\n",
      "best params: {'n_neighbors': 18}\n",
      "R2 score on train data: 0.423246088048\n",
      "R2 score on test  data: 0.414645714861\n"
     ]
    },
    {
     "data": {
      "image/png": "[encoded data removed]",
      "text/plain": [
       "<matplotlib.figure.Figure at 0x1125e7bd0>"
      ]
     },
     "metadata": {},
     "output_type": "display_data"
    }
   ],
   "source": [
    "KNN_reg1, KNN_reg2, KNN_c150_r2, KNN_ret_r2 = p5lib.build_KNN_model(X_train, X_test, y_train, y_test)"
   ]
  },
  {
   "cell_type": "code",
   "execution_count": 48,
   "metadata": {
    "collapsed": false
   },
   "outputs": [
    {
     "name": "stdout",
     "output_type": "stream",
     "text": [
      "--- Completion ---\n",
      "R2 score on train data: 0.950306017345\n",
      "R2 score on test  data: 0.671988418926\n",
      "--- Retention ---\n",
      "R2 score on train data: 0.904161553939\n",
      "R2 score on test  data: 0.398615805052\n"
     ]
    },
    {
     "data": {
      "image/png": "[encoded data removed]",
      "text/plain": [
       "<matplotlib.figure.Figure at 0x13d8773d0>"
      ]
     },
     "metadata": {},
     "output_type": "display_data"
    }
   ],
   "source": [
    "RForest_reg1, RForest_reg2, RF_c150_19_r2, RF_ret_19_r2 = p5lib.build_RandomForest_model(X_train[:,:19], X_test[:,:19], y_train, y_test, n_estimators=50)"
   ]
  },
  {
   "cell_type": "code",
   "execution_count": 49,
   "metadata": {
    "collapsed": false
   },
   "outputs": [
    {
     "name": "stdout",
     "output_type": "stream",
     "text": [
      "--- Completion ---\n",
      "R2 score on train data: 0.953844184193\n",
      "R2 score on test  data: 0.690896684622\n",
      "--- Retention ---\n",
      "R2 score on train data: 0.903882358951\n",
      "R2 score on test  data: 0.415901495756\n"
     ]
    },
    {
     "data": {
      "image/png": "[encoded data removed]",
      "text/plain": [
       "<matplotlib.figure.Figure at 0x112653450>"
      ]
     },
     "metadata": {},
     "output_type": "display_data"
    }
   ],
   "source": [
    "RForest_reg1, RForest_reg2, RF_c150_r2, RF_ret_r2 = p5lib.build_RandomForest_model(X_train, X_test, y_train, y_test, n_estimators=50)"
   ]
  },
  {
   "cell_type": "code",
   "execution_count": 50,
   "metadata": {
    "collapsed": false
   },
   "outputs": [
    {
     "name": "stdout",
     "output_type": "stream",
     "text": [
      "--- Completion ---\n",
      "R2 score on train data: 0.957293970555\n",
      "R2 score on test  data: 0.696639117217\n",
      "--- Retention ---\n",
      "R2 score on train data: 0.913357543572\n",
      "R2 score on test  data: 0.425392560161\n"
     ]
    },
    {
     "data": {
      "image/png": "[encoded data removed]",
      "text/plain": [
       "<matplotlib.figure.Figure at 0x13d8631d0>"
      ]
     },
     "metadata": {},
     "output_type": "display_data"
    }
   ],
   "source": [
    "RForest_reg1, RForest_reg2, RF_c150_best_r2, RF_ret_best_r2 = p5lib.build_RandomForest_model(X_train, X_test, y_train, y_test, n_estimators=400)"
   ]
  },
  {
   "cell_type": "code",
   "execution_count": 58,
   "metadata": {
    "collapsed": false,
    "scrolled": false
   },
   "outputs": [
    {
     "data": {
      "image/png": "[encoded data removed]",
      "text/plain": [
       "<matplotlib.figure.Figure at 0x13d80f590>"
      ]
     },
     "metadata": {},
     "output_type": "display_data"
    },
    {
     "data": {
      "image/png": "[encoded data removed]",
      "text/plain": [
       "<matplotlib.figure.Figure at 0x1122f1b50>"
      ]
     },
     "metadata": {},
     "output_type": "display_data"
    }
   ],
   "source": [
    "c150_r2 = [DT_c150_19_r2, SVR_c150_19_r2, KNN_c150_19_r2, RF_c150_19_r2]\n",
    "ret_r2 = [DT_ret_19_r2, SVR_ret_19_r2, KNN_ret_19_r2, RF_ret_19_r2]\n",
    "\n",
    "plt.title('R2 score / completion models (19 features)')\n",
    "ax = plt.subplot(111)\n",
    "ax.set_ylim([0.4, 0.75])\n",
    "ax.bar(np.array(range(4)), c150_r2)\n",
    "plt.ylabel('R2 score')\n",
    "plt.xticks(np.array(range(5))+ 0.4, ['DTree', 'SVR', 'KNN', 'RForest(50)'])\n",
    "plt.show()\n",
    "\n",
    "plt.title('R2 score / retention models (19 features)')\n",
    "ax = plt.subplot(111)\n",
    "ax.set_ylim([0.18, 0.45])\n",
    "ax.bar(np.array(range(4)), ret_r2)\n",
    "plt.ylabel('R2 score')\n",
    "plt.xticks(np.array(range(5))+ 0.4, ['DTree', 'SVR', 'KNN', 'RForest(50)'])\n",
    "plt.show()\n",
    "\n"
   ]
  },
  {
   "cell_type": "code",
   "execution_count": 52,
   "metadata": {
    "collapsed": false
   },
   "outputs": [
    {
     "data": {
      "image/png": "[encoded data removed]",
      "text/plain": [
       "<matplotlib.figure.Figure at 0x1125e8a90>"
      ]
     },
     "metadata": {},
     "output_type": "display_data"
    },
    {
     "data": {
      "image/png": "[encoded data removed]",
      "text/plain": [
       "<matplotlib.figure.Figure at 0x13d877850>"
      ]
     },
     "metadata": {},
     "output_type": "display_data"
    }
   ],
   "source": [
    "# compare the r2 score of the model with 19 and 83 features \n",
    "c150_r2 = [SVR_c150_r2, KNN_c150_r2, RF_c150_r2, RF_c150_best_r2]\n",
    "ret_r2  = [SVR_ret_r2, KNN_ret_r2, RF_ret_r2, RF_ret_best_r2]\n",
    "\n",
    "c150_19_r2 = [SVR_c150_19_r2, KNN_c150_19_r2, RF_c150_19_r2, 0]\n",
    "ret_19_r2  = [SVR_ret_19_r2, KNN_ret_19_r2, RF_ret_19_r2, 0]\n",
    "\n",
    "\n",
    "plt.title('R2 score / completion models - 19 vs 83 features')\n",
    "ax = plt.subplot(111)\n",
    "ax.set_ylim([0.6, 0.75])\n",
    "ax.bar(np.array(range(4)), c150_19_r2, width=0.4, color='grey')\n",
    "ax.bar(np.array(range(4))+0.4, c150_r2, width=0.4, color='b')\n",
    "\n",
    "plt.ylabel('R2 score')\n",
    "plt.xticks(np.array(range(5))+ 0.4, ['SVR', 'KNN', 'RForest(50)', 'RForest(400)'])\n",
    "plt.show()\n",
    "\n",
    "plt.title('R2 score / retention models - 19 vs 83 features')\n",
    "ax = plt.subplot(111)\n",
    "ax.set_ylim([0.3, 0.45])\n",
    "ax.bar(np.array(range(4)), ret_19_r2, width=0.4, color='grey')\n",
    "ax.bar(np.array(range(4))+0.4, ret_r2, width=0.4, color='b')\n",
    "\n",
    "plt.ylabel('R2 score')\n",
    "plt.xticks(np.array(range(5))+ 0.4, ['SVR', 'KNN', 'RForest(50)', 'RForest(400)'])\n",
    "plt.show()\n"
   ]
  },
  {
   "cell_type": "code",
   "execution_count": 53,
   "metadata": {
    "collapsed": false
   },
   "outputs": [
    {
     "name": "stdout",
     "output_type": "stream",
     "text": [
      "--- Completion ---\n",
      "R2 score on train data: 0.956741194402\n",
      "R2 score on test  data: 0.69700666435\n",
      "--- Retention ---\n",
      "R2 score on train data: 0.922656064255\n",
      "R2 score on test  data: 0.43201732189\n"
     ]
    }
   ],
   "source": [
    "from sklearn.ensemble import RandomForestRegressor\n",
    "\n",
    "# convert 1 dimensional N array into 2 dimensional Nx1\n",
    "def reshape_y(y):\n",
    "    return y.reshape((len(y), 1))\n",
    "\n",
    "# build the model for Retention (y2) using the Completion data (y1)\n",
    "# So the Retention model uses the prediction result from the Completion model\n",
    "# Because we feed the prediction from completion model to the retention model, let's call this nested model\n",
    "def build_RandomForest_model_nested(X_train, X_test, y_train, y_test, n_estimators=50):\n",
    "    y1_train, y1_test, y2_train, y2_test = p5lib.split_y(y_train, y_test)\n",
    "\n",
    "    reg1 = RandomForestRegressor(n_estimators=n_estimators)\n",
    "    reg1.fit(X_train, y1_train)\n",
    "\n",
    "    reg2 = RandomForestRegressor(n_estimators=n_estimators)\n",
    "    \n",
    "    X_train1 = np.concatenate((X_train, reshape_y(y1_train)), axis=1)\n",
    "    reg2.fit(X_train1, y2_train)\n",
    "\n",
    "    print \"--- Completion ---\"\n",
    "    p5lib.print_r2score(reg1, X_train, y1_train)\n",
    "    r2score_reg1 = p5lib.print_r2score(reg1, X_test, y1_test, test=True)\n",
    "\n",
    "    print \"--- Retention ---\"\n",
    "    p5lib.print_r2score(reg2, X_train1, y2_train)\n",
    "    y1_test_predicted = reg1.predict(X_test)\n",
    "    X_test1 = np.concatenate((X_test, reshape_y(y1_test_predicted)), axis=1)\n",
    "    r2score_reg2 = p5lib.print_r2score(reg2, X_test1, y2_test, test=True)\n",
    "\n",
    "    return (reg1, reg2, r2score_reg1, r2score_reg2)\n",
    "\n",
    "RForest_nested_reg1, RForest_nested_reg2, RF_c150_nested_r2, RF_ret_nested_r2 = \\\n",
    "    build_RandomForest_model_nested(X_train, X_test, y_train, y_test, n_estimators=400)\n"
   ]
  },
  {
   "cell_type": "code",
   "execution_count": 54,
   "metadata": {
    "collapsed": false
   },
   "outputs": [
    {
     "data": {
      "image/png": "[encoded data removed]",
      "text/plain": [
       "<matplotlib.figure.Figure at 0x10fd4d310>"
      ]
     },
     "metadata": {},
     "output_type": "display_data"
    }
   ],
   "source": [
    "# Comparison of r2 score between simple vs nested model (using RandomForest with 400 estimators) \n",
    "ret_r2  = [RF_ret_best_r2, RF_ret_nested_r2]\n",
    "\n",
    "plt.title('Rand Forest Retention model - simple vs nested')\n",
    "ax = plt.subplot(111)\n",
    "ax.set_ylim([0.30, 0.45])\n",
    "ax.bar(np.array(range(2)), ret_r2, width=0.8, color='b')\n",
    "\n",
    "plt.ylabel('R2 score')\n",
    "plt.xticks(np.array(range(2)) + 0.4, ['Simple', 'Nested'])\n",
    "plt.show()\n"
   ]
  },
  {
   "cell_type": "code",
   "execution_count": 55,
   "metadata": {
    "collapsed": false
   },
   "outputs": [
    {
     "name": "stdout",
     "output_type": "stream",
     "text": [
      "--- Completion ---\n",
      "R2 score on train data: 0.756965948118\n",
      "R2 score on test  data: 0.670815296011\n",
      "--- Retention ---\n",
      "R2 score on train data: 0.516232450896\n",
      "R2 score on test  data: 0.419439974242\n"
     ]
    }
   ],
   "source": [
    "from sklearn.svm import SVR\n",
    "from sklearn.grid_search import GridSearchCV\n",
    "\n",
    "# build the model for Retention (y2) using the Completion data (y1)\n",
    "# So the Retention model uses the prediction result from the Completion model\n",
    "# Because we feed the prediction from completion model to the retention model, let's call this nested model\n",
    "def build_SVR_model_nested(X_train, X_test, y_train, y_test, cv=3, params=None):\n",
    "    y1_train, y1_test, y2_train, y2_test = p5lib.split_y(y_train, y_test)\n",
    "\n",
    "    if params == None:\n",
    "        params = {'C': np.logspace(-1, 1, 2), 'gamma': np.logspace(-1, 1, 2), 'epsilon': np.logspace(-1, 1, 2)}\n",
    "    reg = SVR()\n",
    "    scorer = p5lib.scorer\n",
    "    reg1 = GridSearchCV(reg, params, scoring=scorer, cv=cv)\n",
    "    reg1.fit(X_train, y1_train)\n",
    "\n",
    "    reg = SVR()\n",
    "    reg2 = GridSearchCV(reg, params, scoring=scorer, cv=cv)\n",
    "    X_train1 = np.concatenate((X_train, reshape_y(y1_train)), axis=1)\n",
    "    reg2.fit(X_train1, y2_train)\n",
    "\n",
    "    print \"--- Completion ---\"\n",
    "    p5lib.print_r2score(reg1, X_train, y1_train)\n",
    "    r2score_reg1 = p5lib.print_r2score(reg1, X_test, y1_test, test=True)\n",
    "\n",
    "    print \"--- Retention ---\"\n",
    "    p5lib.print_r2score(reg2, X_train1, y2_train)\n",
    "    y1_test_predicted = reg1.predict(X_test)\n",
    "    X_test1 = np.concatenate((X_test, reshape_y(y1_test_predicted)), axis=1)\n",
    "    r2score_reg2 = p5lib.print_r2score(reg2, X_test1, y2_test, test=True)\n",
    "\n",
    "    return (reg1, reg2, r2score_reg1, r2score_reg2)\n",
    "\n",
    "SVR_nested_reg1, SVR_nested_reg2, SVR_c150_nested_r2, SVR_ret_nested_r2 = \\\n",
    "    build_SVR_model_nested(X_train, X_test, y_train, y_test)\n"
   ]
  },
  {
   "cell_type": "code",
   "execution_count": 56,
   "metadata": {
    "collapsed": false
   },
   "outputs": [
    {
     "data": {
      "image/png": "[encoded data removed]",
      "text/plain": [
       "<matplotlib.figure.Figure at 0x112254950>"
      ]
     },
     "metadata": {},
     "output_type": "display_data"
    }
   ],
   "source": [
    "# Comparison of r2 score between simple vs nested model (using SVR model) \n",
    "ret_r2  = [SVR_ret_r2, SVR_ret_nested_r2]\n",
    "\n",
    "plt.title('SVR Retention model - simple vs nested')\n",
    "ax = plt.subplot(111)\n",
    "ax.set_ylim([0.30, 0.45])\n",
    "ax.bar(np.array(range(2)), ret_r2, width=0.8, color='b')\n",
    "\n",
    "plt.ylabel('R2 score')\n",
    "plt.xticks(np.array(range(2)) + 0.4, ['Simple', 'Nested'])\n",
    "plt.show()\n"
   ]
  },
  {
   "cell_type": "code",
   "execution_count": 57,
   "metadata": {
    "collapsed": false
   },
   "outputs": [
    {
     "name": "stdout",
     "output_type": "stream",
     "text": [
      "Statistical analysis of difference in result when the input have small changes\n"
     ]
    },
    {
     "data": {
      "image/png": "[encoded data removed]",
      "text/plain": [
       "<matplotlib.figure.Figure at 0x106763fd0>"
      ]
     },
     "metadata": {},
     "output_type": "display_data"
    },
    {
     "data": {
      "image/png": "[encoded data removed]",
      "text/plain": [
       "<matplotlib.figure.Figure at 0x10ff4ff90>"
      ]
     },
     "metadata": {},
     "output_type": "display_data"
    },
    {
     "data": {
      "image/png": "[encoded data removed]",
      "text/plain": [
       "<matplotlib.figure.Figure at 0x112236690>"
      ]
     },
     "metadata": {},
     "output_type": "display_data"
    }
   ],
   "source": [
    "## Sensitivity analysis\n",
    "def final_nested_model_predict(reg1, reg2, X):\n",
    "    y1_predicted = reg1.predict(X)\n",
    "    X1 = np.concatenate((X, reshape_y(y1_predicted)), axis=1)\n",
    "    y2_predicted = reg2.predict(X1)\n",
    "    return y1_predicted, y2_predicted\n",
    "\n",
    "def final_model_predict(reg1, reg2, X):\n",
    "    y1_predicted = reg1.predict(X)\n",
    "    y2_predicted = reg2.predict(X)\n",
    "    return y1_predicted, y2_predicted\n",
    "\n",
    "def sensitivity_analysis(reg1, reg2, data, title=''):\n",
    "    delta_y1, delta_y2 = [], []\n",
    "    \n",
    "    for i, row in enumerate(data):\n",
    "        X_nearby = row.copy()\n",
    "        for j, a in enumerate(X_nearby):\n",
    "            span = X_train[:,j].max() - X_train[:,j].min()\n",
    "            if j < 15:\n",
    "                X_nearby[j] += span/200\n",
    "\n",
    "        y1p, y2p = final_model_predict(reg1, reg2, [row]) # predicted value\n",
    "        y1pn, y2pn = final_model_predict(reg1, reg2, [X_nearby]) # predicted nearby value\n",
    "        delta_y1.append(abs(y1pn[0] - y1p[0]))\n",
    "        delta_y2.append(abs(y2pn[0] - y2p[0]))\n",
    "    \n",
    "    plt.title(\"{} sensitivity analysis\".format(title))\n",
    "    plt.boxplot([delta_y1, delta_y2], labels=['completion', 'retention'])\n",
    "    plt.show()\n",
    "\n",
    "print \"Statistical analysis of difference in result when the input have small changes\"\n",
    "# Just test on a subset of the data (because it's really slow)\n",
    "X_train_subset = X_train[np.random.choice(len(X_train), 100, replace=False)]\n",
    "\n",
    "sensitivity_analysis(RForest_reg1, RForest_reg2, data=X_train_subset, title='RandomForest')\n",
    "sensitivity_analysis(SVR_reg1, SVR_reg2, data=X_train_subset, title='SVR')\n",
    "sensitivity_analysis(KNN_reg1, KNN_reg2, data=X_train_subset, title='KNN')\n"
   ]
  },
  {
   "cell_type": "code",
   "execution_count": null,
   "metadata": {
    "collapsed": false
   },
   "outputs": [],
   "source": [
    "    "
   ]
  },
  {
   "cell_type": "code",
   "execution_count": null,
   "metadata": {
    "collapsed": false
   },
   "outputs": [],
   "source": []
  },
  {
   "cell_type": "code",
   "execution_count": null,
   "metadata": {
    "collapsed": false
   },
   "outputs": [],
   "source": []
  },
  {
   "cell_type": "code",
   "execution_count": null,
   "metadata": {
    "collapsed": false
   },
   "outputs": [],
   "source": []
  },
  {
   "cell_type": "code",
   "execution_count": null,
   "metadata": {
    "collapsed": false
   },
   "outputs": [],
   "source": []
  },
  {
   "cell_type": "code",
   "execution_count": null,
   "metadata": {
    "collapsed": true
   },
   "outputs": [],
   "source": []
  }
 ],
 "metadata": {
  "kernelspec": {
   "display_name": "Python 2",
   "language": "python",
   "name": "python2"
  },
  "language_info": {
   "codemirror_mode": {
    "name": "ipython",
    "version": 2
   },
   "file_extension": ".py",
   "mimetype": "text/x-python",
   "name": "python",
   "nbconvert_exporter": "python",
   "pygments_lexer": "ipython2",
   "version": "2.7.10"
  }
 },
 "nbformat": 4,
 "nbformat_minor": 0
}
