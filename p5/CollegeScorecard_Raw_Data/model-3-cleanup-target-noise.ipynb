{
 "cells": [
  {
   "cell_type": "code",
   "execution_count": 1,
   "metadata": {
    "collapsed": true
   },
   "outputs": [],
   "source": [
    "import pandas as pd\n",
    "import numpy as np\n",
    "import matplotlib.pyplot as plt\n",
    "import re\n",
    "import sys\n",
    "import p5lib\n",
    "\n",
    "%matplotlib inline"
   ]
  },
  {
   "cell_type": "code",
   "execution_count": 2,
   "metadata": {
    "collapsed": false
   },
   "outputs": [
    {
     "name": "stdout",
     "output_type": "stream",
     "text": [
      "Number of features: 1729\n",
      "Number of rows: 7804\n"
     ]
    },
    {
     "name": "stderr",
     "output_type": "stream",
     "text": [
      "/usr/local/lib/python2.7/site-packages/IPython/core/interactiveshell.py:2902: DtypeWarning: Columns (7,9,1427,1542,1561,1575,1725,1726,1727,1728) have mixed types. Specify dtype option on import or set low_memory=False.\n",
      "  interactivity=interactivity, compiler=compiler, result=result)\n"
     ]
    }
   ],
   "source": [
    "data = pd.read_csv('MERGED2013_PP.csv')\n",
    "print \"Number of features: {}\".format(len(data.columns))\n",
    "print \"Number of rows: {}\".format(len(data))"
   ]
  },
  {
   "cell_type": "code",
   "execution_count": 3,
   "metadata": {
    "collapsed": false
   },
   "outputs": [
    {
     "name": "stdout",
     "output_type": "stream",
     "text": [
      "(6007, 42)\n"
     ]
    }
   ],
   "source": [
    "data = p5lib.preprocess_data(data)\n",
    "print data.shape"
   ]
  },
  {
   "cell_type": "code",
   "execution_count": 46,
   "metadata": {
    "collapsed": false
   },
   "outputs": [
    {
     "ename": "ValueError",
     "evalue": "The truth value of a Series is ambiguous. Use a.empty, a.bool(), a.item(), a.any() or a.all().",
     "output_type": "error",
     "traceback": [
      "\u001b[0;31m---------------------------------------------------------------------------\u001b[0m",
      "\u001b[0;31mValueError\u001b[0m                                Traceback (most recent call last)",
      "\u001b[0;32m<ipython-input-46-1b587c05676e>\u001b[0m in \u001b[0;36m<module>\u001b[0;34m()\u001b[0m\n\u001b[1;32m      6\u001b[0m           \u001b[0;34m'SAT_AVG_ALL'\u001b[0m\u001b[0;34m,\u001b[0m \u001b[0;34m'ACTCMMID'\u001b[0m\u001b[0;34m,\u001b[0m \u001b[0;34m'ADM_RATE_ALL'\u001b[0m\u001b[0;34m,\u001b[0m \u001b[0;34m'AVGFACSAL'\u001b[0m\u001b[0;34m,\u001b[0m \u001b[0;34m'COSTT4_A'\u001b[0m\u001b[0;34m,\u001b[0m\u001b[0;34m\u001b[0m\u001b[0m\n\u001b[1;32m      7\u001b[0m           'C150', 'RET_FT']]\n\u001b[0;32m----> 8\u001b[0;31m \u001b[0;32mprint\u001b[0m \u001b[0mtype\u001b[0m\u001b[0;34m(\u001b[0m\u001b[0;34m(\u001b[0m\u001b[0mX\u001b[0m\u001b[0;34m.\u001b[0m\u001b[0mC150\u001b[0m \u001b[0;34m==\u001b[0m \u001b[0;36m1\u001b[0m\u001b[0;34m)\u001b[0m \u001b[0;32mand\u001b[0m \u001b[0;34m(\u001b[0m\u001b[0mX\u001b[0m\u001b[0;34m.\u001b[0m\u001b[0mRET_FT\u001b[0m \u001b[0;34m==\u001b[0m \u001b[0;36m0\u001b[0m\u001b[0;34m)\u001b[0m\u001b[0;34m)\u001b[0m\u001b[0;34m\u001b[0m\u001b[0m\n\u001b[0m\u001b[1;32m      9\u001b[0m \u001b[0;31m# X = X[~(X.C150 == 1)]\u001b[0m\u001b[0;34m\u001b[0m\u001b[0;34m\u001b[0m\u001b[0m\n\u001b[1;32m     10\u001b[0m \u001b[0;31m# X = X[~(X.C150 == 0)]\u001b[0m\u001b[0;34m\u001b[0m\u001b[0;34m\u001b[0m\u001b[0m\n",
      "\u001b[0;32m/usr/local/lib/python2.7/site-packages/pandas/core/generic.pyc\u001b[0m in \u001b[0;36m__nonzero__\u001b[0;34m(self)\u001b[0m\n\u001b[1;32m    729\u001b[0m         raise ValueError(\"The truth value of a {0} is ambiguous. \"\n\u001b[1;32m    730\u001b[0m                          \u001b[0;34m\"Use a.empty, a.bool(), a.item(), a.any() or a.all().\"\u001b[0m\u001b[0;34m\u001b[0m\u001b[0m\n\u001b[0;32m--> 731\u001b[0;31m                          .format(self.__class__.__name__))\n\u001b[0m\u001b[1;32m    732\u001b[0m \u001b[0;34m\u001b[0m\u001b[0m\n\u001b[1;32m    733\u001b[0m     \u001b[0m__bool__\u001b[0m \u001b[0;34m=\u001b[0m \u001b[0m__nonzero__\u001b[0m\u001b[0;34m\u001b[0m\u001b[0m\n",
      "\u001b[0;31mValueError\u001b[0m: The truth value of a Series is ambiguous. Use a.empty, a.bool(), a.item(), a.any() or a.all()."
     ]
    }
   ],
   "source": [
    "\n",
    "X = data[['CONTROL', 'DEBT_MDN', 'DEP_INC_AVG', 'GRAD_DEBT_MDN', 'IND_INC_AVG', 'INEXPFTE', 'PAR_ED_PCT_1STGEN', \n",
    "          'PAR_ED_PCT_HS', 'PAR_ED_PCT_MS', 'PAR_ED_PCT_PS', 'PCTFLOAN', 'PCTPELL', 'UG25abv', 'UGDS', \n",
    "          'WDRAW_DEBT_MDN', 'L4_COLLEGE', 'NPT4', 'NUM4', \n",
    "          'PFTFTUG1_EF', 'PFTFAC',\n",
    "          'SAT_AVG_ALL', 'ACTCMMID', 'ADM_RATE_ALL', 'AVGFACSAL', 'COSTT4_A',\n",
    "          'C150', 'RET_FT']]\n",
    "print type((X.C150 == 1) and (X.RET_FT == 0))\n",
    "# X = X[~(X.C150 == 1)]\n",
    "# X = X[~(X.C150 == 0)]\n",
    "# X = X[~(X.RET_FT == 1)]\n",
    "# X = X[~(X.RET_FT == 0)]\n",
    "\n",
    "# y = X[['C150', 'RET_FT']]\n",
    "# X = X.drop('C150', 1)\n",
    "# X = X.drop('RET_FT', 1)\n",
    "# print X.shape\n",
    "# print y.shape\n"
   ]
  },
  {
   "cell_type": "code",
   "execution_count": 20,
   "metadata": {
    "collapsed": true
   },
   "outputs": [],
   "source": [
    "fill_cols_with_mean = ['DEBT_MDN', 'DEP_INC_AVG', 'GRAD_DEBT_MDN', 'IND_INC_AVG', 'INEXPFTE', 'WDRAW_DEBT_MDN',\n",
    "                       'PAR_ED_PCT_1STGEN', 'PAR_ED_PCT_HS', 'PAR_ED_PCT_MS', 'PAR_ED_PCT_PS', 'PCTFLOAN', 'PCTPELL', \n",
    "                       'UG25abv', 'NPT4', 'NUM4', 'PFTFTUG1_EF', 'PFTFAC', 'SAT_AVG_ALL', 'ACTCMMID', 'ADM_RATE_ALL', \n",
    "                       'AVGFACSAL', 'COSTT4_A']\n",
    "for col in fill_cols_with_mean:\n",
    "    X[col] = X[col].fillna(X[col].mean())"
   ]
  },
  {
   "cell_type": "code",
   "execution_count": 21,
   "metadata": {
    "collapsed": false
   },
   "outputs": [
    {
     "name": "stdout",
     "output_type": "stream",
     "text": [
      "Number of available data for each feature (not counting the NaN values)\n",
      "CONTROL             Control (public/private)                      5679\n",
      "DEBT_MDN            Median debt                                   5679\n",
      "DEP_INC_AVG         Avg income dependent stu                      5679\n",
      "GRAD_DEBT_MDN       Median debt complete                          5679\n",
      "IND_INC_AVG         Avg income independent stu                    5679\n",
      "INEXPFTE            Expense per FTE student                       5679\n",
      "PAR_ED_PCT_1STGEN   % 1st gen students                            5679\n",
      "PAR_ED_PCT_HS       % parent education high school                5679\n",
      "PAR_ED_PCT_MS       % parent education middle school              5679\n",
      "PAR_ED_PCT_PS       % parent education post secondary             5679\n",
      "PCTFLOAN            % Fed student loan                            5679\n",
      "PCTPELL             % Pell Grant receiver                         5679\n",
      "UG25abv             % undergrad > 25 yr                           5679\n",
      "UGDS                Number of Undergrad degree seeking            5679\n",
      "WDRAW_DEBT_MDN      Median debt non-completer                     5679\n",
      "L4_COLLEGE          <4 years college                              5679\n",
      "NPT4                Avg net price Title IV                        5679\n",
      "NUM4                Num Title IV student                          5679\n",
      "PFTFTUG1_EF         Undergrad 1st-time degree seeking             5679\n",
      "PFTFAC              Full time faculty rate                        5679\n",
      "SAT_AVG_ALL         SAT all                                       5679\n",
      "ACTCMMID            ACT                                           5679\n",
      "ADM_RATE_ALL        Admission rate                                5679\n",
      "AVGFACSAL           Avg faculty salary                            5679\n",
      "COSTT4_A            Avg cost academic year                        5679\n"
     ]
    }
   ],
   "source": [
    "p5lib.print_num_data_for_each_features(X)"
   ]
  },
  {
   "cell_type": "code",
   "execution_count": 22,
   "metadata": {
    "collapsed": false
   },
   "outputs": [
    {
     "name": "stdout",
     "output_type": "stream",
     "text": [
      "(5679, 23)\n"
     ]
    }
   ],
   "source": [
    "from sklearn import preprocessing\n",
    "\n",
    "tmpX = X[['DEBT_MDN', 'DEP_INC_AVG', 'GRAD_DEBT_MDN', 'IND_INC_AVG', 'INEXPFTE', 'UGDS', 'WDRAW_DEBT_MDN', 'NPT4', \n",
    "          'NUM4', 'SAT_AVG_ALL', 'ACTCMMID', 'AVGFACSAL', 'COSTT4_A']]\n",
    "\n",
    "scaler = preprocessing.MinMaxScaler()\n",
    "scaledX = scaler.fit_transform(tmpX)\n",
    "\n",
    "pctX = X[['PAR_ED_PCT_1STGEN', 'PAR_ED_PCT_HS', 'PAR_ED_PCT_MS', 'PAR_ED_PCT_PS', 'PCTFLOAN', 'PCTPELL', 'UG25abv', \n",
    "          'PFTFTUG1_EF', 'PFTFAC', 'ADM_RATE_ALL']]\n",
    "pctX = np.array(pctX)\n",
    "\n",
    "forPcaX = np.concatenate((scaledX, pctX), axis=1)\n",
    "# print scaledX.shape\n",
    "# print pctX.shape\n",
    "print forPcaX.shape\n"
   ]
  },
  {
   "cell_type": "code",
   "execution_count": 23,
   "metadata": {
    "collapsed": false
   },
   "outputs": [
    {
     "name": "stdout",
     "output_type": "stream",
     "text": [
      "[  3.17458069e-01   2.18690648e-01   1.14152021e-01   7.20907501e-02\n",
      "   5.85495814e-02   5.05199896e-02   3.61521430e-02   2.88999116e-02\n",
      "   2.24281183e-02   1.66695153e-02   1.60975749e-02   1.04620074e-02\n",
      "   8.22713765e-03   6.58827899e-03   6.09738337e-03   4.53253358e-03\n",
      "   4.17314314e-03   3.52558818e-03   2.97649547e-03   8.99144645e-04\n",
      "   3.77359463e-04   3.11746877e-04   1.20859669e-04]\n"
     ]
    }
   ],
   "source": [
    "from sklearn.decomposition import PCA\n",
    "\n",
    "pca = PCA(n_components=forPcaX.shape[1])\n",
    "pca.fit(forPcaX)\n",
    "\n",
    "print pca.explained_variance_ratio_\n"
   ]
  },
  {
   "cell_type": "code",
   "execution_count": 24,
   "metadata": {
    "collapsed": false
   },
   "outputs": [
    {
     "name": "stdout",
     "output_type": "stream",
     "text": [
      "(5679, 18)\n"
     ]
    }
   ],
   "source": [
    "pca = PCA(n_components=18)\n",
    "pca.fit(forPcaX)\n",
    "reducedX = pca.transform(forPcaX)\n",
    "print reducedX.shape"
   ]
  },
  {
   "cell_type": "code",
   "execution_count": 25,
   "metadata": {
    "collapsed": false
   },
   "outputs": [
    {
     "name": "stdout",
     "output_type": "stream",
     "text": [
      "(5679, 3)\n",
      "(5679, 1)\n",
      "(5679, 18)\n",
      "(5679, 22)\n"
     ]
    }
   ],
   "source": [
    "# add the categorical feature\n",
    "\n",
    "tmp1X = np.array(pd.get_dummies(X['CONTROL']))\n",
    "tmp2X = X['L4_COLLEGE'].astype(int)\n",
    "tmp2X = np.reshape(tmp2X, (len(tmp2X), 1)) \n",
    "print tmp1X.shape\n",
    "print tmp2X.shape\n",
    "print reducedX.shape\n",
    "finalX = np.concatenate((reducedX, tmp1X, tmp2X), axis=1)\n",
    "print finalX.shape"
   ]
  },
  {
   "cell_type": "code",
   "execution_count": 40,
   "metadata": {
    "collapsed": false
   },
   "outputs": [
    {
     "name": "stdout",
     "output_type": "stream",
     "text": [
      "(4543, 22)\n",
      "(1136, 22)\n",
      "(4543, 2)\n",
      "(1136, 2)\n"
     ]
    }
   ],
   "source": [
    "from sklearn import cross_validation as cv\n",
    "\n",
    "y = np.array(y)\n",
    "X_train, X_test, y_train, y_test = cv.train_test_split(finalX, y, train_size=0.8)\n",
    "print X_train.shape\n",
    "print X_test.shape\n",
    "print y_train.shape\n",
    "print y_test.shape"
   ]
  },
  {
   "cell_type": "code",
   "execution_count": 41,
   "metadata": {
    "collapsed": false
   },
   "outputs": [
    {
     "name": "stdout",
     "output_type": "stream",
     "text": [
      "{'epsilon': 0.10000000000000001, 'C': 10.0, 'gamma': 0.10000000000000001}\n",
      "R2 score on train data: 0.721466725969\n",
      "R2 score on test  data: 0.694863651076\n",
      "{'epsilon': 0.10000000000000001, 'C': 10.0, 'gamma': 0.10000000000000001}\n",
      "R2 score on train data: 0.424986372931\n",
      "R2 score on test  data: 0.437118522014\n"
     ]
    }
   ],
   "source": [
    "SVR_reg1, SVR_reg2 = p5lib.build_SVR_model(X_train, X_test, y_train, y_test)"
   ]
  },
  {
   "cell_type": "code",
   "execution_count": 43,
   "metadata": {
    "collapsed": false
   },
   "outputs": [
    {
     "name": "stdout",
     "output_type": "stream",
     "text": [
      "{'epsilon': 0.10000000000000001, 'C': 10.0, 'gamma': 0.10000000000000001}\n",
      "R2 score on train data: 0.721466725969\n",
      "R2 score on test  data: 0.694863651076\n",
      "{'epsilon': 0.10000000000000001, 'C': 10.0, 'gamma': 0.10000000000000001}\n",
      "R2 score on train data: 0.48254382261\n",
      "R2 score on test  data: 0.43500563102\n"
     ]
    }
   ],
   "source": [
    "from sklearn.svm import SVR\n",
    "from sklearn.grid_search import GridSearchCV\n",
    "\n",
    "scorer = p5lib.scorer\n",
    "\n",
    "y1_train, y1_test, y2_train, y2_test = p5lib.split_y(y_train, y_test)\n",
    "\n",
    "params = {'C': np.logspace(-1, 1, 2), 'gamma': np.logspace(-1, 1, 2), 'epsilon': np.logspace(-1, 1, 2)}\n",
    "reg = SVR()\n",
    "best_reg1 = GridSearchCV(reg, params, scoring=scorer, cv=5)\n",
    "best_reg1.fit(X_train, y1_train)\n",
    "\n",
    "print best_reg1.best_params_\n",
    "p5lib.print_r2score(best_reg1, X_train, y1_train)\n",
    "p5lib.print_r2score(best_reg1, X_test, y1_test, test=True)\n",
    "\n",
    "reg = SVR()\n",
    "params = {'C': np.logspace(-1, 1, 2), 'gamma': np.logspace(-1, 1, 2), 'epsilon': np.logspace(-1, 1, 2)}\n",
    "best_reg2 = GridSearchCV(reg, params, scoring=scorer, cv=5)\n",
    "\n",
    "# use the y1 data to train the y2 prediction\n",
    "reshaped_y1_train = np.reshape(y1_train, (len(y1_train), 1))\n",
    "X_train_boosted = np.concatenate((X_train, reshaped_y1_train), axis=1)\n",
    "best_reg2.fit(X_train_boosted, y2_train)\n",
    "\n",
    "print best_reg2.best_params_\n",
    "\n",
    "y1_test_prediction = best_reg1.predict(X_test) # prediction of y1 from the first model\n",
    "y1_test_prediction = np.reshape(y1_test_prediction, (len(y1_test_prediction), 1))\n",
    "X_test_boosted = np.concatenate((X_test, y1_test_prediction), axis=1)\n",
    "p5lib.print_r2score(best_reg2, X_train_boosted, y2_train)\n",
    "p5lib.print_r2score(best_reg2, X_test_boosted, y2_test, test=True)"
   ]
  },
  {
   "cell_type": "code",
   "execution_count": null,
   "metadata": {
    "collapsed": true
   },
   "outputs": [],
   "source": []
  }
 ],
 "metadata": {
  "kernelspec": {
   "display_name": "Python 2",
   "language": "python",
   "name": "python2"
  },
  "language_info": {
   "codemirror_mode": {
    "name": "ipython",
    "version": 2
   },
   "file_extension": ".py",
   "mimetype": "text/x-python",
   "name": "python",
   "nbconvert_exporter": "python",
   "pygments_lexer": "ipython2",
   "version": "2.7.10"
  }
 },
 "nbformat": 4,
 "nbformat_minor": 0
}
