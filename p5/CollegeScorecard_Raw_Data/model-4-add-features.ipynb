{
 "cells": [
  {
   "cell_type": "code",
   "execution_count": 1,
   "metadata": {
    "collapsed": true
   },
   "outputs": [],
   "source": [
    "import pandas as pd\n",
    "import numpy as np\n",
    "import matplotlib.pyplot as plt\n",
    "import re\n",
    "import sys\n",
    "import p5lib\n",
    "\n",
    "%matplotlib inline"
   ]
  },
  {
   "cell_type": "code",
   "execution_count": 2,
   "metadata": {
    "collapsed": false
   },
   "outputs": [
    {
     "name": "stdout",
     "output_type": "stream",
     "text": [
      "Number of features: 1729\n",
      "Number of rows: 7804\n"
     ]
    },
    {
     "name": "stderr",
     "output_type": "stream",
     "text": [
      "/usr/local/lib/python2.7/site-packages/IPython/core/interactiveshell.py:2902: DtypeWarning: Columns (7,9,1427,1542,1561,1575,1725,1726,1727,1728) have mixed types. Specify dtype option on import or set low_memory=False.\n",
      "  interactivity=interactivity, compiler=compiler, result=result)\n"
     ]
    }
   ],
   "source": [
    "data = pd.read_csv('MERGED2013_PP.csv')\n",
    "print \"Number of features: {}\".format(len(data.columns))\n",
    "print \"Number of rows: {}\".format(len(data))"
   ]
  },
  {
   "cell_type": "code",
   "execution_count": 3,
   "metadata": {
    "collapsed": false
   },
   "outputs": [
    {
     "name": "stdout",
     "output_type": "stream",
     "text": [
      "(6007, 42)\n"
     ]
    }
   ],
   "source": [
    "data = p5lib.preprocess_data(data)\n",
    "print data.shape"
   ]
  },
  {
   "cell_type": "code",
   "execution_count": 48,
   "metadata": {
    "collapsed": false
   },
   "outputs": [
    {
     "name": "stdout",
     "output_type": "stream",
     "text": [
      "(6007, 30)\n"
     ]
    }
   ],
   "source": [
    "\n",
    "X = data[['CONTROL', 'DEBT_MDN', 'DEP_INC_AVG', 'GRAD_DEBT_MDN', 'IND_INC_AVG', 'INEXPFTE', 'PAR_ED_PCT_1STGEN', \n",
    "          'PAR_ED_PCT_HS', 'PAR_ED_PCT_MS', 'PAR_ED_PCT_PS', 'PCTFLOAN', 'PCTPELL', 'UG25abv', 'UGDS', \n",
    "          'WDRAW_DEBT_MDN', 'L4_COLLEGE', 'NPT4', 'NUM4', \n",
    "          'PFTFTUG1_EF', 'PFTFAC',\n",
    "          'SAT_AVG_ALL', 'ACTCMMID', 'ADM_RATE_ALL', 'AVGFACSAL', 'COSTT4_A',\n",
    "          'CCSIZSET', \n",
    "          'CCUGPROF', \n",
    "          'CCBASIC',\n",
    "          'C150', 'RET_FT']]\n",
    "print X.shape\n",
    "# print \"after cleaning for outliers\"\n",
    "# X = X[~((X.C150 == 1) & (X.RET_FT < 0.5))]\n",
    "# X = X[~((X.RET_FT == 1) & (X.C150 < 0.5))]\n",
    "# print X.shape"
   ]
  },
  {
   "cell_type": "code",
   "execution_count": 49,
   "metadata": {
    "collapsed": false
   },
   "outputs": [
    {
     "name": "stderr",
     "output_type": "stream",
     "text": [
      "/usr/local/lib/python2.7/site-packages/ipykernel/__main__.py:6: SettingWithCopyWarning: \n",
      "A value is trying to be set on a copy of a slice from a DataFrame.\n",
      "Try using .loc[row_indexer,col_indexer] = value instead\n",
      "\n",
      "See the caveats in the documentation: http://pandas.pydata.org/pandas-docs/stable/indexing.html#indexing-view-versus-copy\n"
     ]
    }
   ],
   "source": [
    "fill_cols_with_mean = ['DEBT_MDN', 'DEP_INC_AVG', 'GRAD_DEBT_MDN', 'IND_INC_AVG', 'INEXPFTE', 'WDRAW_DEBT_MDN',\n",
    "                       'PAR_ED_PCT_1STGEN', 'PAR_ED_PCT_HS', 'PAR_ED_PCT_MS', 'PAR_ED_PCT_PS', 'PCTFLOAN', 'PCTPELL', \n",
    "                       'UG25abv', 'NPT4', 'NUM4', 'PFTFTUG1_EF', 'PFTFAC', 'SAT_AVG_ALL', 'ACTCMMID', 'ADM_RATE_ALL', \n",
    "                       'AVGFACSAL', 'COSTT4_A']\n",
    "for col in fill_cols_with_mean:\n",
    "    X[col] = X[col].fillna(X[col].mean())"
   ]
  },
  {
   "cell_type": "code",
   "execution_count": 50,
   "metadata": {
    "collapsed": false
   },
   "outputs": [
    {
     "name": "stdout",
     "output_type": "stream",
     "text": [
      "(3286, 28)\n",
      "(3286, 2)\n"
     ]
    }
   ],
   "source": [
    "X = X.dropna()\n",
    "\n",
    "y = X[['C150', 'RET_FT']]\n",
    "X = X.drop('C150', 1)\n",
    "X = X.drop('RET_FT', 1)\n",
    "\n",
    "print X.shape\n",
    "print y.shape\n"
   ]
  },
  {
   "cell_type": "code",
   "execution_count": 51,
   "metadata": {
    "collapsed": false
   },
   "outputs": [
    {
     "name": "stdout",
     "output_type": "stream",
     "text": [
      "(3286, 23)\n"
     ]
    }
   ],
   "source": [
    "from sklearn import preprocessing\n",
    "\n",
    "tmpX = X[['DEBT_MDN', 'DEP_INC_AVG', 'GRAD_DEBT_MDN', 'IND_INC_AVG', 'INEXPFTE', 'UGDS', 'WDRAW_DEBT_MDN', 'NPT4', \n",
    "          'NUM4', 'SAT_AVG_ALL', 'ACTCMMID', 'AVGFACSAL', 'COSTT4_A']]\n",
    "\n",
    "scaler = preprocessing.MinMaxScaler()\n",
    "scaledX = scaler.fit_transform(tmpX)\n",
    "\n",
    "pctX = X[['PAR_ED_PCT_1STGEN', 'PAR_ED_PCT_HS', 'PAR_ED_PCT_MS', 'PAR_ED_PCT_PS', 'PCTFLOAN', 'PCTPELL', 'UG25abv', \n",
    "          'PFTFTUG1_EF', 'PFTFAC', 'ADM_RATE_ALL']]\n",
    "pctX = np.array(pctX)\n",
    "\n",
    "forPcaX = np.concatenate((scaledX, pctX), axis=1)\n",
    "# print scaledX.shape\n",
    "# print pctX.shape\n",
    "print forPcaX.shape\n"
   ]
  },
  {
   "cell_type": "code",
   "execution_count": 52,
   "metadata": {
    "collapsed": false
   },
   "outputs": [
    {
     "name": "stdout",
     "output_type": "stream",
     "text": [
      "[  3.73856482e-01   1.95353249e-01   1.21146530e-01   7.25973650e-02\n",
      "   5.33455066e-02   3.46573825e-02   3.14777787e-02   2.38411287e-02\n",
      "   2.04015592e-02   1.55729709e-02   1.29169933e-02   1.01393362e-02\n",
      "   8.04262430e-03   7.27408208e-03   5.91667125e-03   4.26327010e-03\n",
      "   3.81588791e-03   2.26469323e-03   1.66358417e-03   1.08855908e-03\n",
      "   3.49301605e-04   1.50286240e-05   1.61424858e-08]\n"
     ]
    }
   ],
   "source": [
    "from sklearn.decomposition import PCA\n",
    "\n",
    "pca = PCA(n_components=forPcaX.shape[1])\n",
    "pca.fit(forPcaX)\n",
    "\n",
    "print pca.explained_variance_ratio_\n"
   ]
  },
  {
   "cell_type": "code",
   "execution_count": 53,
   "metadata": {
    "collapsed": false
   },
   "outputs": [
    {
     "name": "stdout",
     "output_type": "stream",
     "text": [
      "(3286, 18)\n"
     ]
    }
   ],
   "source": [
    "pca = PCA(n_components=18)\n",
    "pca.fit(forPcaX)\n",
    "reducedX = pca.transform(forPcaX)\n",
    "print reducedX.shape"
   ]
  },
  {
   "cell_type": "code",
   "execution_count": 54,
   "metadata": {
    "collapsed": false
   },
   "outputs": [
    {
     "name": "stdout",
     "output_type": "stream",
     "text": [
      "(3286, 3)\n",
      "(3286, 1)\n",
      "(3286, 18)\n",
      "(3286, 53)\n"
     ]
    }
   ],
   "source": [
    "# add the categorical feature\n",
    "\n",
    "tmp1X = np.array(pd.get_dummies(X['CONTROL']))\n",
    "tmp2X = X['L4_COLLEGE'].astype(int)\n",
    "tmp2X = np.reshape(tmp2X, (len(tmp2X), 1)) \n",
    "tmp3X = np.array(pd.get_dummies(X['CCSIZSET']))\n",
    "tmp4X = np.array(pd.get_dummies(X['CCUGPROF']))\n",
    "tmp5X = np.array(pd.get_dummies(X['CCBASIC']))\n",
    "\n",
    "print tmp1X.shape\n",
    "print tmp2X.shape\n",
    "print reducedX.shape\n",
    "finalX = np.concatenate((reducedX, tmp1X, tmp2X, tmp3X, tmp4X), axis=1)\n",
    "print finalX.shape"
   ]
  },
  {
   "cell_type": "code",
   "execution_count": 55,
   "metadata": {
    "collapsed": false
   },
   "outputs": [
    {
     "name": "stdout",
     "output_type": "stream",
     "text": [
      "(2628, 53)\n",
      "(658, 53)\n",
      "(2628, 2)\n",
      "(658, 2)\n"
     ]
    }
   ],
   "source": [
    "from sklearn import cross_validation as cv\n",
    "\n",
    "y = np.array(y)\n",
    "X_train, X_test, y_train, y_test = cv.train_test_split(finalX, y, train_size=0.8)\n",
    "print X_train.shape\n",
    "print X_test.shape\n",
    "print y_train.shape\n",
    "print y_test.shape"
   ]
  },
  {
   "cell_type": "code",
   "execution_count": 56,
   "metadata": {
    "collapsed": false
   },
   "outputs": [
    {
     "name": "stdout",
     "output_type": "stream",
     "text": [
      "{'epsilon': 0.10000000000000001, 'C': 10.0, 'gamma': 0.10000000000000001}\n",
      "R2 score on train data: 0.859977441103\n",
      "R2 score on test  data: 0.741611996931\n",
      "{'epsilon': 0.10000000000000001, 'C': 0.10000000000000001, 'gamma': 0.10000000000000001}\n",
      "R2 score on train data: 0.507539696576\n",
      "R2 score on test  data: 0.42246816718\n"
     ]
    }
   ],
   "source": [
    "SVR_reg1, SVR_reg2 = p5lib.build_SVR_model(X_train, X_test, y_train, y_test)"
   ]
  },
  {
   "cell_type": "code",
   "execution_count": 42,
   "metadata": {
    "collapsed": false
   },
   "outputs": [
    {
     "name": "stdout",
     "output_type": "stream",
     "text": [
      "{'max_depth': 5}\n",
      "R2 score on train data: 0.72984240074\n",
      "R2 score on test  data: 0.645041563667\n",
      "{'max_depth': 4}\n",
      "R2 score on train data: 0.473773070302\n",
      "R2 score on test  data: 0.435589696255\n"
     ]
    }
   ],
   "source": [
    "DT_reg1, DT_reg2 = p5lib.build_DecisionTree_model(X_train, X_test, y_train, y_test)"
   ]
  },
  {
   "cell_type": "code",
   "execution_count": 43,
   "metadata": {
    "collapsed": false
   },
   "outputs": [
    {
     "name": "stdout",
     "output_type": "stream",
     "text": [
      "{'n_neighbors': 7}\n",
      "R2 score on train data: 0.788018342205\n",
      "R2 score on test  data: 0.690703553646\n",
      "{'n_neighbors': 18}\n",
      "R2 score on train data: 0.523614080128\n",
      "R2 score on test  data: 0.487362501832\n"
     ]
    }
   ],
   "source": [
    "KNN_reg1, KNN_reg2 = p5lib.build_KNN_model(X_train, X_test, y_train, y_test)"
   ]
  },
  {
   "cell_type": "code",
   "execution_count": 44,
   "metadata": {
    "collapsed": false
   },
   "outputs": [
    {
     "name": "stdout",
     "output_type": "stream",
     "text": [
      "R2 score on train data: 0.952834932729\n",
      "R2 score on test  data: 0.714627768305\n",
      "R2 score on train data: 0.913098164092\n",
      "R2 score on test  data: 0.493897008711\n"
     ]
    }
   ],
   "source": [
    "RForest_reg1, RForest_reg2 = p5lib.build_RandomForest_model(X_train, X_test, y_train, y_test)"
   ]
  },
  {
   "cell_type": "code",
   "execution_count": 45,
   "metadata": {
    "collapsed": false
   },
   "outputs": [
    {
     "name": "stdout",
     "output_type": "stream",
     "text": [
      "{'epsilon': 0.10000000000000001, 'C': 10.0, 'gamma': 0.10000000000000001}\n",
      "R2 score on train data: 0.862237951907\n",
      "R2 score on test  data: 0.756320716499\n",
      "{'epsilon': 0.10000000000000001, 'C': 0.10000000000000001, 'gamma': 0.10000000000000001}\n",
      "R2 score on train data: 0.591833821973\n",
      "R2 score on test  data: 0.536095914962\n"
     ]
    }
   ],
   "source": [
    "from sklearn.svm import SVR\n",
    "from sklearn.grid_search import GridSearchCV\n",
    "\n",
    "scorer = p5lib.scorer\n",
    "\n",
    "y1_train, y1_test, y2_train, y2_test = p5lib.split_y(y_train, y_test)\n",
    "\n",
    "params = {'C': np.logspace(-1, 1, 2), 'gamma': np.logspace(-1, 1, 2), 'epsilon': np.logspace(-1, 1, 2)}\n",
    "reg = SVR()\n",
    "best_reg1 = GridSearchCV(reg, params, scoring=scorer, cv=5)\n",
    "best_reg1.fit(X_train, y1_train)\n",
    "\n",
    "print best_reg1.best_params_\n",
    "p5lib.print_r2score(best_reg1, X_train, y1_train)\n",
    "p5lib.print_r2score(best_reg1, X_test, y1_test, test=True)\n",
    "\n",
    "reg = SVR()\n",
    "params = {'C': np.logspace(-1, 1, 2), 'gamma': np.logspace(-1, 1, 2), 'epsilon': np.logspace(-1, 1, 2)}\n",
    "best_reg2 = GridSearchCV(reg, params, scoring=scorer, cv=5)\n",
    "\n",
    "# use the y1 data to train the y2 prediction\n",
    "reshaped_y1_train = np.reshape(y1_train, (len(y1_train), 1))\n",
    "X_train_boosted = np.concatenate((X_train, reshaped_y1_train), axis=1)\n",
    "best_reg2.fit(X_train_boosted, y2_train)\n",
    "\n",
    "print best_reg2.best_params_\n",
    "\n",
    "y1_test_prediction = best_reg1.predict(X_test) # prediction of y1 from the first model\n",
    "y1_test_prediction = np.reshape(y1_test_prediction, (len(y1_test_prediction), 1))\n",
    "X_test_boosted = np.concatenate((X_test, y1_test_prediction), axis=1)\n",
    "p5lib.print_r2score(best_reg2, X_train_boosted, y2_train)\n",
    "p5lib.print_r2score(best_reg2, X_test_boosted, y2_test, test=True)"
   ]
  },
  {
   "cell_type": "code",
   "execution_count": 47,
   "metadata": {
    "collapsed": false
   },
   "outputs": [
    {
     "name": "stdout",
     "output_type": "stream",
     "text": [
      "R2 score on train data: 0.957074726135\n",
      "R2 score on test  data: 0.676911004759\n",
      "R2 score on train data: 0.915598691456\n",
      "R2 score on test  data: 0.478273404464\n"
     ]
    }
   ],
   "source": [
    "from sklearn.ensemble import RandomForestRegressor\n",
    "\n",
    "scorer = p5lib.scorer\n",
    "\n",
    "y1_train, y1_test, y2_train, y2_test = p5lib.split_y(y_train, y_test)\n",
    "\n",
    "\n",
    "reg1 = RandomForestRegressor(n_estimators=10)\n",
    "reg1.fit(X_train, y1_train)\n",
    "p5lib.print_r2score(reg1, X_train, y1_train)\n",
    "p5lib.print_r2score(reg1, X_test, y1_test, test=True)\n",
    "\n",
    "reg2 = RandomForestRegressor(n_estimators=10)\n",
    "# reg2.fit(X_train, y2_train)\n",
    "# print_r2score(reg2, X_train, y2_train)\n",
    "# print_r2score(reg2, X_test, y2_test, test=True)\n",
    "\n",
    "# use the y1 data to train the y2 prediction\n",
    "reshaped_y1_train = np.reshape(y1_train, (len(y1_train), 1))\n",
    "X_train_boosted = np.concatenate((X_train, reshaped_y1_train), axis=1)\n",
    "reg2.fit(X_train_boosted, y2_train)\n",
    "\n",
    "y1_test_prediction = reg1.predict(X_test) # prediction of y1 from the first model\n",
    "y1_test_prediction = np.reshape(y1_test_prediction, (len(y1_test_prediction), 1))\n",
    "X_test_boosted = np.concatenate((X_test, y1_test_prediction), axis=1)\n",
    "p5lib.print_r2score(reg2, X_train_boosted, y2_train)\n",
    "p5lib.print_r2score(reg2, X_test_boosted, y2_test, test=True)"
   ]
  },
  {
   "cell_type": "code",
   "execution_count": null,
   "metadata": {
    "collapsed": true
   },
   "outputs": [],
   "source": []
  }
 ],
 "metadata": {
  "kernelspec": {
   "display_name": "Python 2",
   "language": "python",
   "name": "python2"
  },
  "language_info": {
   "codemirror_mode": {
    "name": "ipython",
    "version": 2
   },
   "file_extension": ".py",
   "mimetype": "text/x-python",
   "name": "python",
   "nbconvert_exporter": "python",
   "pygments_lexer": "ipython2",
   "version": "2.7.10"
  }
 },
 "nbformat": 4,
 "nbformat_minor": 0
}
