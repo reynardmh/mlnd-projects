{
 "cells": [
  {
   "cell_type": "code",
   "execution_count": 1,
   "metadata": {
    "collapsed": true
   },
   "outputs": [],
   "source": [
    "import pandas as pd\n",
    "import numpy as np\n",
    "import matplotlib.pyplot as plt\n",
    "import re\n",
    "import sys\n",
    "import p5lib\n",
    "\n",
    "%matplotlib inline"
   ]
  },
  {
   "cell_type": "code",
   "execution_count": 2,
   "metadata": {
    "collapsed": false
   },
   "outputs": [
    {
     "name": "stdout",
     "output_type": "stream",
     "text": [
      "Number of features: 1729\n",
      "Number of rows: 7804\n"
     ]
    },
    {
     "name": "stderr",
     "output_type": "stream",
     "text": [
      "/usr/local/lib/python2.7/site-packages/IPython/core/interactiveshell.py:2902: DtypeWarning: Columns (7,9,1427,1542,1561,1575,1725,1726,1727,1728) have mixed types. Specify dtype option on import or set low_memory=False.\n",
      "  interactivity=interactivity, compiler=compiler, result=result)\n"
     ]
    }
   ],
   "source": [
    "data = pd.read_csv('MERGED2013_PP.csv')\n",
    "print \"Number of features: {}\".format(len(data.columns))\n",
    "print \"Number of rows: {}\".format(len(data))"
   ]
  },
  {
   "cell_type": "code",
   "execution_count": 3,
   "metadata": {
    "collapsed": false
   },
   "outputs": [
    {
     "name": "stdout",
     "output_type": "stream",
     "text": [
      "(6007, 42)\n"
     ]
    }
   ],
   "source": [
    "data = p5lib.preprocess_data(data)\n",
    "print data.shape"
   ]
  },
  {
   "cell_type": "code",
   "execution_count": 4,
   "metadata": {
    "collapsed": false
   },
   "outputs": [
    {
     "name": "stdout",
     "output_type": "stream",
     "text": [
      "(6007, 25)\n",
      "(6007, 2)\n"
     ]
    }
   ],
   "source": [
    "X = data[['CONTROL', 'DEBT_MDN', 'DEP_INC_AVG', 'GRAD_DEBT_MDN', 'IND_INC_AVG', 'INEXPFTE', 'PAR_ED_PCT_1STGEN', \n",
    "          'PAR_ED_PCT_HS', 'PAR_ED_PCT_MS', 'PAR_ED_PCT_PS', 'PCTFLOAN', 'PCTPELL', 'UG25abv', 'UGDS', \n",
    "          'WDRAW_DEBT_MDN', 'L4_COLLEGE', 'NPT4', 'NUM4', \n",
    "          'PFTFTUG1_EF', 'PFTFAC',\n",
    "          'SAT_AVG_ALL', 'ACTCMMID', 'ADM_RATE_ALL', 'AVGFACSAL', 'COSTT4_A',\n",
    "          'C150', 'RET_FT']]\n",
    "y = X[['C150', 'RET_FT']]\n",
    "X = X.drop('C150', 1)\n",
    "X = X.drop('RET_FT', 1)\n",
    "print X.shape\n",
    "print y.shape\n"
   ]
  },
  {
   "cell_type": "code",
   "execution_count": 5,
   "metadata": {
    "collapsed": false
   },
   "outputs": [
    {
     "name": "stdout",
     "output_type": "stream",
     "text": [
      "Number of available data for each feature (not counting the NaN values)\n",
      "CONTROL             Control (public/private)                      6007\n",
      "DEBT_MDN            Median debt                                   5242\n",
      "DEP_INC_AVG         Avg income dependent stu                      5703\n",
      "GRAD_DEBT_MDN       Median debt complete                          5186\n",
      "IND_INC_AVG         Avg income independent stu                    5688\n",
      "INEXPFTE            Expense per FTE student                       6006\n",
      "PAR_ED_PCT_1STGEN   % 1st gen students                            5513\n",
      "PAR_ED_PCT_HS       % parent education high school                5533\n",
      "PAR_ED_PCT_MS       % parent education middle school              5423\n",
      "PAR_ED_PCT_PS       % parent education post secondary             5533\n",
      "PCTFLOAN            % Fed student loan                            6005\n",
      "PCTPELL             % Pell Grant receiver                         6005\n",
      "UG25abv             % undergrad > 25 yr                           5964\n",
      "UGDS                Number of Undergrad degree seeking            6007\n",
      "WDRAW_DEBT_MDN      Median debt non-completer                     4997\n",
      "L4_COLLEGE          <4 years college                              6007\n",
      "NPT4                Avg net price Title IV                        5938\n",
      "NUM4                Num Title IV student                          5938\n",
      "PFTFTUG1_EF         Undergrad 1st-time degree seeking             3290\n",
      "PFTFAC              Full time faculty rate                        3418\n",
      "SAT_AVG_ALL         SAT all                                       1445\n",
      "ACTCMMID            ACT                                           1327\n",
      "ADM_RATE_ALL        Admission rate                                2065\n",
      "AVGFACSAL           Avg faculty salary                            3794\n",
      "COSTT4_A            Avg cost academic year                        3691\n"
     ]
    }
   ],
   "source": [
    "p5lib.print_num_data_for_each_features(X)"
   ]
  },
  {
   "cell_type": "code",
   "execution_count": 6,
   "metadata": {
    "collapsed": false
   },
   "outputs": [],
   "source": [
    "fill_cols_with_mean = ['DEBT_MDN', 'DEP_INC_AVG', 'GRAD_DEBT_MDN', 'IND_INC_AVG', 'INEXPFTE', 'WDRAW_DEBT_MDN',\n",
    "                       'PAR_ED_PCT_1STGEN', 'PAR_ED_PCT_HS', 'PAR_ED_PCT_MS', 'PAR_ED_PCT_PS', 'PCTFLOAN', 'PCTPELL', \n",
    "                       'UG25abv', 'NPT4', 'NUM4', 'PFTFTUG1_EF', 'PFTFAC', 'SAT_AVG_ALL', 'ACTCMMID', 'ADM_RATE_ALL', \n",
    "                       'AVGFACSAL', 'COSTT4_A']\n",
    "for col in fill_cols_with_mean:\n",
    "    X[col] = X[col].fillna(X[col].mean())"
   ]
  },
  {
   "cell_type": "code",
   "execution_count": 7,
   "metadata": {
    "collapsed": false
   },
   "outputs": [
    {
     "name": "stdout",
     "output_type": "stream",
     "text": [
      "Number of available data for each feature (not counting the NaN values)\n",
      "CONTROL             Control (public/private)                      6007\n",
      "DEBT_MDN            Median debt                                   6007\n",
      "DEP_INC_AVG         Avg income dependent stu                      6007\n",
      "GRAD_DEBT_MDN       Median debt complete                          6007\n",
      "IND_INC_AVG         Avg income independent stu                    6007\n",
      "INEXPFTE            Expense per FTE student                       6007\n",
      "PAR_ED_PCT_1STGEN   % 1st gen students                            6007\n",
      "PAR_ED_PCT_HS       % parent education high school                6007\n",
      "PAR_ED_PCT_MS       % parent education middle school              6007\n",
      "PAR_ED_PCT_PS       % parent education post secondary             6007\n",
      "PCTFLOAN            % Fed student loan                            6007\n",
      "PCTPELL             % Pell Grant receiver                         6007\n",
      "UG25abv             % undergrad > 25 yr                           6007\n",
      "UGDS                Number of Undergrad degree seeking            6007\n",
      "WDRAW_DEBT_MDN      Median debt non-completer                     6007\n",
      "L4_COLLEGE          <4 years college                              6007\n",
      "NPT4                Avg net price Title IV                        6007\n",
      "NUM4                Num Title IV student                          6007\n",
      "PFTFTUG1_EF         Undergrad 1st-time degree seeking             6007\n",
      "PFTFAC              Full time faculty rate                        6007\n",
      "SAT_AVG_ALL         SAT all                                       6007\n",
      "ACTCMMID            ACT                                           6007\n",
      "ADM_RATE_ALL        Admission rate                                6007\n",
      "AVGFACSAL           Avg faculty salary                            6007\n",
      "COSTT4_A            Avg cost academic year                        6007\n"
     ]
    }
   ],
   "source": [
    "p5lib.print_num_data_for_each_features(X)"
   ]
  },
  {
   "cell_type": "code",
   "execution_count": 8,
   "metadata": {
    "collapsed": false
   },
   "outputs": [
    {
     "name": "stdout",
     "output_type": "stream",
     "text": [
      "(6007, 23)\n"
     ]
    }
   ],
   "source": [
    "from sklearn import preprocessing\n",
    "\n",
    "tmpX = X[['DEBT_MDN', 'DEP_INC_AVG', 'GRAD_DEBT_MDN', 'IND_INC_AVG', 'INEXPFTE', 'UGDS', 'WDRAW_DEBT_MDN', 'NPT4', \n",
    "          'NUM4', 'SAT_AVG_ALL', 'ACTCMMID', 'AVGFACSAL', 'COSTT4_A']]\n",
    "\n",
    "scaler = preprocessing.MinMaxScaler()\n",
    "scaledX = scaler.fit_transform(tmpX)\n",
    "\n",
    "# print np.array(tmpX.ix[0])\n",
    "# print scaledX[0]\n",
    "\n",
    "# X_for_PCA = pd.DataFrame(scaledX)\n",
    "pctX = X[['PAR_ED_PCT_1STGEN', 'PAR_ED_PCT_HS', 'PAR_ED_PCT_MS', 'PAR_ED_PCT_PS', 'PCTFLOAN', 'PCTPELL', 'UG25abv', \n",
    "          'PFTFTUG1_EF', 'PFTFAC', 'ADM_RATE_ALL']]\n",
    "pctX = np.array(pctX)\n",
    "\n",
    "forPcaX = np.concatenate((scaledX, pctX), axis=1)\n",
    "# print scaledX.shape\n",
    "# print pctX.shape\n",
    "print forPcaX.shape\n"
   ]
  },
  {
   "cell_type": "code",
   "execution_count": 9,
   "metadata": {
    "collapsed": false
   },
   "outputs": [
    {
     "name": "stdout",
     "output_type": "stream",
     "text": [
      "(6007, 3)\n",
      "(6007, 1)\n",
      "(6007, 23)\n",
      "(6007, 27)\n"
     ]
    }
   ],
   "source": [
    "# add the categorical feature\n",
    "\n",
    "tmp1X = np.array(pd.get_dummies(X['CONTROL']))\n",
    "tmp2X = X['L4_COLLEGE'].astype(int)\n",
    "tmp2X = np.reshape(tmp2X, (len(tmp2X), 1)) \n",
    "print tmp1X.shape\n",
    "print tmp2X.shape\n",
    "print forPcaX.shape\n",
    "finalX = np.concatenate((forPcaX, tmp1X, tmp2X), axis=1)\n",
    "print finalX.shape"
   ]
  },
  {
   "cell_type": "code",
   "execution_count": 10,
   "metadata": {
    "collapsed": false
   },
   "outputs": [
    {
     "name": "stdout",
     "output_type": "stream",
     "text": [
      "(4805, 27)\n",
      "(1202, 27)\n",
      "(4805, 2)\n",
      "(1202, 2)\n"
     ]
    }
   ],
   "source": [
    "from sklearn import cross_validation as cv\n",
    "\n",
    "y = np.array(y)\n",
    "X_train, X_test, y_train, y_test = cv.train_test_split(finalX, y, train_size=0.8)\n",
    "print X_train.shape\n",
    "print X_test.shape\n",
    "print y_train.shape\n",
    "print y_test.shape"
   ]
  },
  {
   "cell_type": "code",
   "execution_count": 11,
   "metadata": {
    "collapsed": false
   },
   "outputs": [
    {
     "name": "stdout",
     "output_type": "stream",
     "text": [
      "{'epsilon': 0.10000000000000001, 'C': 10.0, 'gamma': 0.10000000000000001}\n",
      "R2 score on train data: 0.697698073988\n",
      "R2 score on test  data: 0.694721474137\n",
      "{'epsilon': 0.10000000000000001, 'C': 10.0, 'gamma': 0.10000000000000001}\n",
      "R2 score on train data: 0.388220378858\n",
      "R2 score on test  data: 0.361304282415\n"
     ]
    }
   ],
   "source": [
    "SVR_reg1, SVR_reg2 = p5lib.build_SVR_model(X_train, X_test, y_train, y_test)"
   ]
  },
  {
   "cell_type": "code",
   "execution_count": 12,
   "metadata": {
    "collapsed": false
   },
   "outputs": [
    {
     "name": "stdout",
     "output_type": "stream",
     "text": [
      "{'max_depth': 8}\n",
      "R2 score on train data: 0.72765000789\n",
      "R2 score on test  data: 0.621747514601\n",
      "{'max_depth': 4}\n",
      "R2 score on train data: 0.268504122153\n",
      "R2 score on test  data: 0.247468323036\n"
     ]
    }
   ],
   "source": [
    "DT_reg1, DT_reg2 = p5lib.build_DecisionTree_model(X_train, X_test, y_train, y_test)"
   ]
  },
  {
   "cell_type": "code",
   "execution_count": 13,
   "metadata": {
    "collapsed": false
   },
   "outputs": [
    {
     "name": "stdout",
     "output_type": "stream",
     "text": [
      "{'n_neighbors': 10}\n",
      "R2 score on train data: 0.719433982924\n",
      "R2 score on test  data: 0.671840279624\n",
      "{'n_neighbors': 19}\n",
      "R2 score on train data: 0.378931702457\n",
      "R2 score on test  data: 0.312646965374\n"
     ]
    }
   ],
   "source": [
    "KNN_reg1, KNN_reg2 = p5lib.build_KNN_model(X_train, X_test, y_train, y_test)"
   ]
  },
  {
   "cell_type": "code",
   "execution_count": 14,
   "metadata": {
    "collapsed": false
   },
   "outputs": [
    {
     "name": "stdout",
     "output_type": "stream",
     "text": [
      "R2 score on train data: 0.942934973302\n",
      "R2 score on test  data: 0.691506279459\n",
      "R2 score on train data: 0.868314495169\n",
      "R2 score on test  data: 0.304831865657\n"
     ]
    }
   ],
   "source": [
    "RForest_reg1, RForest_reg2 = p5lib.build_RandomForest_model(X_train, X_test, y_train, y_test)"
   ]
  },
  {
   "cell_type": "code",
   "execution_count": null,
   "metadata": {
    "collapsed": true
   },
   "outputs": [],
   "source": []
  }
 ],
 "metadata": {
  "kernelspec": {
   "display_name": "Python 2",
   "language": "python",
   "name": "python2"
  },
  "language_info": {
   "codemirror_mode": {
    "name": "ipython",
    "version": 2
   },
   "file_extension": ".py",
   "mimetype": "text/x-python",
   "name": "python",
   "nbconvert_exporter": "python",
   "pygments_lexer": "ipython2",
   "version": "2.7.10"
  }
 },
 "nbformat": 4,
 "nbformat_minor": 0
}
