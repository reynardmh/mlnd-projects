{
 "cells": [
  {
   "cell_type": "code",
   "execution_count": 27,
   "metadata": {
    "collapsed": true
   },
   "outputs": [],
   "source": [
    "import pandas as pd\n",
    "import numpy as np\n",
    "# import sqlalchemy\n",
    "import matplotlib.pyplot as plt\n",
    "import re\n",
    "import sys\n",
    "\n",
    "%matplotlib inline"
   ]
  },
  {
   "cell_type": "code",
   "execution_count": 99,
   "metadata": {
    "collapsed": false
   },
   "outputs": [
    {
     "name": "stdout",
     "output_type": "stream",
     "text": [
      "Number of features: 1729\n",
      "Number of rows: 7804\n"
     ]
    }
   ],
   "source": [
    "data = pd.read_csv('MERGED2013_PP.csv')\n",
    "print \"Number of features: {}\".format(len(data.columns))\n",
    "print \"Number of rows: {}\".format(len(data))"
   ]
  },
  {
   "cell_type": "code",
   "execution_count": 100,
   "metadata": {
    "collapsed": false
   },
   "outputs": [
    {
     "name": "stdout",
     "output_type": "stream",
     "text": [
      "46\n"
     ]
    }
   ],
   "source": [
    "# potentially interesting features\n",
    "col_desc = {\n",
    "    'C150_4_POOLED': 'Completion 4yr pooled',\n",
    "    'C150_L4_POOLED': 'Completion <4yr pooled',\n",
    "    'CCSIZSET': 'Carnegie classification-Size & settings',\n",
    "    'CCUGPROF': 'Carnegie classification-Undergrad profile ',\n",
    "    'CCBASIC': 'Carnegie classification-basic',\n",
    "    'LOCALE': 'Degree of urbanization',\n",
    "    'region': 'Region',\n",
    "    'PREDDEG': 'Predominant degree awarded',\n",
    "    'CONTROL': 'Control (public/private)',\n",
    "    'RET_FT4': 'Retention 4yr',\n",
    "    'RET_FTL4': 'Retention <4yr',\n",
    "    'ACTCMMID': 'ACT',\n",
    "    'SAT_AVG': 'SAT',\n",
    "    'SAT_AVG_ALL': 'SAT all',\n",
    "    'SATVRMID': 'SAT reading',\n",
    "    'SATMTMID': 'SAT math',\n",
    "    'SATWRMID': 'SAT writing',\n",
    "    'AVGFACSAL': 'Avg faculty salary',\n",
    "    'PFTFAC': 'Full time faculty rate',\n",
    "    'ADM_RATE_ALL': 'Admission rate',\n",
    "    'DISTANCEONLY': 'Distance only',\n",
    "    'NPT4_PUB': 'Avg net price title IV institut public',\n",
    "    'NPT4_PRIV': 'Avg net price title IV institut private',\n",
    "    'NUM4_PUB': 'Num Title IV student, public',\n",
    "    'NUM4_PRIV': 'Num Title IV student, private',\n",
    "    'COSTT4_A': 'Avg cost academic year',\n",
    "    'COSTT4_P': 'Avg cost program year',\n",
    "    'TUITIONFEE_IN': 'In state tuition',\n",
    "    'TUITIONFEE_OUT': 'Out of state tuition',\n",
    "    'TUITIONFEE_PROG': 'Tuition fee program year',\n",
    "    'TUITFTE': 'Net revenue per FTE student',\n",
    "    'INEXPFTE': 'Expense per FTE student',\n",
    "    'PCTPELL': '% Pell Grant receiver',\n",
    "    'PCTFLOAN': '% Fed student loan',\n",
    "    'UG25abv': '% undergrad > 25 yr',\n",
    "    'PFTFTUG1_EF': 'Undergrad 1st-time degree seeking',\n",
    "    'UGDS': 'Number of Undergrad degree seeking',\n",
    "    'PAR_ED_PCT_1STGEN': '% 1st gen students',\n",
    "    'PAR_ED_PCT_MS': '% parent education middle school',\n",
    "    'PAR_ED_PCT_HS': '% parent education high school',\n",
    "    'PAR_ED_PCT_PS': '% parent education post secondary',\n",
    "    'DEP_INC_AVG': 'Avg income dependent stu',\n",
    "    'IND_INC_AVG': 'Avg income independent stu',\n",
    "    'DEBT_MDN': 'Median debt',\n",
    "    'GRAD_DEBT_MDN': 'Median debt complete',\n",
    "    'WDRAW_DEBT_MDN': 'Median debt non-completer',\n",
    "}\n",
    "# print len(col_desc)\n"
   ]
  },
  {
   "cell_type": "code",
   "execution_count": 101,
   "metadata": {
    "collapsed": true
   },
   "outputs": [],
   "source": [
    "data = data[sorted(col_desc.keys())]"
   ]
  },
  {
   "cell_type": "code",
   "execution_count": 102,
   "metadata": {
    "collapsed": true
   },
   "outputs": [],
   "source": [
    "# add column that indicates whether it's a less than 4yr college\n",
    "data['L4_COLLEGE'] = data.C150_4_POOLED.isnull()\n",
    "\n",
    "# combine completion data for 4 year and <4 year institution\n",
    "data['C150'] = pd.concat([data.C150_4_POOLED.dropna(), data.C150_L4_POOLED.dropna()]).reindex_like(data)\n",
    "\n",
    "# combine retention data for 4 year and <4 year institution\n",
    "data['RET_FT'] = pd.concat([data.RET_FT4.dropna(), data.RET_FTL4.dropna()]).reindex_like(data)\n",
    "\n",
    "# combine net price title iv for public and private\n",
    "data['NPT4'] = pd.concat([data.NPT4_PRIV.dropna(), data.NPT4_PUB.dropna()]).reindex_like(data)\n",
    "data['NUM4'] = pd.concat([data.NUM4_PRIV.dropna(), data.NUM4_PUB.dropna()]).reindex_like(data)\n"
   ]
  },
  {
   "cell_type": "code",
   "execution_count": 103,
   "metadata": {
    "collapsed": false
   },
   "outputs": [
    {
     "name": "stdout",
     "output_type": "stream",
     "text": [
      "Num data after removing missing completion and retention rate: 6007\n",
      "Num features: 45\n",
      "(6007, 45)\n"
     ]
    }
   ],
   "source": [
    "# clean up extra columns after combining\n",
    "del_columns = ['NPT4_PUB', 'NPT4_PRIV', 'NUM4_PUB', 'NUM4_PRIV', 'C150_4_POOLED', 'C150_L4_POOLED']\n",
    "for col in del_columns:\n",
    "    if col in data.keys():\n",
    "        del data[col]\n",
    "        del col_desc[col]\n",
    "\n",
    "col_desc['L4_COLLEGE'] = '<4 years college'\n",
    "col_desc['C150'] = 'Completion'\n",
    "col_desc['RET_FT'] = 'Retention'\n",
    "col_desc['NPT4'] = 'Avg net price Title IV'\n",
    "col_desc['NUM4'] = 'Num Title IV student'\n",
    "\n",
    "data = data[~data['C150'].isnull()]\n",
    "data = data[~data['RET_FT'].isnull()]\n",
    "\n",
    "# remove data containing 'PrivacySuppressed'\n",
    "for col in col_desc.keys():\n",
    "    if data.dtypes[col] == 'object':\n",
    "        data[col] = data[col].replace(['PrivacySuppressed'], [float('NaN')]).astype(float)\n",
    "\n",
    "\n",
    "print \"Num data after removing missing completion and retention rate: {}\".format(len(data))\n",
    "print \"Num features: {}\".format(len(data.columns))\n",
    "print data.shape\n"
   ]
  },
  {
   "cell_type": "code",
   "execution_count": 104,
   "metadata": {
    "collapsed": false
   },
   "outputs": [
    {
     "name": "stdout",
     "output_type": "stream",
     "text": [
      "(4625, 18)\n",
      "count     4625.000000\n",
      "mean     11961.656649\n",
      "std       5586.002797\n",
      "min       1280.000000\n",
      "25%       7751.000000\n",
      "50%       9833.000000\n",
      "75%      16018.000000\n",
      "max      31000.000000\n",
      "Name: DEBT_MDN, dtype: float64\n",
      "count      4625.000000\n",
      "mean       3143.174270\n",
      "std        6260.687469\n",
      "min           3.000000\n",
      "25%         223.000000\n",
      "50%         862.000000\n",
      "75%        3107.000000\n",
      "max      166816.000000\n",
      "Name: UGDS, dtype: float64\n",
      "count     4625.000000\n",
      "mean       327.307459\n",
      "std        525.163030\n",
      "min          1.000000\n",
      "25%         50.000000\n",
      "50%        145.000000\n",
      "75%        385.000000\n",
      "max      13183.000000\n",
      "Name: NUM4, dtype: float64\n",
      "count    4625.000000\n",
      "mean        0.381306\n",
      "std         0.213408\n",
      "min         0.000600\n",
      "25%         0.223800\n",
      "50%         0.371300\n",
      "75%         0.522400\n",
      "max         0.978300\n",
      "Name: UG25abv, dtype: float64\n"
     ]
    }
   ],
   "source": [
    "subset_data = data[['CONTROL', 'DEBT_MDN', 'DEP_INC_AVG', 'GRAD_DEBT_MDN', 'IND_INC_AVG', 'INEXPFTE', 'PAR_ED_PCT_1STGEN', \n",
    "              'PAR_ED_PCT_HS', 'PAR_ED_PCT_MS', 'PAR_ED_PCT_PS', 'PCTFLOAN', 'PCTPELL', 'UG25abv', 'UGDS', \n",
    "              'WDRAW_DEBT_MDN', 'L4_COLLEGE', 'NPT4', 'NUM4', 'C150', 'RET_FT']].dropna()\n",
    "Y_all = subset_data[['C150', 'RET_FT']]\n",
    "y1 = np.array(subset_data['C150'])\n",
    "y2 = np.array(subset_data['RET_FT'])\n",
    "X_all = subset_data[['CONTROL', 'DEBT_MDN', 'DEP_INC_AVG', 'GRAD_DEBT_MDN', 'IND_INC_AVG', 'INEXPFTE', 'PAR_ED_PCT_1STGEN', \n",
    "              'PAR_ED_PCT_HS', 'PAR_ED_PCT_MS', 'PAR_ED_PCT_PS', 'PCTFLOAN', 'PCTPELL', 'UG25abv', 'UGDS', \n",
    "              'WDRAW_DEBT_MDN', 'L4_COLLEGE', 'NPT4', 'NUM4']]\n",
    "print X_all.shape\n",
    "print subset_data['DEBT_MDN'].describe()\n",
    "print subset_data['UGDS'].describe()\n",
    "print subset_data['NUM4'].describe()\n",
    "print subset_data['UG25abv'].describe()"
   ]
  },
  {
   "cell_type": "code",
   "execution_count": 105,
   "metadata": {
    "collapsed": false
   },
   "outputs": [
    {
     "name": "stdout",
     "output_type": "stream",
     "text": [
      "[ 0.75208444  0.10635322  0.06195659  0.04306176  0.02652898  0.00695459\n",
      "  0.00306043]\n",
      "[  5.36880641e-01   2.99177189e-01   1.02480805e-01   5.14169044e-02\n",
      "   1.00444609e-02   5.01590600e-19   2.14970435e-19]\n"
     ]
    }
   ],
   "source": [
    "from sklearn.decomposition import PCA\n",
    "# features related to cost in $ (debt, cost, income)\n",
    "cost_cols = ['DEBT_MDN', 'DEP_INC_AVG', 'GRAD_DEBT_MDN', 'IND_INC_AVG', 'INEXPFTE', 'WDRAW_DEBT_MDN', 'NPT4']\n",
    "pca = PCA(n_components=len(cost_cols))\n",
    "pca.fit(X_all[cost_cols])\n",
    "\n",
    "# print pca.components_\n",
    "# Print the amount of variance in the data contained in each dimension\n",
    "print pca.explained_variance_ratio_\n",
    "\n",
    "# features related to pct of student/family composition (pct parent education, loan, pct age >25)\n",
    "pct_cols = ['PAR_ED_PCT_1STGEN', 'PAR_ED_PCT_HS', 'PAR_ED_PCT_MS', 'PAR_ED_PCT_PS', 'PCTFLOAN', 'PCTPELL', 'UG25abv']\n",
    "pca = PCA(n_components=len(pct_cols))\n",
    "pca.fit(X_all[pct_cols])\n",
    "print pca.explained_variance_ratio_"
   ]
  },
  {
   "cell_type": "code",
   "execution_count": 106,
   "metadata": {
    "collapsed": false
   },
   "outputs": [
    {
     "name": "stdout",
     "output_type": "stream",
     "text": [
      "(4625, 4)\n",
      "(4625, 4)\n"
     ]
    }
   ],
   "source": [
    "pca = PCA(n_components=4)\n",
    "pca.fit(X_all[cost_cols])\n",
    "reduced_data_cost = pca.transform(X_all[cost_cols])\n",
    "\n",
    "pca = PCA(n_components=4)\n",
    "pca.fit(X_all[pct_cols])\n",
    "reduced_data_pct  = pca.transform(X_all[pct_cols])\n",
    "\n",
    "print reduced_data_cost.shape\n",
    "print reduced_data_pct.shape"
   ]
  },
  {
   "cell_type": "code",
   "execution_count": 107,
   "metadata": {
    "collapsed": false
   },
   "outputs": [
    {
     "name": "stdout",
     "output_type": "stream",
     "text": [
      "(4625, 14)\n",
      "Index([     u'cost1',      u'cost2',      u'cost3',      u'cost4',\n",
      "             u'pct1',       u'pct2',       u'pct3',       u'pct4',\n",
      "                   0,             1,             2, u'L4_COLLEGE',\n",
      "             u'UGDS',       u'NUM4'],\n",
      "      dtype='object')\n"
     ]
    }
   ],
   "source": [
    "# print reduced_data_cost[:5]\n",
    "# print reduced_data_pct[:5]\n",
    "\n",
    "# print X_all[['CONTROL', 'L4_COLLEGE', 'UGDS', 'NUM4']]\n",
    "\n",
    "pd_cost = pd.DataFrame(reduced_data_cost, columns=['cost1', 'cost2', 'cost3', 'cost4'])\n",
    "pd_pct  = pd.DataFrame(reduced_data_pct,  columns=['pct1', 'pct2', 'pct3', 'pct4'])\n",
    "\n",
    "X = pd.DataFrame(index=range(0, len(X_all)))\n",
    "\n",
    "X = X.join(pd_cost)\n",
    "X = X.join(pd_pct)\n",
    "\n",
    "X = X.join(pd.DataFrame(data=np.array(pd.get_dummies(X_all['CONTROL'], prefix='type')), index=range(0, len(X_all))))\n",
    "X = X.join(pd.DataFrame(data=np.array(X_all['L4_COLLEGE'].astype(int)), columns=['L4_COLLEGE']))\n",
    "X = X.join(pd.DataFrame(data=np.array(X_all[['UGDS', 'NUM4']]), index=range(0, len(X_all)), columns=['UGDS', 'NUM4']))\n",
    "print X.shape\n",
    "print X.columns\n",
    "        \n",
    "# X = np.concatenate((reduced_data_cost, reduced_data_pct), axis=1)[:5]"
   ]
  },
  {
   "cell_type": "code",
   "execution_count": 108,
   "metadata": {
    "collapsed": false
   },
   "outputs": [
    {
     "data": {
      "text/plain": [
       "DecisionTreeRegressor(criterion='mse', max_depth=8, max_features=None,\n",
       "           max_leaf_nodes=None, min_samples_leaf=1, min_samples_split=2,\n",
       "           min_weight_fraction_leaf=0.0, presort=False, random_state=None,\n",
       "           splitter='best')"
      ]
     },
     "execution_count": 108,
     "metadata": {},
     "output_type": "execute_result"
    }
   ],
   "source": [
    "from sklearn import metrics\n",
    "from sklearn import cross_validation as cv\n",
    "from sklearn.tree import DecisionTreeRegressor\n",
    "\n",
    "X1_train, X1_test, y1_train, y1_test = cv.train_test_split(X, y1, train_size=0.8)\n",
    "X2_train, X2_test, y2_train, y2_test = cv.train_test_split(X, y2, train_size=0.8)\n",
    "\n",
    "\n",
    "# print X1_train.shape\n",
    "# print X1_test.shape\n",
    "# print y1_train.shape\n",
    "# print y1_test.shape\n",
    "# print y2_train.shape\n",
    "# print y2_test.shape\n",
    "\n",
    "reg1 = DecisionTreeRegressor(max_depth=8)\n",
    "reg2 = DecisionTreeRegressor(max_depth=8)\n",
    "\n",
    "reg1.fit(X1_train, y1_train)\n",
    "reg2.fit(X2_train, y2_train)"
   ]
  },
  {
   "cell_type": "code",
   "execution_count": 109,
   "metadata": {
    "collapsed": false
   },
   "outputs": [
    {
     "name": "stdout",
     "output_type": "stream",
     "text": [
      "[ 0.33728794  0.42193621  0.25615599  0.42193621]\n",
      "[ 0.30871831  0.50854981  0.2857381   0.47821135]\n",
      "[ 0.56958471  0.70837059  0.42401923  0.70837059]\n",
      "[ 0.6314  0.8016  0.375   0.8098]\n",
      "Completion\n",
      "R2 score on train data: 0.756453922279\n",
      "R2 score on test data:  0.618693401856\n",
      "Retention\n",
      "R2 score on train data: 0.5347523883\n",
      "R2 score on test data:  0.180102471822\n"
     ]
    }
   ],
   "source": [
    "print reg1.predict(np.array(X[:4]))\n",
    "print y1[:4]\n",
    "print reg2.predict(np.array(X[:4]))\n",
    "print y2[:4]\n",
    "\n",
    "def print_r2score(reg, X, y, test=False):\n",
    "    t = 'test' if test else 'train'\n",
    "    print \"R2 score on {} data: {}\".format(t, metrics.r2_score(y, reg.predict(np.array(X))))\n",
    "    \n",
    "print \"Completion\"\n",
    "print \"R2 score on train data: {}\".format(metrics.r2_score(y1_train, reg1.predict(np.array(X1_train))))\n",
    "print \"R2 score on test data:  {}\".format(metrics.r2_score(y1_test,  reg1.predict(np.array(X1_test))))\n",
    "print \"Retention\"\n",
    "print \"R2 score on train data: {}\".format(metrics.r2_score(y2_train, reg2.predict(np.array(X2_train))))\n",
    "print \"R2 score on test data:  {}\".format(metrics.r2_score(y2_test,  reg2.predict(np.array(X2_test))))\n"
   ]
  },
  {
   "cell_type": "code",
   "execution_count": 110,
   "metadata": {
    "collapsed": false
   },
   "outputs": [
    {
     "name": "stdout",
     "output_type": "stream",
     "text": [
      "{'max_depth': 7}\n",
      "R2 score on train data: 0.718886981382\n",
      "R2 score on test data: 0.649123207112\n",
      "{'max_depth': 4}\n",
      "R2 score on train data: 0.314488331437\n",
      "R2 score on test data: 0.304410500572\n"
     ]
    }
   ],
   "source": [
    "from sklearn.grid_search import GridSearchCV\n",
    "\n",
    "parameters = {'max_depth': range(1,10) } # , 'min_samples_leaf': [4,5,6,7]}\n",
    "scorer = metrics.make_scorer(metrics.r2_score, greater_is_better=True)\n",
    "reg = DecisionTreeRegressor()\n",
    "best_reg = GridSearchCV(reg, parameters, scoring=scorer, cv=2)\n",
    "best_reg.fit(X1_train, y1_train)\n",
    "print best_reg.best_params_\n",
    "\n",
    "print_r2score(best_reg, X1_train, y1_train)\n",
    "print_r2score(best_reg, X1_test, y1_test, test=True)\n",
    "\n",
    "reg = DecisionTreeRegressor()\n",
    "best_reg = GridSearchCV(reg, parameters, scoring=scorer, cv=4)\n",
    "best_reg.fit(X2_train, y2_train)\n",
    "print best_reg.best_params_\n",
    "\n",
    "print_r2score(best_reg, X2_train, y2_train)\n",
    "print_r2score(best_reg, X2_test, y2_test, test=True)\n",
    "\n",
    "\n",
    "# reg = DecisionTreeRegressor(max_depth=16)\n",
    "# reg.fit(X_train, y1_train)\n",
    "# print_r2score(reg, X_train, y1_train)\n",
    "# print_r2score(reg, X_test, y1_test, test=True)"
   ]
  },
  {
   "cell_type": "code",
   "execution_count": 111,
   "metadata": {
    "collapsed": false
   },
   "outputs": [
    {
     "name": "stdout",
     "output_type": "stream",
     "text": [
      "{'C': 10.0, 'gamma': 0.10000000000000001}\n",
      "R2 score on train data: 0.838703231253\n",
      "R2 score on test data: -0.00200098005302\n"
     ]
    }
   ],
   "source": [
    "from sklearn.svm import SVR\n",
    "\n",
    "params = {'C': np.logspace(-1, 1, 2), 'gamma': np.logspace(-1, 1, 2)} # , 'gamma': np.logspace(-2, 2, 5)\n",
    "reg = SVR()\n",
    "best_reg = GridSearchCV(reg, params, scoring=scorer, cv=3)\n",
    "best_reg.fit(X1_train, y1_train)\n",
    "\n",
    "print best_reg.best_params_\n",
    "print_r2score(best_reg, X1_train, y1_train)\n",
    "print_r2score(best_reg, X1_test, y1_test, test=True)"
   ]
  },
  {
   "cell_type": "code",
   "execution_count": 112,
   "metadata": {
    "collapsed": false
   },
   "outputs": [
    {
     "name": "stdout",
     "output_type": "stream",
     "text": [
      "{'epsilon': 0.10000000000000001, 'C': 0.10000000000000001, 'gamma': 0.10000000000000001}\n",
      "R2 score on train data: 0.481684218571\n",
      "R2 score on test data: -0.00312067687584\n"
     ]
    }
   ],
   "source": [
    "reg = SVR()\n",
    "params = {'C': np.logspace(-1, 1, 2), 'gamma': np.logspace(-1, 1, 2), 'epsilon': np.logspace(-1, 1, 2)}\n",
    "best_reg = GridSearchCV(reg, params, scoring=scorer, cv=3)\n",
    "best_reg.fit(X2_train, y2_train)\n",
    "\n",
    "print best_reg.best_params_\n",
    "print_r2score(best_reg, X2_train, y2_train)\n",
    "print_r2score(best_reg, X2_test, y2_test, test=True)"
   ]
  },
  {
   "cell_type": "code",
   "execution_count": 96,
   "metadata": {
    "collapsed": false
   },
   "outputs": [],
   "source": [
    "# print X1_train.columns\n",
    "\n",
    "# for col in X1_train.columns:\n",
    "#     print col\n",
    "#     plt.scatter(X1_train[col], y1_train, c='b', s=2, linewidths=0)\n",
    "#     plt.show()\n",
    "\n",
    "    "
   ]
  },
  {
   "cell_type": "code",
   "execution_count": 97,
   "metadata": {
    "collapsed": false
   },
   "outputs": [],
   "source": [
    "# for col, data in subset_data.iteritems():\n",
    "#     print col\n",
    "\n",
    "# cols = ['DEBT_MDN', 'DEP_INC_AVG', 'GRAD_DEBT_MDN', 'IND_INC_AVG', 'INEXPFTE']\n",
    "# for col in cols:\n",
    "#     print col\n",
    "#     plt.scatter(np.array(subset_data[col]), subset_data['C150'], c='b', s=2, linewidths=0)\n",
    "#     plt.show()\n",
    "    \n"
   ]
  },
  {
   "cell_type": "code",
   "execution_count": 113,
   "metadata": {
    "collapsed": false
   },
   "outputs": [
    {
     "name": "stdout",
     "output_type": "stream",
     "text": [
      "{'max_depth': 6}\n",
      "R2 score on train data: 0.673756580985\n",
      "R2 score on test data: 0.582673821795\n",
      "{'max_depth': 5}\n",
      "R2 score on train data: 0.360852885325\n",
      "R2 score on test data: 0.259410287908\n"
     ]
    }
   ],
   "source": [
    "# print subset_data[subset_data['CONTROL'] == 1].shape\n",
    "# print subset_data[subset_data['CONTROL'] == 2].shape\n",
    "# print subset_data[subset_data['CONTROL'] == 3].shape\n",
    "\n",
    "c1_data = subset_data\n",
    "\n",
    "X = pd.DataFrame(index=c1_data.index)\n",
    "\n",
    "X = X.join(pd.DataFrame(data=pd.get_dummies(c1_data['CONTROL'], prefix='type')))\n",
    "X = X.join(pd.DataFrame(data=X_all['L4_COLLEGE'].astype(int)))\n",
    "# X = X.join(pd.DataFrame(data=np.array(X_all[['UGDS', 'NUM4']]), index=range(0, len(X_all)), columns=['UGDS', 'NUM4']))\n",
    "\n",
    "cost_cols = ['DEBT_MDN', 'DEP_INC_AVG', 'GRAD_DEBT_MDN', 'IND_INC_AVG', 'INEXPFTE', 'WDRAW_DEBT_MDN', 'NPT4']\n",
    "X = X.join(pd.DataFrame(data=c1_data[cost_cols]))\n",
    "pct_cols = ['PAR_ED_PCT_1STGEN', 'PAR_ED_PCT_HS', 'PAR_ED_PCT_MS', 'PAR_ED_PCT_PS', 'PCTFLOAN', 'PCTPELL', 'UG25abv']\n",
    "X = X.join(pd.DataFrame(data=c1_data[pct_cols]))\n",
    "y1 = c1_data['C150']\n",
    "y2 = c1_data['RET_FT']\n",
    "\n",
    "# print y1\n",
    "# print X.columns\n",
    "# print X.index\n",
    "# print X\n",
    "\n",
    "X1_train, X1_test, y1_train, y1_test = cv.train_test_split(X, y1, train_size=0.8)\n",
    "X2_train, X2_test, y2_train, y2_test = cv.train_test_split(X, y2, train_size=0.8)\n",
    "\n",
    "parameters = {'max_depth': range(3,15) } # , 'min_samples_leaf': [4,5,6,7]}\n",
    "scorer = metrics.make_scorer(metrics.r2_score, greater_is_better=True)\n",
    "reg = DecisionTreeRegressor()\n",
    "best_reg = GridSearchCV(reg, parameters, scoring=scorer, cv=3)\n",
    "best_reg.fit(X1_train, y1_train)\n",
    "print best_reg.best_params_\n",
    "\n",
    "print_r2score(best_reg, X1_train, y1_train)\n",
    "print_r2score(best_reg, X1_test, y1_test, test=True)\n",
    "\n",
    "\n",
    "reg = DecisionTreeRegressor()\n",
    "best_reg = GridSearchCV(reg, parameters, scoring=scorer, cv=3)\n",
    "best_reg.fit(X2_train, y2_train)\n",
    "print best_reg.best_params_\n",
    "\n",
    "print_r2score(best_reg, X2_train, y2_train)\n",
    "print_r2score(best_reg, X2_test, y2_test, test=True)\n"
   ]
  },
  {
   "cell_type": "code",
   "execution_count": 115,
   "metadata": {
    "collapsed": false
   },
   "outputs": [
    {
     "name": "stdout",
     "output_type": "stream",
     "text": [
      "{'n_neighbors': 6}\n",
      "R2 score on train data: 0.703867780888\n",
      "R2 score on test data: 0.591763570403\n",
      "{'n_neighbors': 10}\n",
      "R2 score on train data: 0.420926436251\n",
      "R2 score on test data: 0.314977896738\n"
     ]
    }
   ],
   "source": [
    "from sklearn.neighbors import KNeighborsRegressor\n",
    "\n",
    "parameters = {'n_neighbors': [5,6,7,8,9,10]}\n",
    "reg = KNeighborsRegressor()\n",
    "best_reg = GridSearchCV(reg, parameters, scoring=scorer, cv=3)\n",
    "best_reg.fit(X1_train, y1_train)\n",
    "print best_reg.best_params_\n",
    "print_r2score(best_reg, X1_train, y1_train)\n",
    "print_r2score(best_reg, X1_test, y1_test, test=True)\n",
    "\n",
    "reg = KNeighborsRegressor()\n",
    "best_reg = GridSearchCV(reg, parameters, scoring=scorer, cv=3)\n",
    "best_reg.fit(X2_train, y2_train)\n",
    "print best_reg.best_params_\n",
    "print_r2score(best_reg, X2_train, y2_train)\n",
    "print_r2score(best_reg, X2_test, y2_test, test=True)\n",
    "\n"
   ]
  },
  {
   "cell_type": "code",
   "execution_count": null,
   "metadata": {
    "collapsed": true
   },
   "outputs": [],
   "source": []
  }
 ],
 "metadata": {
  "kernelspec": {
   "display_name": "Python 2",
   "language": "python",
   "name": "python2"
  },
  "language_info": {
   "codemirror_mode": {
    "name": "ipython",
    "version": 2
   },
   "file_extension": ".py",
   "mimetype": "text/x-python",
   "name": "python",
   "nbconvert_exporter": "python",
   "pygments_lexer": "ipython2",
   "version": "2.7.10"
  }
 },
 "nbformat": 4,
 "nbformat_minor": 0
}
