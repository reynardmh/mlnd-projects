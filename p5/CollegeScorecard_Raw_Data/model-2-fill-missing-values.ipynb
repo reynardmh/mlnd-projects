{
 "cells": [
  {
   "cell_type": "code",
   "execution_count": 2,
   "metadata": {
    "collapsed": true
   },
   "outputs": [],
   "source": [
    "import pandas as pd\n",
    "import numpy as np\n",
    "import matplotlib.pyplot as plt\n",
    "import re\n",
    "import sys\n",
    "import p5lib\n",
    "\n",
    "%matplotlib inline"
   ]
  },
  {
   "cell_type": "code",
   "execution_count": 3,
   "metadata": {
    "collapsed": false
   },
   "outputs": [
    {
     "name": "stdout",
     "output_type": "stream",
     "text": [
      "Number of features: 1729\n",
      "Number of rows: 7804\n"
     ]
    },
    {
     "name": "stderr",
     "output_type": "stream",
     "text": [
      "/usr/local/lib/python2.7/site-packages/IPython/core/interactiveshell.py:2902: DtypeWarning: Columns (7,9,1427,1542,1561,1575,1725,1726,1727,1728) have mixed types. Specify dtype option on import or set low_memory=False.\n",
      "  interactivity=interactivity, compiler=compiler, result=result)\n"
     ]
    }
   ],
   "source": [
    "data = pd.read_csv('MERGED2013_PP.csv')\n",
    "print \"Number of features: {}\".format(len(data.columns))\n",
    "print \"Number of rows: {}\".format(len(data))"
   ]
  },
  {
   "cell_type": "code",
   "execution_count": 4,
   "metadata": {
    "collapsed": false
   },
   "outputs": [
    {
     "name": "stdout",
     "output_type": "stream",
     "text": [
      "(6007, 42)\n"
     ]
    }
   ],
   "source": [
    "data = p5lib.preprocess_data(data)\n",
    "print data.shape"
   ]
  },
  {
   "cell_type": "code",
   "execution_count": 5,
   "metadata": {
    "collapsed": false
   },
   "outputs": [
    {
     "name": "stdout",
     "output_type": "stream",
     "text": [
      "(6007, 25)\n",
      "(6007, 2)\n"
     ]
    }
   ],
   "source": [
    "X = data[['CONTROL', 'DEBT_MDN', 'DEP_INC_AVG', 'GRAD_DEBT_MDN', 'IND_INC_AVG', 'INEXPFTE', 'PAR_ED_PCT_1STGEN', \n",
    "          'PAR_ED_PCT_HS', 'PAR_ED_PCT_MS', 'PAR_ED_PCT_PS', 'PCTFLOAN', 'PCTPELL', 'UG25abv', 'UGDS', \n",
    "          'WDRAW_DEBT_MDN', 'L4_COLLEGE', 'NPT4', 'NUM4', \n",
    "          'PFTFTUG1_EF', 'PFTFAC',\n",
    "          'SAT_AVG_ALL', 'ACTCMMID', 'ADM_RATE_ALL', 'AVGFACSAL', 'COSTT4_A',\n",
    "          'C150', 'RET_FT']]\n",
    "y = X[['C150', 'RET_FT']]\n",
    "X = X.drop('C150', 1)\n",
    "X = X.drop('RET_FT', 1)\n",
    "print X.shape\n",
    "print y.shape\n"
   ]
  },
  {
   "cell_type": "code",
   "execution_count": 6,
   "metadata": {
    "collapsed": false
   },
   "outputs": [
    {
     "name": "stdout",
     "output_type": "stream",
     "text": [
      "Number of available data for each feature (not counting the NaN values)\n",
      "CONTROL             Control (public/private)                      6007\n",
      "DEBT_MDN            Median debt                                   5242\n",
      "DEP_INC_AVG         Avg income dependent stu                      5703\n",
      "GRAD_DEBT_MDN       Median debt complete                          5186\n",
      "IND_INC_AVG         Avg income independent stu                    5688\n",
      "INEXPFTE            Expense per FTE student                       6006\n",
      "PAR_ED_PCT_1STGEN   % 1st gen students                            5513\n",
      "PAR_ED_PCT_HS       % parent education high school                5533\n",
      "PAR_ED_PCT_MS       % parent education middle school              5423\n",
      "PAR_ED_PCT_PS       % parent education post secondary             5533\n",
      "PCTFLOAN            % Fed student loan                            6005\n",
      "PCTPELL             % Pell Grant receiver                         6005\n",
      "UG25abv             % undergrad > 25 yr                           5964\n",
      "UGDS                Number of Undergrad degree seeking            6007\n",
      "WDRAW_DEBT_MDN      Median debt non-completer                     4997\n",
      "L4_COLLEGE          <4 years college                              6007\n",
      "NPT4                Avg net price Title IV                        5938\n",
      "NUM4                Num Title IV student                          5938\n",
      "PFTFTUG1_EF         Undergrad 1st-time degree seeking             3290\n",
      "PFTFAC              Full time faculty rate                        3418\n",
      "SAT_AVG_ALL         SAT all                                       1445\n",
      "ACTCMMID            ACT                                           1327\n",
      "ADM_RATE_ALL        Admission rate                                2065\n",
      "AVGFACSAL           Avg faculty salary                            3794\n",
      "COSTT4_A            Avg cost academic year                        3691\n"
     ]
    }
   ],
   "source": [
    "p5lib.print_num_data_for_each_features(X)"
   ]
  },
  {
   "cell_type": "code",
   "execution_count": 7,
   "metadata": {
    "collapsed": false
   },
   "outputs": [],
   "source": [
    "fill_cols_with_mean = ['DEBT_MDN', 'DEP_INC_AVG', 'GRAD_DEBT_MDN', 'IND_INC_AVG', 'INEXPFTE', 'WDRAW_DEBT_MDN',\n",
    "                       'PAR_ED_PCT_1STGEN', 'PAR_ED_PCT_HS', 'PAR_ED_PCT_MS', 'PAR_ED_PCT_PS', 'PCTFLOAN', 'PCTPELL', \n",
    "                       'UG25abv', 'NPT4', 'NUM4', 'PFTFTUG1_EF', 'PFTFAC', 'SAT_AVG_ALL', 'ACTCMMID', 'ADM_RATE_ALL', \n",
    "                       'AVGFACSAL', 'COSTT4_A']\n",
    "for col in fill_cols_with_mean:\n",
    "    X[col] = X[col].fillna(X[col].mean())"
   ]
  },
  {
   "cell_type": "code",
   "execution_count": 8,
   "metadata": {
    "collapsed": false
   },
   "outputs": [
    {
     "name": "stdout",
     "output_type": "stream",
     "text": [
      "Number of available data for each feature (not counting the NaN values)\n",
      "CONTROL             Control (public/private)                      6007\n",
      "DEBT_MDN            Median debt                                   6007\n",
      "DEP_INC_AVG         Avg income dependent stu                      6007\n",
      "GRAD_DEBT_MDN       Median debt complete                          6007\n",
      "IND_INC_AVG         Avg income independent stu                    6007\n",
      "INEXPFTE            Expense per FTE student                       6007\n",
      "PAR_ED_PCT_1STGEN   % 1st gen students                            6007\n",
      "PAR_ED_PCT_HS       % parent education high school                6007\n",
      "PAR_ED_PCT_MS       % parent education middle school              6007\n",
      "PAR_ED_PCT_PS       % parent education post secondary             6007\n",
      "PCTFLOAN            % Fed student loan                            6007\n",
      "PCTPELL             % Pell Grant receiver                         6007\n",
      "UG25abv             % undergrad > 25 yr                           6007\n",
      "UGDS                Number of Undergrad degree seeking            6007\n",
      "WDRAW_DEBT_MDN      Median debt non-completer                     6007\n",
      "L4_COLLEGE          <4 years college                              6007\n",
      "NPT4                Avg net price Title IV                        6007\n",
      "NUM4                Num Title IV student                          6007\n",
      "PFTFTUG1_EF         Undergrad 1st-time degree seeking             6007\n",
      "PFTFAC              Full time faculty rate                        6007\n",
      "SAT_AVG_ALL         SAT all                                       6007\n",
      "ACTCMMID            ACT                                           6007\n",
      "ADM_RATE_ALL        Admission rate                                6007\n",
      "AVGFACSAL           Avg faculty salary                            6007\n",
      "COSTT4_A            Avg cost academic year                        6007\n"
     ]
    }
   ],
   "source": [
    "p5lib.print_num_data_for_each_features(X)"
   ]
  },
  {
   "cell_type": "code",
   "execution_count": 9,
   "metadata": {
    "collapsed": false
   },
   "outputs": [
    {
     "name": "stdout",
     "output_type": "stream",
     "text": [
      "(6007, 23)\n"
     ]
    }
   ],
   "source": [
    "from sklearn import preprocessing\n",
    "\n",
    "tmpX = X[['DEBT_MDN', 'DEP_INC_AVG', 'GRAD_DEBT_MDN', 'IND_INC_AVG', 'INEXPFTE', 'UGDS', 'WDRAW_DEBT_MDN', 'NPT4', \n",
    "          'NUM4', 'SAT_AVG_ALL', 'ACTCMMID', 'AVGFACSAL', 'COSTT4_A']]\n",
    "\n",
    "scaler = preprocessing.MinMaxScaler()\n",
    "scaledX = scaler.fit_transform(tmpX)\n",
    "\n",
    "# print np.array(tmpX.ix[0])\n",
    "# print scaledX[0]\n",
    "\n",
    "# X_for_PCA = pd.DataFrame(scaledX)\n",
    "pctX = X[['PAR_ED_PCT_1STGEN', 'PAR_ED_PCT_HS', 'PAR_ED_PCT_MS', 'PAR_ED_PCT_PS', 'PCTFLOAN', 'PCTPELL', 'UG25abv', \n",
    "          'PFTFTUG1_EF', 'PFTFAC', 'ADM_RATE_ALL']]\n",
    "pctX = np.array(pctX)\n",
    "\n",
    "forPcaX = np.concatenate((scaledX, pctX), axis=1)\n",
    "# print scaledX.shape\n",
    "# print pctX.shape\n",
    "print forPcaX.shape\n"
   ]
  },
  {
   "cell_type": "code",
   "execution_count": 10,
   "metadata": {
    "collapsed": false
   },
   "outputs": [
    {
     "name": "stdout",
     "output_type": "stream",
     "text": [
      "[  3.09532908e-01   2.22170061e-01   1.14380354e-01   7.34313010e-02\n",
      "   5.86618453e-02   4.99781459e-02   3.68281480e-02   2.97028318e-02\n",
      "   2.28399100e-02   1.71245097e-02   1.60240460e-02   1.03454884e-02\n",
      "   8.53032146e-03   6.51095597e-03   6.16040757e-03   4.86048428e-03\n",
      "   4.34824502e-03   3.79707074e-03   2.99796594e-03   8.99067459e-04\n",
      "   4.41834672e-04   3.01841722e-04   1.32255865e-04]\n"
     ]
    }
   ],
   "source": [
    "from sklearn.decomposition import PCA\n",
    "\n",
    "pca = PCA(n_components=forPcaX.shape[1])\n",
    "pca.fit(forPcaX)\n",
    "\n",
    "print pca.explained_variance_ratio_"
   ]
  },
  {
   "cell_type": "code",
   "execution_count": 23,
   "metadata": {
    "collapsed": false
   },
   "outputs": [
    {
     "name": "stdout",
     "output_type": "stream",
     "text": [
      "(6007, 18)\n"
     ]
    }
   ],
   "source": [
    "pca = PCA(n_components=18)\n",
    "pca.fit(forPcaX)\n",
    "reducedX = pca.transform(forPcaX)\n",
    "print reducedX.shape"
   ]
  },
  {
   "cell_type": "code",
   "execution_count": 24,
   "metadata": {
    "collapsed": false
   },
   "outputs": [
    {
     "name": "stdout",
     "output_type": "stream",
     "text": [
      "(6007, 3)\n",
      "(6007, 1)\n",
      "(6007, 18)\n",
      "(6007, 22)\n"
     ]
    }
   ],
   "source": [
    "# add the categorical feature\n",
    "\n",
    "tmp1X = np.array(pd.get_dummies(X['CONTROL']))\n",
    "tmp2X = X['L4_COLLEGE'].astype(int)\n",
    "tmp2X = np.reshape(tmp2X, (len(tmp2X), 1)) \n",
    "print tmp1X.shape\n",
    "print tmp2X.shape\n",
    "print reducedX.shape\n",
    "finalX = np.concatenate((reducedX, tmp1X, tmp2X), axis=1)\n",
    "print finalX.shape"
   ]
  },
  {
   "cell_type": "code",
   "execution_count": 25,
   "metadata": {
    "collapsed": false
   },
   "outputs": [
    {
     "name": "stdout",
     "output_type": "stream",
     "text": [
      "(4805, 22)\n",
      "(1202, 22)\n",
      "(4805, 2)\n",
      "(1202, 2)\n"
     ]
    }
   ],
   "source": [
    "from sklearn import cross_validation as cv\n",
    "\n",
    "y = np.array(y)\n",
    "X_train, X_test, y_train, y_test = cv.train_test_split(finalX, y, train_size=0.8)\n",
    "print X_train.shape\n",
    "print X_test.shape\n",
    "print y_train.shape\n",
    "print y_test.shape"
   ]
  },
  {
   "cell_type": "code",
   "execution_count": 26,
   "metadata": {
    "collapsed": false
   },
   "outputs": [
    {
     "name": "stdout",
     "output_type": "stream",
     "text": [
      "{'epsilon': 0.10000000000000001, 'C': 10.0, 'gamma': 0.10000000000000001}\n",
      "R2 score on train data: 0.700035266771\n",
      "R2 score on test  data: 0.666317460989\n",
      "{'epsilon': 0.10000000000000001, 'C': 10.0, 'gamma': 0.10000000000000001}\n",
      "R2 score on train data: 0.387573702743\n",
      "R2 score on test  data: 0.344623907479\n"
     ]
    }
   ],
   "source": [
    "SVR_reg1, SVR_reg2 = p5lib.build_SVR_model(X_train, X_test, y_train, y_test)"
   ]
  },
  {
   "cell_type": "code",
   "execution_count": 14,
   "metadata": {
    "collapsed": false
   },
   "outputs": [
    {
     "name": "stdout",
     "output_type": "stream",
     "text": [
      "{'max_depth': 6}\n",
      "R2 score on train data: 0.635106232135\n",
      "R2 score on test  data: 0.548888290574\n",
      "{'max_depth': 4}\n",
      "R2 score on train data: 0.223647525551\n",
      "R2 score on test  data: 0.18478234085\n"
     ]
    }
   ],
   "source": [
    "DT_reg1, DT_reg2 = p5lib.build_DecisionTree_model(X_train, X_test, y_train, y_test)"
   ]
  },
  {
   "cell_type": "code",
   "execution_count": 15,
   "metadata": {
    "collapsed": false
   },
   "outputs": [
    {
     "name": "stdout",
     "output_type": "stream",
     "text": [
      "{'n_neighbors': 8}\n",
      "R2 score on train data: 0.729766964696\n",
      "R2 score on test  data: 0.677442779443\n",
      "{'n_neighbors': 19}\n",
      "R2 score on train data: 0.373497237206\n",
      "R2 score on test  data: 0.316307472186\n"
     ]
    }
   ],
   "source": [
    "KNN_reg1, KNN_reg2 = p5lib.build_KNN_model(X_train, X_test, y_train, y_test)"
   ]
  },
  {
   "cell_type": "code",
   "execution_count": 16,
   "metadata": {
    "collapsed": false
   },
   "outputs": [
    {
     "name": "stdout",
     "output_type": "stream",
     "text": [
      "R2 score on train data: 0.934811319614\n",
      "R2 score on test  data: 0.644316148341\n",
      "R2 score on train data: 0.873136384429\n",
      "R2 score on test  data: 0.238833345494\n"
     ]
    }
   ],
   "source": [
    "RForest_reg1, RForest_reg2 = p5lib.build_RandomForest_model(X_train, X_test, y_train, y_test)"
   ]
  },
  {
   "cell_type": "code",
   "execution_count": 34,
   "metadata": {
    "collapsed": false
   },
   "outputs": [
    {
     "name": "stdout",
     "output_type": "stream",
     "text": [
      "{'epsilon': 0.10000000000000001, 'C': 10.0, 'gamma': 0.10000000000000001}\n",
      "R2 score on train data: 0.700035266771\n",
      "R2 score on test  data: 0.666317460989\n",
      "{'epsilon': 0.10000000000000001, 'C': 10.0, 'gamma': 0.10000000000000001}\n",
      "R2 score on train data: 0.437978629072\n",
      "R2 score on test  data: 0.351196798513\n"
     ]
    }
   ],
   "source": [
    "from sklearn.svm import SVR\n",
    "from sklearn.grid_search import GridSearchCV\n",
    "\n",
    "scorer = p5lib.scorer\n",
    "\n",
    "y1_train, y1_test, y2_train, y2_test = p5lib.split_y(y_train, y_test)\n",
    "\n",
    "params = {'C': np.logspace(-1, 1, 2), 'gamma': np.logspace(-1, 1, 2), 'epsilon': np.logspace(-1, 1, 2)}\n",
    "reg = SVR()\n",
    "best_reg1 = GridSearchCV(reg, params, scoring=scorer, cv=4)\n",
    "best_reg1.fit(X_train, y1_train)\n",
    "\n",
    "print best_reg1.best_params_\n",
    "p5lib.print_r2score(best_reg1, X_train, y1_train)\n",
    "p5lib.print_r2score(best_reg1, X_test, y1_test, test=True)\n",
    "\n",
    "reg = SVR()\n",
    "params = {'C': np.logspace(-1, 1, 2), 'gamma': np.logspace(-1, 1, 2), 'epsilon': np.logspace(-1, 1, 2)}\n",
    "best_reg2 = GridSearchCV(reg, params, scoring=scorer, cv=4)\n",
    "\n",
    "# use the y1 data to train the y2 prediction\n",
    "reshaped_y1_train = np.reshape(y1_train, (len(y1_train), 1))\n",
    "X_train_boosted = np.concatenate((X_train, reshaped_y1_train), axis=1)\n",
    "best_reg2.fit(X_train_boosted, y2_train)\n",
    "\n",
    "print best_reg2.best_params_\n",
    "\n",
    "y1_test_prediction = best_reg1.predict(X_test) # prediction of y1 from the first model\n",
    "y1_test_prediction = np.reshape(y1_test_prediction, (len(y1_test_prediction), 1))\n",
    "X_test_boosted = np.concatenate((X_test, y1_test_prediction), axis=1)\n",
    "p5lib.print_r2score(best_reg2, X_train_boosted, y2_train)\n",
    "p5lib.print_r2score(best_reg2, X_test_boosted, y2_test, test=True)"
   ]
  },
  {
   "cell_type": "code",
   "execution_count": null,
   "metadata": {
    "collapsed": false
   },
   "outputs": [],
   "source": []
  },
  {
   "cell_type": "code",
   "execution_count": null,
   "metadata": {
    "collapsed": true
   },
   "outputs": [],
   "source": []
  }
 ],
 "metadata": {
  "kernelspec": {
   "display_name": "Python 2",
   "language": "python",
   "name": "python2"
  },
  "language_info": {
   "codemirror_mode": {
    "name": "ipython",
    "version": 2
   },
   "file_extension": ".py",
   "mimetype": "text/x-python",
   "name": "python",
   "nbconvert_exporter": "python",
   "pygments_lexer": "ipython2",
   "version": "2.7.10"
  }
 },
 "nbformat": 4,
 "nbformat_minor": 0
}
