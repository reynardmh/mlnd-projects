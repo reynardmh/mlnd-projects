{
 "cells": [
  {
   "cell_type": "code",
   "execution_count": 1,
   "metadata": {
    "collapsed": true
   },
   "outputs": [],
   "source": [
    "import pandas as pd\n",
    "import numpy as np\n",
    "# import sqlalchemy\n",
    "import matplotlib.pyplot as plt\n",
    "import re\n",
    "import sys\n",
    "\n",
    "%matplotlib inline"
   ]
  },
  {
   "cell_type": "code",
   "execution_count": 2,
   "metadata": {
    "collapsed": true
   },
   "outputs": [],
   "source": [
    "col_desc = {\n",
    "    'C150_4': 'Completion 4yr',\n",
    "    'C150_L4': 'Completion < 4yr',\n",
    "    'C150_4_POOLED_SUPP': 'Completion 4yr pooled suppressed',\n",
    "    'C150_L4_POOLED_SUPP': 'Completion <4yr pooled suppressed',\n",
    "    'C150_4_POOLED': 'Completion 4yr pooled',\n",
    "    'C150_L4_POOLED': 'Completion <4yr pooled',\n",
    "    'CCSIZSET': 'Carnegie classification-Size & settings',\n",
    "    'CCUGPROF': 'Carnegie classification-Undergrad profile ',\n",
    "    'CCBASIC': 'Carnegie classification-basic',\n",
    "    'LOCALE': 'Degree of urbanization',\n",
    "    'region': 'Region',\n",
    "    'PREDDEG': 'Predominant degree awarded',\n",
    "    'CONTROL': 'Control (public/private)',\n",
    "    'RET_FT4': 'Retention 4yr',\n",
    "    'RET_FTL4': 'Retention <4yr',\n",
    "    'ACTCMMID': 'ACT',\n",
    "    'SAT_AVG': 'SAT',\n",
    "    'SAT_AVG_ALL': 'SAT all',\n",
    "    'SATVRMID': 'SAT reading',\n",
    "    'SATMTMID': 'SAT math',\n",
    "    'SATWRMID': 'SAT writing',\n",
    "    'AVGFACSAL': 'Avg faculty salary',\n",
    "    'PFTFAC': 'Full time faculty rate',\n",
    "    'ADM_RATE_ALL': 'Admission rate',\n",
    "    'DISTANCEONLY': 'Distance only',\n",
    "    'NPT4_PUB': 'Avg net price title IV institut public',\n",
    "    'NPT4_PRIV': 'Avg net price title IV institut private',\n",
    "    'NUM4_PUB': 'Num Title IV student, public',\n",
    "    'NUM4_PRIV': 'Num Title IV student, private',\n",
    "    'COSTT4_A': 'Avg cost academic year',\n",
    "    'COSTT4_P': 'Avg cost program year',\n",
    "    'TUITIONFEE_IN': 'In state tuition',\n",
    "    'TUITIONFEE_OUT': 'Out of state tuition',\n",
    "    'TUITIONFEE_PROG': 'Tuition fee program year',\n",
    "    'TUITFTE': 'Net revenue per FTE student',\n",
    "    'INEXPFTE': 'Expense per FTE student',\n",
    "    'PCTPELL': '% Pell Grant receiver',\n",
    "    'PCTFLOAN': '% Fed student loan',\n",
    "    'UG25abv': '% undergrad > 25 yr',\n",
    "    'PFTFTUG1_EF': 'Undergrad 1st-time degree seeking',\n",
    "    'UGDS': 'Number of Undergrad degree seeking',\n",
    "    'PAR_ED_PCT_1STGEN': '% 1st gen students',\n",
    "    'PAR_ED_PCT_MS': '% parent education middle school',\n",
    "    'PAR_ED_PCT_HS': '% parent education high school',\n",
    "    'PAR_ED_PCT_PS': '% parent education post secondary',\n",
    "    'DEP_INC_AVG': 'Avg income dependent stu',\n",
    "    'IND_INC_AVG': 'Avg income independent stu',\n",
    "    'DEBT_MDN': 'Median debt',\n",
    "    'DEBT_MDN_SUPP': 'Median debt suppressed',\n",
    "    'GRAD_DEBT_MDN': 'Median debt complete',\n",
    "    'GRAD_DEBT_MDN_SUPP': 'Median debt completer suppressed',\n",
    "    'WDRAW_DEBT_MDN': 'Median debt non-completer',\n",
    "}\n",
    "\n",
    "faculty_cols = ['AVGFACSAL', 'PFTFAC', 'ADM_RATE_ALL']\n",
    "stu_score_cols = ['ACTCMMID', 'SAT_AVG', 'SAT_AVG_ALL', 'SATVRMID', 'SATMTMID', 'SATWRMID']\n",
    "cost_cols = ['COSTT4_A', 'COSTT4_P', 'TUITIONFEE_IN', 'TUITIONFEE_OUT', 'TUITIONFEE_PROG', 'TUITFTE', \n",
    "             'INEXPFTE', 'NPT4_PUB', 'NPT4_PRIV']\n",
    "grant_loan_cols = ['PCTPELL', 'PCTFLOAN']\n",
    "stu_composition_cols = ['NUM4_PUB', 'NUM4_PRIV', 'UG25abv', 'PFTFTUG1_EF', 'UGDS', 'PAR_ED_PCT_1STGEN', \n",
    "                        'PAR_ED_PCT_MS', 'PAR_ED_PCT_HS', \n",
    "                        'PAR_ED_PCT_PS', 'DEP_INC_AVG', 'IND_INC_AVG']\n",
    "debt_cols = ['DEBT_MDN', 'DEBT_MDN_SUPP', 'GRAD_DEBT_MDN', 'GRAD_DEBT_MDN_SUPP', 'WDRAW_DEBT_MDN']\n"
   ]
  },
  {
   "cell_type": "code",
   "execution_count": 3,
   "metadata": {
    "collapsed": false
   },
   "outputs": [
    {
     "name": "stderr",
     "output_type": "stream",
     "text": [
      "/usr/local/lib/python2.7/site-packages/IPython/core/interactiveshell.py:2902: DtypeWarning: Columns (7,9,1427,1542,1561,1575,1725,1726,1727,1728) have mixed types. Specify dtype option on import or set low_memory=False.\n",
      "  interactivity=interactivity, compiler=compiler, result=result)\n",
      "/usr/local/lib/python2.7/site-packages/IPython/core/interactiveshell.py:2902: DtypeWarning: Columns (1427,1517,1532,1542,1545,1546,1575) have mixed types. Specify dtype option on import or set low_memory=False.\n",
      "  interactivity=interactivity, compiler=compiler, result=result)\n"
     ]
    },
    {
     "name": "stdout",
     "output_type": "stream",
     "text": [
      "=== Year 2013 ===\n",
      "Number of features: 1729\n",
      "Number of rows: 7804\n",
      "=== Year 2012 ===\n",
      "Number of features: 1729\n",
      "Number of rows: 7793\n",
      "=== Year 2011 ===\n",
      "Number of features: 1729\n",
      "Number of rows: 7675\n",
      "=== Year 2010 ==="
     ]
    },
    {
     "name": "stderr",
     "output_type": "stream",
     "text": [
      "/usr/local/lib/python2.7/site-packages/IPython/core/interactiveshell.py:2902: DtypeWarning: Columns (1,1408,1461,1561) have mixed types. Specify dtype option on import or set low_memory=False.\n",
      "  interactivity=interactivity, compiler=compiler, result=result)\n",
      "/usr/local/lib/python2.7/site-packages/IPython/core/interactiveshell.py:2902: DtypeWarning: Columns (1) have mixed types. Specify dtype option on import or set low_memory=False.\n",
      "  interactivity=interactivity, compiler=compiler, result=result)\n"
     ]
    },
    {
     "name": "stdout",
     "output_type": "stream",
     "text": [
      "\n",
      "Number of features: 1729\n",
      "Number of rows: 7414\n",
      "=== Year 2009 ===\n",
      "Number of features: 1729\n",
      "Number of rows: 7149\n"
     ]
    }
   ],
   "source": [
    "years = ['13','12','11','10','09']\n",
    "dy = {}\n",
    "for y in years:\n",
    "    data = pd.read_csv('MERGED20{}_PP.csv'.format(y))\n",
    "    print \"=== Year 20{} ===\".format(y)\n",
    "    print \"Number of features: {}\".format(len(data.columns))\n",
    "    print \"Number of rows: {}\".format(len(data))\n",
    "    dy[y] = data[sorted(col_desc.keys())]\n",
    "    data = None"
   ]
  },
  {
   "cell_type": "code",
   "execution_count": 5,
   "metadata": {
    "collapsed": false
   },
   "outputs": [
    {
     "name": "stdout",
     "output_type": "stream",
     "text": [
      "Number of available data for each feature (not counting the NaN values)\n",
      "col                 desc                                           2013  2012  2011  2010  2009\n",
      "--------------------------------------------------------------------------------------------------\n",
      "ACTCMMID            ACT                                            1342  1328  1333  1331  1320\n",
      "ADM_RATE_ALL        Admission rate                                 2484  2635  2638  2580  3027\n",
      "AVGFACSAL           Avg faculty salary                             4654  4476  4579  4500  4404\n",
      "C150_4              Completion 4yr                                 2448  2423  2370  2319  2269\n",
      "C150_4_POOLED       Completion 4yr pooled                          2472     0     0     0     0\n",
      "C150_4_POOLED_SUPP  Completion 4yr pooled suppressed               2472     0     0     0     0\n",
      "C150_L4             Completion < 4yr                               3965  3923  3895  3846  3801\n",
      "C150_L4_POOLED      Completion <4yr pooled                         4018     0     0     0     0\n",
      "C150_L4_POOLED_SUPP Completion <4yr pooled suppressed              4018     0     0     0     0\n",
      "CCBASIC             Carnegie classification-basic                  4355     0     0     0     0\n",
      "CCSIZSET            Carnegie classification-Size & settings        3576     0     0     0     0\n",
      "CCUGPROF            Carnegie classification-Undergrad profile      3559     0     0     0     0\n",
      "CONTROL             Control (public/private)                       7804  7793  7675  7414  7149\n",
      "COSTT4_A            Avg cost academic year                         4137  4138  4155  4055  4019\n",
      "COSTT4_P            Avg cost program year                          2541  2526  2536  2423  2230\n",
      "DEBT_MDN            Median debt                                    7094  7105  6992  6754  6516\n",
      "DEBT_MDN_SUPP       Median debt suppressed                         7094  7105  6992  6754  6516\n",
      "DEP_INC_AVG         Avg income dependent stu                       7580  7551  7472  7241  6995\n",
      "DISTANCEONLY        Distance only                                  7383  7405  7370     0     0\n",
      "GRAD_DEBT_MDN       Median debt complete                           6987  6998  6857  6622  6358\n",
      "GRAD_DEBT_MDN_SUPP  Median debt completer suppressed               7094  7105  6992  6754  6516\n",
      "IND_INC_AVG         Avg income independent stu                     7582  7593  7526  7272  7004\n",
      "INEXPFTE            Expense per FTE student                        7362  7377  7311  7083  6817\n",
      "LOCALE              Degree of urbanization                         7380     0     0     0     0\n",
      "NPT4_PRIV           Avg net price title IV institut private        4753  4785  4738  2160  2124\n",
      "NPT4_PUB            Avg net price title IV institut public         1923  1934  1961  1652  1686\n",
      "NUM4_PRIV           Num Title IV student, private                  4785  4825  4806  2181  2154\n",
      "NUM4_PUB            Num Title IV student, public                   1924  1942  1975  1659  1690\n",
      "PAR_ED_PCT_1STGEN   % 1st gen students                             7597  7608  7539  7288  7024\n",
      "PAR_ED_PCT_HS       % parent education high school                 7597  7608  7539  7288  7024\n",
      "PAR_ED_PCT_MS       % parent education middle school               7597  7608  7539  7288  7024\n",
      "PAR_ED_PCT_PS       % parent education post secondary              7597  7608  7539  7288  7024\n",
      "PCTFLOAN            % Fed student loan                             7063  7041  6998  6785  6557\n",
      "PCTPELL             % Pell Grant receiver                          7063  7041  6998  6785  6557\n",
      "PFTFAC              Full time faculty rate                         4127  4139  4384  4547  4436\n",
      "PFTFTUG1_EF         Undergrad 1st-time degree seeking              3686  3710  3737  3704  3671\n",
      "PREDDEG             Predominant degree awarded                     7804  7793  7675  7414  7149\n",
      "RET_FT4             Retention 4yr                                  2348  2361  2363  2316  2305\n",
      "RET_FTL4            Retention <4yr                                 3920  3949  3945  3833  3647\n",
      "SATMTMID            SAT math                                       1315  1314  1290  1289  1282\n",
      "SATVRMID            SAT reading                                    1301  1299  1267  1273  1272\n",
      "SATWRMID            SAT writing                                     793   780   748   732   705\n",
      "SAT_AVG             SAT                                            1420  1427  1422  1429  1447\n",
      "SAT_AVG_ALL         SAT all                                        1531  1540  1533  1530  1557\n",
      "TUITFTE             Net revenue per FTE student                    7362  7377  7311  7083  6817\n",
      "TUITIONFEE_IN       In state tuition                               4415  4437  4421  4312  4263\n",
      "TUITIONFEE_OUT      Out of state tuition                           4196  4252  4252  4157  4115\n",
      "TUITIONFEE_PROG     Tuition fee program year                       2712  2708  2643  2531  2307\n",
      "UG25abv             % undergrad > 25 yr                            7031     0  7002     0  6537\n",
      "UGDS                Number of Undergrad degree seeking             7090  7087  7052  6864  6596\n",
      "WDRAW_DEBT_MDN      Median debt non-completer                      6995  6996  6901  6657  6378\n",
      "region              Region                                         7804  7793  7674  7414  7149\n"
     ]
    }
   ],
   "source": [
    "print \"Number of available data for each feature (not counting the NaN values)\"\n",
    "tmp = {}\n",
    "for y in years:\n",
    "    tmp[y] = (dy[y].isnull().sum() - len(dy[y])) * -1\n",
    "print \"{0:20s}{1:45s}{2:6d}{3:6d}{4:6d}{5:6d}{6:6d}\".format('col', 'desc', 2013, 2012, 2011, 2010, 2009)\n",
    "print \"-\" * 98\n",
    "for k, v in tmp['13'].iteritems(): \n",
    "    print \"{0:20s}{1:45s}{2:6d}{3:6d}{4:6d}{5:6d}{6:6d}\".format(k, col_desc[k], v, tmp['12'][k], tmp['11'][k], \n",
    "                                                                tmp['10'][k], tmp['09'][k])"
   ]
  },
  {
   "cell_type": "code",
   "execution_count": null,
   "metadata": {
    "collapsed": true
   },
   "outputs": [],
   "source": []
  }
 ],
 "metadata": {
  "kernelspec": {
   "display_name": "Python 2",
   "language": "python",
   "name": "python2"
  },
  "language_info": {
   "codemirror_mode": {
    "name": "ipython",
    "version": 2
   },
   "file_extension": ".py",
   "mimetype": "text/x-python",
   "name": "python",
   "nbconvert_exporter": "python",
   "pygments_lexer": "ipython2",
   "version": "2.7.10"
  }
 },
 "nbformat": 4,
 "nbformat_minor": 0
}
