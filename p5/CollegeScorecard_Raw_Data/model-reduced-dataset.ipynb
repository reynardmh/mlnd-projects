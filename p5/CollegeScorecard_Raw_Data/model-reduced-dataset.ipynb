{
 "cells": [
  {
   "cell_type": "code",
   "execution_count": 1,
   "metadata": {
    "collapsed": false
   },
   "outputs": [],
   "source": [
    "import pandas as pd\n",
    "import numpy as np\n",
    "import matplotlib.pyplot as plt\n",
    "import re\n",
    "import sys\n",
    "from p5lib import *\n",
    "\n",
    "%matplotlib inline"
   ]
  },
  {
   "cell_type": "code",
   "execution_count": 2,
   "metadata": {
    "collapsed": false
   },
   "outputs": [
    {
     "name": "stdout",
     "output_type": "stream",
     "text": [
      "Number of features: 1729\n",
      "Number of rows: 7804\n"
     ]
    },
    {
     "name": "stderr",
     "output_type": "stream",
     "text": [
      "/usr/local/lib/python2.7/site-packages/IPython/core/interactiveshell.py:2902: DtypeWarning: Columns (7,9,1427,1542,1561,1575,1725,1726,1727,1728) have mixed types. Specify dtype option on import or set low_memory=False.\n",
      "  interactivity=interactivity, compiler=compiler, result=result)\n"
     ]
    }
   ],
   "source": [
    "data = pd.read_csv('MERGED2013_PP.csv')\n",
    "print \"Number of features: {}\".format(len(data.columns))\n",
    "print \"Number of rows: {}\".format(len(data))"
   ]
  },
  {
   "cell_type": "code",
   "execution_count": 3,
   "metadata": {
    "collapsed": false
   },
   "outputs": [
    {
     "name": "stdout",
     "output_type": "stream",
     "text": [
      "Num data after preprocessing: 6007\n",
      "Num features: 45\n"
     ]
    }
   ],
   "source": [
    "data = preprocess_data(data)\n",
    "print \"Num data after preprocessing: {}\".format(len(data))\n",
    "print \"Num features: {}\".format(len(data.columns))\n",
    "# print data.shape\n"
   ]
  },
  {
   "cell_type": "code",
   "execution_count": 4,
   "metadata": {
    "collapsed": false
   },
   "outputs": [
    {
     "name": "stdout",
     "output_type": "stream",
     "text": [
      "(1210, 25)\n",
      "(1210, 2)\n"
     ]
    }
   ],
   "source": [
    "selected_features = ['CONTROL', 'DEBT_MDN', 'DEP_INC_AVG', 'GRAD_DEBT_MDN', 'IND_INC_AVG', 'INEXPFTE', 'PAR_ED_PCT_1STGEN', \n",
    "          'PAR_ED_PCT_HS', 'PAR_ED_PCT_MS', 'PAR_ED_PCT_PS', 'PCTFLOAN', 'PCTPELL', 'UG25abv', 'UGDS', \n",
    "          'WDRAW_DEBT_MDN', 'L4_COLLEGE', 'NPT4', 'NUM4', \n",
    "          'PFTFTUG1_EF', 'PFTFAC',\n",
    "          'SAT_AVG_ALL', 'ACTCMMID', 'ADM_RATE_ALL', 'AVGFACSAL', 'COSTT4_A',\n",
    "          'C150', 'RET_FT']\n",
    "reduced_data = data[selected_features].dropna()\n",
    "\n",
    "X = reduced_data.copy()\n",
    "y = X[['C150', 'RET_FT']]\n",
    "X = X.drop('C150', 1)\n",
    "X = X.drop('RET_FT', 1)\n",
    "print X.shape\n",
    "print y.shape\n",
    "\n",
    "# print X.PFTFTUG1_EF.describe()"
   ]
  },
  {
   "cell_type": "code",
   "execution_count": 5,
   "metadata": {
    "collapsed": false,
    "scrolled": false
   },
   "outputs": [],
   "source": [
    "# print X.corr(method='pearson')"
   ]
  },
  {
   "cell_type": "code",
   "execution_count": 6,
   "metadata": {
    "collapsed": false
   },
   "outputs": [],
   "source": [
    "faculty_cols = ['AVGFACSAL', 'PFTFAC', 'ADM_RATE_ALL']\n",
    "stu_score_cols = ['ACTCMMID', 'SAT_AVG_ALL']\n",
    "cost_cols = ['COSTT4_A', 'COSTT4_P', 'TUITIONFEE_IN', 'TUITIONFEE_OUT', 'TUITIONFEE_PROG', 'TUITFTE', \n",
    "             'INEXPFTE', 'NPT4']\n",
    "grant_loan_cols = ['PCTPELL', 'PCTFLOAN']\n",
    "stu_composition_cols = ['NUM4', 'UG25abv', 'PFTFTUG1_EF', 'UGDS', 'PAR_ED_PCT_1STGEN', \n",
    "                        'PAR_ED_PCT_MS', 'PAR_ED_PCT_HS', \n",
    "                        'PAR_ED_PCT_PS', 'DEP_INC_AVG', 'IND_INC_AVG']\n",
    "debt_cols = ['DEBT_MDN', 'GRAD_DEBT_MDN', 'WDRAW_DEBT_MDN']\n",
    "\n",
    "reduced_data['L4_COLLEGE'] = reduced_data['L4_COLLEGE'].astype(int)\n",
    "\n",
    "data_for_plotting = {\n",
    "    'data': reduced_data,\n",
    "    'data_L4': reduced_data[reduced_data['L4_COLLEGE'] == 1],\n",
    "    'data_4': reduced_data[reduced_data['L4_COLLEGE'] == 0],\n",
    "    'data_control1': reduced_data[reduced_data.CONTROL == 1], # public\n",
    "    'data_control2': reduced_data[reduced_data.CONTROL == 2], # private non-profit\n",
    "    'data_control3': reduced_data[reduced_data.CONTROL == 3]  # private profit\n",
    "}\n",
    "\n",
    "# 'DEBT_MDN', 'PFTFAC', 'ACTCMMID', 'SAT_AVG_ALL', 'COSTT4_A', 'INEXPFTE', 'PCTPELL', 'PAR_ED_PCT_1STGEN', \n",
    "# 'PAR_ED_PCT_PS', 'DEP_INC_AVG', "
   ]
  },
  {
   "cell_type": "code",
   "execution_count": 11,
   "metadata": {
    "collapsed": false,
    "scrolled": false
   },
   "outputs": [],
   "source": [
    "# plot_feature_vs_completion(debt_cols, data_for_plotting)"
   ]
  },
  {
   "cell_type": "code",
   "execution_count": 5,
   "metadata": {
    "collapsed": false
   },
   "outputs": [
    {
     "name": "stdout",
     "output_type": "stream",
     "text": [
      "(1210, 23)\n"
     ]
    }
   ],
   "source": [
    "from sklearn import preprocessing\n",
    "\n",
    "tmpX = X[['DEBT_MDN', 'DEP_INC_AVG', 'GRAD_DEBT_MDN', 'IND_INC_AVG', 'INEXPFTE', 'UGDS', 'WDRAW_DEBT_MDN', 'NPT4', \n",
    "          'NUM4', 'SAT_AVG_ALL', 'ACTCMMID', 'AVGFACSAL', 'COSTT4_A',\n",
    "          'PAR_ED_PCT_1STGEN', 'PAR_ED_PCT_HS', 'PAR_ED_PCT_MS', 'PAR_ED_PCT_PS', 'PCTFLOAN', 'PCTPELL', 'UG25abv', \n",
    "          'PFTFTUG1_EF', 'PFTFAC', 'ADM_RATE_ALL'\n",
    "         ]]\n",
    "\n",
    "scaler = preprocessing.StandardScaler()\n",
    "forPcaX = scaler.fit_transform(tmpX)\n",
    "print forPcaX.shape"
   ]
  },
  {
   "cell_type": "code",
   "execution_count": 6,
   "metadata": {
    "collapsed": false
   },
   "outputs": [
    {
     "name": "stdout",
     "output_type": "stream",
     "text": [
      "[  3.61448338e-01   1.60225813e-01   9.03945924e-02   7.37503475e-02\n",
      "   6.59417566e-02   4.55909843e-02   3.48239856e-02   2.68635652e-02\n",
      "   2.29647586e-02   1.98769269e-02   1.93667645e-02   1.59849191e-02\n",
      "   1.40968240e-02   1.16973258e-02   9.89668434e-03   9.22112533e-03\n",
      "   6.36891416e-03   4.01930561e-03   3.41721299e-03   2.80217633e-03\n",
      "   1.24767981e-03   8.25017351e-19   2.22500832e-19]\n"
     ]
    }
   ],
   "source": [
    "from sklearn.decomposition import PCA\n",
    "pca = PCA(n_components=forPcaX.shape[1])\n",
    "pca.fit(forPcaX)\n",
    "print pca.explained_variance_ratio_"
   ]
  },
  {
   "cell_type": "code",
   "execution_count": 7,
   "metadata": {
    "collapsed": false
   },
   "outputs": [
    {
     "name": "stdout",
     "output_type": "stream",
     "text": [
      "(1210, 12)\n"
     ]
    }
   ],
   "source": [
    "pca = PCA(n_components=12)\n",
    "pca.fit(forPcaX)\n",
    "reducedX = pca.transform(forPcaX)\n",
    "print reducedX.shape"
   ]
  },
  {
   "cell_type": "code",
   "execution_count": 8,
   "metadata": {
    "collapsed": false
   },
   "outputs": [
    {
     "name": "stdout",
     "output_type": "stream",
     "text": [
      "(1210, 3)\n",
      "(1210, 1)\n",
      "(1210, 12)\n",
      "(1210, 16)\n"
     ]
    }
   ],
   "source": [
    "# add the categorical feature\n",
    "\n",
    "tmp1X = np.array(pd.get_dummies(X['CONTROL']))\n",
    "tmp2X = X['L4_COLLEGE'].astype(int)\n",
    "tmp2X = np.reshape(tmp2X, (len(tmp2X), 1)) \n",
    "print tmp1X.shape\n",
    "print tmp2X.shape\n",
    "print reducedX.shape\n",
    "finalX = np.concatenate((reducedX, tmp1X, tmp2X), axis=1)\n",
    "print finalX.shape"
   ]
  },
  {
   "cell_type": "code",
   "execution_count": 9,
   "metadata": {
    "collapsed": false
   },
   "outputs": [
    {
     "name": "stdout",
     "output_type": "stream",
     "text": [
      "(968, 16)\n",
      "(242, 16)\n",
      "(968, 2)\n",
      "(242, 2)\n"
     ]
    }
   ],
   "source": [
    "from sklearn import metrics\n",
    "from sklearn import cross_validation as cv\n",
    "from sklearn.tree import DecisionTreeRegressor\n",
    "\n",
    "y = np.array(y)\n",
    "X_train, X_test, y_train, y_test = cv.train_test_split(finalX, y, train_size=0.8)\n",
    "print X_train.shape\n",
    "print X_test.shape\n",
    "print y_train.shape\n",
    "print y_test.shape"
   ]
  },
  {
   "cell_type": "code",
   "execution_count": 11,
   "metadata": {
    "collapsed": false
   },
   "outputs": [
    {
     "name": "stdout",
     "output_type": "stream",
     "text": [
      "--- R2 Completion ---\n",
      "best params: {'epsilon': 0.10000000000000001, 'C': 10.0, 'gamma': 0.10000000000000001}\n",
      "R2 score on train data: 0.846869676382\n",
      "R2 score on test  data: 0.727118382761\n",
      "--- R2 Retention ---\n",
      "best params: {'epsilon': 0.10000000000000001, 'C': 0.10000000000000001, 'gamma': 0.10000000000000001}\n",
      "R2 score on train data: 0.647047444127\n",
      "R2 score on test  data: 0.59109308423\n",
      "--- MSE Completion ---\n",
      "MSE on train data: 0.0042225222819\n",
      "MSE on test  data: 0.00740640859897\n",
      "--- MSE Retention ---\n",
      "MSE on train data: 0.00454543511711\n",
      "MSE on test  data: 0.0051609058231\n",
      "--- MAE Completion ---\n",
      "MAE on train data: 0.0552822432893\n",
      "MAE on test  data: 0.065083754705\n",
      "--- MAE Retention ---\n",
      "MAE on train data: 0.0529544574123\n",
      "MAE on test  data: 0.0564402214313\n"
     ]
    },
    {
     "data": {
      "image/png": "[encoded data removed]",
      "text/plain": [
       "<matplotlib.figure.Figure at 0x110752750>"
      ]
     },
     "metadata": {},
     "output_type": "display_data"
    },
    {
     "data": {
      "image/png": "[encoded data removed]",
      "text/plain": [
       "<matplotlib.figure.Figure at 0x10e35e1d0>"
      ]
     },
     "metadata": {},
     "output_type": "display_data"
    },
    {
     "data": {
      "image/png": "[encoded data removed]",
      "text/plain": [
       "<matplotlib.figure.Figure at 0x10f3c74d0>"
      ]
     },
     "metadata": {},
     "output_type": "display_data"
    }
   ],
   "source": [
    "SVR_model = build_SVR_model(X_train, X_test, y_train, y_test, cv=3)"
   ]
  },
  {
   "cell_type": "code",
   "execution_count": 12,
   "metadata": {
    "collapsed": false,
    "scrolled": false
   },
   "outputs": [
    {
     "name": "stdout",
     "output_type": "stream",
     "text": [
      "--- R2 Completion ---\n",
      "best params: {'n_neighbors': 10}\n",
      "R2 score on train data: 0.809071402774\n",
      "R2 score on test  data: 0.763800013297\n",
      "--- R2 Retention ---\n",
      "best params: {'n_neighbors': 9}\n",
      "R2 score on train data: 0.71393975318\n",
      "R2 score on test  data: 0.700221265094\n",
      "--- MSE Completion ---\n",
      "MSE on train data: 0.0052647982254\n",
      "MSE on test  data: 0.00641081517435\n",
      "--- MSE Retention ---\n",
      "MSE on train data: 0.00368397471521\n",
      "MSE on test  data: 0.00378357459596\n",
      "--- MAE Completion ---\n",
      "MAE on train data: 0.055132905991\n",
      "MAE on test  data: 0.0617437520597\n",
      "--- MAE Retention ---\n",
      "MAE on train data: 0.0414896349862\n",
      "MAE on test  data: 0.0446914141414\n"
     ]
    },
    {
     "data": {
      "image/png": "[encoded data removed]",
      "text/plain": [
       "<matplotlib.figure.Figure at 0x10f491a50>"
      ]
     },
     "metadata": {},
     "output_type": "display_data"
    },
    {
     "data": {
      "image/png": "[encoded data removed]",
      "text/plain": [
       "<matplotlib.figure.Figure at 0x10e1722d0>"
      ]
     },
     "metadata": {},
     "output_type": "display_data"
    },
    {
     "data": {
      "image/png": "[encoded data removed]",
      "text/plain": [
       "<matplotlib.figure.Figure at 0x10f464890>"
      ]
     },
     "metadata": {},
     "output_type": "display_data"
    }
   ],
   "source": [
    "KNN_model = build_KNN_model(X_train, X_test, y_train, y_test)"
   ]
  },
  {
   "cell_type": "code",
   "execution_count": 14,
   "metadata": {
    "collapsed": false
   },
   "outputs": [
    {
     "name": "stdout",
     "output_type": "stream",
     "text": [
      "(6007, 27)\n",
      "6007\n"
     ]
    }
   ],
   "source": [
    "X_all = data[selected_features].copy()\n",
    "\n",
    "fill_cols_with_mean = ['DEBT_MDN', 'DEP_INC_AVG', 'GRAD_DEBT_MDN', 'IND_INC_AVG', 'INEXPFTE', 'WDRAW_DEBT_MDN',\n",
    "                       'PAR_ED_PCT_1STGEN', 'PAR_ED_PCT_HS', 'PAR_ED_PCT_MS', 'PAR_ED_PCT_PS', 'PCTFLOAN', 'PCTPELL', \n",
    "                       'UG25abv', 'NPT4', 'NUM4', 'PFTFTUG1_EF', 'PFTFAC', 'SAT_AVG_ALL', 'ACTCMMID', 'ADM_RATE_ALL', \n",
    "                       'AVGFACSAL', 'COSTT4_A']\n",
    "\n",
    "for col in fill_cols_with_mean:\n",
    "    if col in X:\n",
    "        X_all[col] = X_all[col].fillna(X_all[col].mean())\n",
    "\n",
    "print X_all.shape\n",
    "print len(X_all.dropna()) # check there is no missing values"
   ]
  },
  {
   "cell_type": "code",
   "execution_count": 15,
   "metadata": {
    "collapsed": false
   },
   "outputs": [
    {
     "name": "stdout",
     "output_type": "stream",
     "text": [
      "(6007, 2)\n",
      "(6007, 25)\n",
      "(6007,)\n",
      "(6007,)\n"
     ]
    }
   ],
   "source": [
    "y1_all = X_all.C150\n",
    "y2_all = X_all.RET_FT\n",
    "y_all = X_all[['C150', 'RET_FT']].as_matrix()\n",
    "print y_all.shape\n",
    "X_all = X_all.drop('C150', 1)\n",
    "X_all = X_all.drop('RET_FT', 1)\n",
    "\n",
    "print X_all.shape\n",
    "print y1_all.shape\n",
    "print y2_all.shape"
   ]
  },
  {
   "cell_type": "code",
   "execution_count": 16,
   "metadata": {
    "collapsed": false
   },
   "outputs": [
    {
     "name": "stdout",
     "output_type": "stream",
     "text": [
      "(6007, 23)\n",
      "(6007, 12)\n"
     ]
    }
   ],
   "source": [
    "tmpX = X_all[['DEBT_MDN', 'DEP_INC_AVG', 'GRAD_DEBT_MDN', 'IND_INC_AVG', 'INEXPFTE', 'UGDS', 'WDRAW_DEBT_MDN', 'NPT4', \n",
    "          'NUM4', 'SAT_AVG_ALL', 'ACTCMMID', 'AVGFACSAL', 'COSTT4_A',\n",
    "          'PAR_ED_PCT_1STGEN', 'PAR_ED_PCT_HS', 'PAR_ED_PCT_MS', 'PAR_ED_PCT_PS', 'PCTFLOAN', 'PCTPELL', 'UG25abv', \n",
    "          'PFTFTUG1_EF', 'PFTFAC', 'ADM_RATE_ALL'\n",
    "         ]]\n",
    "\n",
    "# use the scaler & pca that was used to train the model\n",
    "forPcaX = scaler.transform(tmpX)\n",
    "print forPcaX.shape\n",
    "reducedX = pca.transform(forPcaX)\n",
    "print reducedX.shape\n"
   ]
  },
  {
   "cell_type": "code",
   "execution_count": 17,
   "metadata": {
    "collapsed": false
   },
   "outputs": [
    {
     "name": "stdout",
     "output_type": "stream",
     "text": [
      "(6007, 3)\n",
      "(6007, 1)\n",
      "(6007, 12)\n",
      "(6007, 16)\n",
      "R2 score on train data: 0.126002501628\n",
      "MAE on train data: 0.180327650579\n",
      "MSE on train data: 0.0493104962464\n",
      "R2 score on train data: 0.0700266542575\n",
      "MAE on train data: 0.127675149942\n",
      "MSE on train data: 0.0296799853651\n"
     ]
    },
    {
     "data": {
      "text/plain": [
       "0.029679985365067878"
      ]
     },
     "execution_count": 17,
     "metadata": {},
     "output_type": "execute_result"
    }
   ],
   "source": [
    "\n",
    "tmp1X = np.array(pd.get_dummies(X_all['CONTROL']))\n",
    "tmp2X = X_all['L4_COLLEGE'].astype(int)\n",
    "tmp2X = np.reshape(tmp2X, (len(tmp2X), 1)) \n",
    "print tmp1X.shape\n",
    "print tmp2X.shape\n",
    "print reducedX.shape\n",
    "finalX = np.concatenate((reducedX, tmp1X, tmp2X), axis=1)\n",
    "print finalX.shape\n",
    "\n",
    "print_r2score(SVR_model['reg1'], finalX, y1_all)\n",
    "print_mae(SVR_model['reg1'], finalX, y1_all)\n",
    "print_mse(SVR_model['reg1'], finalX, y1_all)\n",
    "\n",
    "print_r2score(SVR_model['reg2'], finalX, y2_all)\n",
    "print_mae(SVR_model['reg2'], finalX, y2_all)\n",
    "print_mse(SVR_model['reg2'], finalX, y2_all)"
   ]
  },
  {
   "cell_type": "code",
   "execution_count": 19,
   "metadata": {
    "collapsed": false
   },
   "outputs": [
    {
     "data": {
      "image/png": "[encoded data removed]",
      "text/plain": [
       "<matplotlib.figure.Figure at 0x110f70910>"
      ]
     },
     "metadata": {},
     "output_type": "display_data"
    },
    {
     "data": {
      "image/png": "[encoded data removed]",
      "text/plain": [
       "<matplotlib.figure.Figure at 0x11044d7d0>"
      ]
     },
     "metadata": {},
     "output_type": "display_data"
    },
    {
     "data": {
      "image/png": "[encoded data removed]",
      "text/plain": [
       "<matplotlib.figure.Figure at 0x10e32aa90>"
      ]
     },
     "metadata": {},
     "output_type": "display_data"
    },
    {
     "data": {
      "image/png": "[encoded data removed]",
      "text/plain": [
       "<matplotlib.figure.Figure at 0x10db1e750>"
      ]
     },
     "metadata": {},
     "output_type": "display_data"
    }
   ],
   "source": [
    "# print [y_test.shape, y_all.shape]\n",
    "# print [X_test.shape, X_all.shape]\n",
    "\n",
    "hist_plot_delta(SVR_model, X_test, y_test, 'SVR (on reduced data set)')\n",
    "hist_plot_delta(SVR_model, finalX, y_all, 'SVR (on all data)')"
   ]
  },
  {
   "cell_type": "code",
   "execution_count": null,
   "metadata": {
    "collapsed": true
   },
   "outputs": [],
   "source": []
  }
 ],
 "metadata": {
  "kernelspec": {
   "display_name": "Python 2",
   "language": "python",
   "name": "python2"
  },
  "language_info": {
   "codemirror_mode": {
    "name": "ipython",
    "version": 2
   },
   "file_extension": ".py",
   "mimetype": "text/x-python",
   "name": "python",
   "nbconvert_exporter": "python",
   "pygments_lexer": "ipython2",
   "version": "2.7.10"
  }
 },
 "nbformat": 4,
 "nbformat_minor": 0
}
