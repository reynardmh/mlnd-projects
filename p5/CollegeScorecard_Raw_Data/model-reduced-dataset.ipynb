{
 "cells": [
  {
   "cell_type": "code",
   "execution_count": 1,
   "metadata": {
    "collapsed": false
   },
   "outputs": [],
   "source": [
    "import pandas as pd\n",
    "import numpy as np\n",
    "import matplotlib.pyplot as plt\n",
    "import re\n",
    "import sys\n",
    "import p5lib\n",
    "\n",
    "%matplotlib inline"
   ]
  },
  {
   "cell_type": "code",
   "execution_count": 2,
   "metadata": {
    "collapsed": false
   },
   "outputs": [
    {
     "name": "stdout",
     "output_type": "stream",
     "text": [
      "Number of features: 1729\n",
      "Number of rows: 7804\n"
     ]
    },
    {
     "name": "stderr",
     "output_type": "stream",
     "text": [
      "/usr/local/lib/python2.7/site-packages/IPython/core/interactiveshell.py:2902: DtypeWarning: Columns (7,9,1427,1542,1561,1575,1725,1726,1727,1728) have mixed types. Specify dtype option on import or set low_memory=False.\n",
      "  interactivity=interactivity, compiler=compiler, result=result)\n"
     ]
    }
   ],
   "source": [
    "data = pd.read_csv('MERGED2013_PP.csv')\n",
    "print \"Number of features: {}\".format(len(data.columns))\n",
    "print \"Number of rows: {}\".format(len(data))"
   ]
  },
  {
   "cell_type": "code",
   "execution_count": 3,
   "metadata": {
    "collapsed": false
   },
   "outputs": [
    {
     "name": "stdout",
     "output_type": "stream",
     "text": [
      "Num data after preprocessing: 6007\n",
      "Num features: 45\n"
     ]
    }
   ],
   "source": [
    "data = p5lib.preprocess_data(data)\n",
    "print \"Num data after preprocessing: {}\".format(len(data))\n",
    "print \"Num features: {}\".format(len(data.columns))\n",
    "# print data.shape\n"
   ]
  },
  {
   "cell_type": "code",
   "execution_count": 20,
   "metadata": {
    "collapsed": false
   },
   "outputs": [
    {
     "name": "stdout",
     "output_type": "stream",
     "text": [
      "(1210, 25)\n",
      "(1210, 2)\n"
     ]
    }
   ],
   "source": [
    "selected_features = ['CONTROL', 'DEBT_MDN', 'DEP_INC_AVG', 'GRAD_DEBT_MDN', 'IND_INC_AVG', 'INEXPFTE', 'PAR_ED_PCT_1STGEN', \n",
    "          'PAR_ED_PCT_HS', 'PAR_ED_PCT_MS', 'PAR_ED_PCT_PS', 'PCTFLOAN', 'PCTPELL', 'UG25abv', 'UGDS', \n",
    "          'WDRAW_DEBT_MDN', 'L4_COLLEGE', 'NPT4', 'NUM4', \n",
    "          'PFTFTUG1_EF', 'PFTFAC',\n",
    "          'SAT_AVG_ALL', 'ACTCMMID', 'ADM_RATE_ALL', 'AVGFACSAL', 'COSTT4_A',\n",
    "          'C150', 'RET_FT']\n",
    "X = data[selected_features].dropna()\n",
    "y = X[['C150', 'RET_FT']]\n",
    "X = X.drop('C150', 1)\n",
    "X = X.drop('RET_FT', 1)\n",
    "print X.shape\n",
    "print y.shape\n",
    "\n",
    "# print X.PFTFTUG1_EF.describe()"
   ]
  },
  {
   "cell_type": "code",
   "execution_count": 38,
   "metadata": {
    "collapsed": false
   },
   "outputs": [
    {
     "name": "stdout",
     "output_type": "stream",
     "text": [
      "(1210, 23)\n"
     ]
    }
   ],
   "source": [
    "from sklearn import preprocessing\n",
    "\n",
    "# tmpX = X[['DEBT_MDN', 'DEP_INC_AVG', 'GRAD_DEBT_MDN', 'IND_INC_AVG', 'INEXPFTE', 'UGDS', 'WDRAW_DEBT_MDN', 'NPT4', \n",
    "#           'NUM4', 'SAT_AVG_ALL', 'ACTCMMID', 'AVGFACSAL', 'COSTT4_A']]\n",
    "# scaler = preprocessing.MinMaxScaler()\n",
    "# scaledX = scaler.fit_transform(tmpX)\n",
    "# pctX = X[['PAR_ED_PCT_1STGEN', 'PAR_ED_PCT_HS', 'PAR_ED_PCT_MS', 'PAR_ED_PCT_PS', 'PCTFLOAN', 'PCTPELL', 'UG25abv', \n",
    "#           'PFTFTUG1_EF', 'PFTFAC', 'ADM_RATE_ALL']]\n",
    "# pctX = np.array(pctX)\n",
    "# forPcaX = np.concatenate((scaledX, pctX), axis=1)\n",
    "# print forPcaX.shape\n",
    "\n",
    "tmpX = X[['DEBT_MDN', 'DEP_INC_AVG', 'GRAD_DEBT_MDN', 'IND_INC_AVG', 'INEXPFTE', 'UGDS', 'WDRAW_DEBT_MDN', 'NPT4', \n",
    "          'NUM4', 'SAT_AVG_ALL', 'ACTCMMID', 'AVGFACSAL', 'COSTT4_A',\n",
    "          'PAR_ED_PCT_1STGEN', 'PAR_ED_PCT_HS', 'PAR_ED_PCT_MS', 'PAR_ED_PCT_PS', 'PCTFLOAN', 'PCTPELL', 'UG25abv', \n",
    "          'PFTFTUG1_EF', 'PFTFAC', 'ADM_RATE_ALL'\n",
    "         ]]\n",
    "\n",
    "scaler = preprocessing.StandardScaler()\n",
    "forPcaX = scaler.fit_transform(tmpX)\n",
    "print forPcaX.shape"
   ]
  },
  {
   "cell_type": "code",
   "execution_count": 39,
   "metadata": {
    "collapsed": false
   },
   "outputs": [
    {
     "name": "stdout",
     "output_type": "stream",
     "text": [
      "[  3.61448338e-01   1.60225813e-01   9.03945924e-02   7.37503475e-02\n",
      "   6.59417566e-02   4.55909843e-02   3.48239856e-02   2.68635652e-02\n",
      "   2.29647586e-02   1.98769269e-02   1.93667645e-02   1.59849191e-02\n",
      "   1.40968240e-02   1.16973258e-02   9.89668434e-03   9.22112533e-03\n",
      "   6.36891416e-03   4.01930561e-03   3.41721299e-03   2.80217633e-03\n",
      "   1.24767981e-03   8.25017351e-19   2.22500832e-19]\n"
     ]
    }
   ],
   "source": [
    "from sklearn.decomposition import PCA\n",
    "\n",
    "pca = PCA(n_components=forPcaX.shape[1])\n",
    "pca.fit(forPcaX)\n",
    "\n",
    "# print pca.components_\n",
    "print pca.explained_variance_ratio_\n"
   ]
  },
  {
   "cell_type": "code",
   "execution_count": 40,
   "metadata": {
    "collapsed": false
   },
   "outputs": [
    {
     "name": "stdout",
     "output_type": "stream",
     "text": [
      "(1210, 12)\n"
     ]
    }
   ],
   "source": [
    "pca = PCA(n_components=12)\n",
    "pca.fit(forPcaX)\n",
    "reducedX = pca.transform(forPcaX)\n",
    "print reducedX.shape"
   ]
  },
  {
   "cell_type": "code",
   "execution_count": 41,
   "metadata": {
    "collapsed": false
   },
   "outputs": [
    {
     "name": "stdout",
     "output_type": "stream",
     "text": [
      "(1210, 3)\n",
      "(1210, 1)\n",
      "(1210, 12)\n",
      "(1210, 16)\n"
     ]
    }
   ],
   "source": [
    "# add the categorical feature\n",
    "\n",
    "tmp1X = np.array(pd.get_dummies(X['CONTROL']))\n",
    "tmp2X = X['L4_COLLEGE'].astype(int)\n",
    "tmp2X = np.reshape(tmp2X, (len(tmp2X), 1)) \n",
    "print tmp1X.shape\n",
    "print tmp2X.shape\n",
    "print reducedX.shape\n",
    "finalX = np.concatenate((reducedX, tmp1X, tmp2X), axis=1)\n",
    "print finalX.shape"
   ]
  },
  {
   "cell_type": "code",
   "execution_count": 42,
   "metadata": {
    "collapsed": false
   },
   "outputs": [
    {
     "name": "stdout",
     "output_type": "stream",
     "text": [
      "(968, 16)\n",
      "(242, 16)\n",
      "(968, 2)\n",
      "(242, 2)\n"
     ]
    }
   ],
   "source": [
    "from sklearn import metrics\n",
    "from sklearn import cross_validation as cv\n",
    "from sklearn.tree import DecisionTreeRegressor\n",
    "\n",
    "y = np.array(y)\n",
    "X_train, X_test, y_train, y_test = cv.train_test_split(finalX, y, train_size=0.8)\n",
    "print X_train.shape\n",
    "print X_test.shape\n",
    "print y_train.shape\n",
    "print y_test.shape"
   ]
  },
  {
   "cell_type": "code",
   "execution_count": 43,
   "metadata": {
    "collapsed": true
   },
   "outputs": [],
   "source": [
    "from sklearn import metrics\n",
    "from sklearn import metrics\n",
    "from sklearn import cross_validation as cv\n",
    "from sklearn.tree import DecisionTreeRegressor\n",
    "from sklearn.grid_search import GridSearchCV\n",
    "from sklearn.svm import SVR\n",
    "from sklearn.neighbors import KNeighborsRegressor\n",
    "from sklearn.ensemble import RandomForestRegressor\n",
    "\n",
    "def print_r2score(reg, X, y, test=False):\n",
    "    t = 'test ' if test else 'train'\n",
    "    r2score = metrics.r2_score(y, reg.predict(np.array(X)))\n",
    "    print \"R2 score on {} data: {}\".format(t, r2score)\n",
    "    return r2score\n",
    "\n",
    "def print_mse(reg, X, y, test=False):\n",
    "    t = 'test ' if test else 'train'\n",
    "    mse = metrics.mean_squared_error(y, reg.predict(np.array(X)))\n",
    "    print \"MSE on {} data: {}\".format(t, mse)\n",
    "    return mse\n",
    "\n",
    "def print_mae(reg, X, y, test=False):\n",
    "    t = 'test ' if test else 'train'\n",
    "    mae = metrics.mean_absolute_error(y, reg.predict(np.array(X)))\n",
    "    print \"MAE on {} data: {}\".format(t, mae)\n",
    "    return mae\n",
    "\n",
    "r2_scorer = metrics.make_scorer(metrics.r2_score, greater_is_better=True)\n",
    "mse_scorer = metrics.make_scorer(metrics.mean_squared_error, greater_is_better=False)\n",
    "mae_scorer = metrics.make_scorer(metrics.mean_absolute_error, greater_is_better=False)\n",
    "default_scorer = mse_scorer\n",
    "\n",
    "def split_y(y_train, y_test):\n",
    "    return y_train[:,0], y_test[:,0], y_train[:,1], y_test[:,1]\n",
    "\n",
    "def print_r2_summary(reg1, reg2, X_train, X_test, y1_train, y1_test, y2_train, y2_test):\n",
    "    print \"--- R2 Completion ---\"\n",
    "    if hasattr(reg1, 'best_params_'):\n",
    "        print \"best params: {}\".format(reg1.best_params_)\n",
    "    r2_train_reg1 = print_r2score(reg1, X_train, y1_train)\n",
    "    r2_test_reg1  = print_r2score(reg1, X_test, y1_test, test=True)\n",
    "\n",
    "    print \"--- R2 Retention ---\"\n",
    "    if hasattr(reg2, 'best_params_'):\n",
    "        print \"best params: {}\".format(reg2.best_params_)\n",
    "    r2_train_reg2 = print_r2score(reg2, X_train, y2_train)\n",
    "    r2_test_reg2  = print_r2score(reg2, X_test, y2_test, test=True)\n",
    "\n",
    "    return {'reg1': {'train': r2_train_reg1, 'test': r2_test_reg1 },\n",
    "            'reg2': {'train': r2_train_reg2, 'test': r2_test_reg2 }}\n",
    "\n",
    "def print_mse_summary(reg1, reg2, X_train, X_test, y1_train, y1_test, y2_train, y2_test):\n",
    "    print \"--- MSE Completion ---\"\n",
    "    mse_train_reg1 = print_mse(reg1, X_train, y1_train)\n",
    "    mse_test_reg1 = print_mse(reg1, X_test, y1_test, test=True)\n",
    "    print \"--- MSE Retention ---\"\n",
    "    mse_train_reg2 = print_mse(reg2, X_train, y2_train)\n",
    "    mse_test_reg2 = print_mse(reg2, X_test, y2_test, test=True)\n",
    "    return {'reg1': {'train': mse_train_reg1, 'test': mse_test_reg1 },\n",
    "            'reg2': {'train': mse_train_reg2, 'test': mse_test_reg2 }}\n",
    "\n",
    "def print_mae_summary(reg1, reg2, X_train, X_test, y1_train, y1_test, y2_train, y2_test):\n",
    "    print \"--- MAE Completion ---\"\n",
    "    mae_train_reg1 = print_mae(reg1, X_train, y1_train)\n",
    "    mae_test_reg1 = print_mae(reg1, X_test, y1_test, test=True)\n",
    "    print \"--- MAE Retention ---\"\n",
    "    mae_train_reg2 = print_mae(reg2, X_train, y2_train)\n",
    "    mae_test_reg2 = print_mae(reg2, X_test, y2_test, test=True)\n",
    "    return {'reg1': {'train': mae_train_reg1, 'test': mae_test_reg1 },\n",
    "            'reg2': {'train': mae_train_reg2, 'test': mae_test_reg2 }}\n",
    "\n",
    "def plot_err_metric(err, metric=None, model=None):\n",
    "    plt.title('{} - {}'.format(metric, model))\n",
    "    plt.bar(np.array(range(2)), [err['reg1']['train'], err['reg2']['train']], width=0.4, color='r')\n",
    "    plt.bar(np.array(range(2))+0.4, [err['reg1']['test'], err['reg2']['test']], width=0.4, color='b')\n",
    "    plt.ylabel(metric)\n",
    "    plt.legend(['Train', 'Test'])\n",
    "    plt.xticks(np.array(range(4))+ 0.4, ['Completion', 'Retention'])\n",
    "    plt.show()\n",
    "    \n",
    "def build_DecisionTree_model(X_train, X_test, y_train, y_test, cv=3, scorer=None):\n",
    "    if scorer == None:\n",
    "        scorer = default_scorer\n",
    "    y1_train, y1_test, y2_train, y2_test = split_y(y_train, y_test)\n",
    "\n",
    "    parameters = {'max_depth': range(1,10)} # , 'min_samples_leaf': [4,5,6,7]}\n",
    "    reg = DecisionTreeRegressor()\n",
    "    best_reg1 = GridSearchCV(reg, parameters, scoring=scorer, cv=cv)\n",
    "    best_reg1.fit(X_train, y1_train)\n",
    "\n",
    "    reg = DecisionTreeRegressor()\n",
    "    best_reg2 = GridSearchCV(reg, parameters, scoring=scorer, cv=cv)\n",
    "    best_reg2.fit(X_train, y2_train)\n",
    "\n",
    "    r2 = print_r2_summary(best_reg1, best_reg2, X_train, X_test, y1_train, y1_test, y2_train, y2_test)\n",
    "    mse = print_mse_summary(best_reg1, best_reg2, X_train, X_test, y1_train, y1_test, y2_train, y2_test)\n",
    "    mae = print_mae_summary(best_reg1, best_reg2, X_train, X_test, y1_train, y1_test, y2_train, y2_test)\n",
    "    plot_err_metric(r2, metric='R2 score', model='Decision Tree')\n",
    "    plot_err_metric(mse, metric='MSE', model='Decision Tree')\n",
    "    plot_err_metric(mae, metric='MAE', model='Decision Tree')\n",
    "    \n",
    "    return {'reg1': best_reg1, 'reg2': best_reg2, 'r2': r2, 'mse': mse, 'mae': mae}\n"
   ]
  },
  {
   "cell_type": "code",
   "execution_count": 45,
   "metadata": {
    "collapsed": false,
    "scrolled": false
   },
   "outputs": [
    {
     "name": "stdout",
     "output_type": "stream",
     "text": [
      "--- R2 Completion ---\n",
      "best params: {'max_depth': 4}\n",
      "R2 score on train data: 0.774393611459\n",
      "R2 score on test  data: 0.716294896476\n",
      "--- R2 Retention ---\n",
      "best params: {'max_depth': 4}\n",
      "R2 score on train data: 0.655944189928\n",
      "R2 score on test  data: 0.631448790152\n",
      "--- MSE Completion ---\n",
      "MSE on train data: 0.00614607225276\n",
      "MSE on test  data: 0.00809926500771\n",
      "--- MSE Retention ---\n",
      "MSE on train data: 0.00426297395114\n",
      "MSE on test  data: 0.00530363890899\n",
      "--- MAE Completion ---\n",
      "MAE on train data: 0.0603936380217\n",
      "MAE on test  data: 0.0699674551324\n",
      "--- MAE Retention ---\n",
      "MAE on train data: 0.048807265975\n",
      "MAE on test  data: 0.0546591951072\n"
     ]
    },
    {
     "data": {
      "image/png": "[encoded data removed]",
      "text/plain": [
       "<matplotlib.figure.Figure at 0x115fbe190>"
      ]
     },
     "metadata": {},
     "output_type": "display_data"
    },
    {
     "data": {
      "image/png": "[encoded data removed]",
      "text/plain": [
       "<matplotlib.figure.Figure at 0x1180e0350>"
      ]
     },
     "metadata": {},
     "output_type": "display_data"
    },
    {
     "data": {
      "image/png": "[encoded data removed]",
      "text/plain": [
       "<matplotlib.figure.Figure at 0x115ffbc50>"
      ]
     },
     "metadata": {},
     "output_type": "display_data"
    }
   ],
   "source": [
    "# DT_reg1, DT_reg2, _, _ = p5lib.build_DecisionTree_model(X_train, X_test, y_train, y_test)\n",
    "DT_model = build_DecisionTree_model(X_train, X_test, y_train, y_test)"
   ]
  },
  {
   "cell_type": "code",
   "execution_count": 46,
   "metadata": {
    "collapsed": false
   },
   "outputs": [
    {
     "name": "stdout",
     "output_type": "stream",
     "text": [
      "--- R2 Completion ---\n",
      "best params: {'epsilon': 0.10000000000000001, 'C': 10.0, 'gamma': 0.10000000000000001}\n",
      "R2 score on train data: 0.843761390777\n",
      "R2 score on test  data: 0.704637067976\n",
      "--- R2 Retention ---\n",
      "best params: {'epsilon': 0.10000000000000001, 'C': 0.10000000000000001, 'gamma': 0.10000000000000001}\n",
      "R2 score on train data: 0.632302378838\n",
      "R2 score on test  data: 0.54057384038\n",
      "--- MSE Completion ---\n",
      "MSE on train data: 0.00425632353394\n",
      "MSE on test  data: 0.00843207482068\n",
      "--- MSE Retention ---\n",
      "MSE on train data: 0.00455590440568\n",
      "MSE on test  data: 0.00661137554527\n",
      "--- MAE Completion ---\n",
      "MAE on train data: 0.0557992943322\n",
      "MAE on test  data: 0.0729377323009\n",
      "--- MAE Retention ---\n",
      "MAE on train data: 0.0531372207731\n",
      "MAE on test  data: 0.0628821786403\n"
     ]
    },
    {
     "data": {
      "image/png": "[encoded data removed]",
      "text/plain": [
       "<matplotlib.figure.Figure at 0x11913ecd0>"
      ]
     },
     "metadata": {},
     "output_type": "display_data"
    },
    {
     "data": {
      "image/png": "[encoded data removed]",
      "text/plain": [
       "<matplotlib.figure.Figure at 0x118809390>"
      ]
     },
     "metadata": {},
     "output_type": "display_data"
    },
    {
     "data": {
      "image/png": "[encoded data removed]",
      "text/plain": [
       "<matplotlib.figure.Figure at 0x1180fae10>"
      ]
     },
     "metadata": {},
     "output_type": "display_data"
    }
   ],
   "source": [
    "def build_SVR_model(X_train, X_test, y_train, y_test, cv=3, params=None, scorer=None):\n",
    "    if scorer == None:\n",
    "        scorer = default_scorer\n",
    "    y1_train, y1_test, y2_train, y2_test = split_y(y_train, y_test)\n",
    "\n",
    "    if params == None:\n",
    "        params = {'C': np.logspace(-1, 1, 2), 'gamma': np.logspace(-1, 1, 2), 'epsilon': np.logspace(-1, 1, 2)}\n",
    "    reg = SVR()\n",
    "    best_reg1 = GridSearchCV(reg, params, scoring=scorer, cv=cv)\n",
    "    best_reg1.fit(X_train, y1_train)\n",
    "\n",
    "    reg = SVR()\n",
    "    best_reg2 = GridSearchCV(reg, params, scoring=scorer, cv=cv)\n",
    "    best_reg2.fit(X_train, y2_train)\n",
    "\n",
    "    r2 = print_r2_summary(best_reg1, best_reg2, X_train, X_test, y1_train, y1_test, y2_train, y2_test)\n",
    "    mse = print_mse_summary(best_reg1, best_reg2, X_train, X_test, y1_train, y1_test, y2_train, y2_test)\n",
    "    mae = print_mae_summary(best_reg1, best_reg2, X_train, X_test, y1_train, y1_test, y2_train, y2_test)\n",
    "    plot_err_metric(r2, metric='R2 score', model='SVR')\n",
    "    plot_err_metric(mse, metric='MSE', model='SVR')\n",
    "    plot_err_metric(mae, metric='MAE', model='SVR')\n",
    "    \n",
    "    return {'reg1': best_reg1, 'reg2': best_reg2, 'r2': r2, 'mse': mse, 'mae': mae}\n",
    "\n",
    "# SVR_reg1, SVR_reg2, _, _ = p5lib.build_SVR_model(X_train, X_test, y_train, y_test, cv=3)\n",
    "SVR_model = build_SVR_model(X_train, X_test, y_train, y_test, cv=3)"
   ]
  },
  {
   "cell_type": "code",
   "execution_count": 47,
   "metadata": {
    "collapsed": false,
    "scrolled": false
   },
   "outputs": [
    {
     "name": "stdout",
     "output_type": "stream",
     "text": [
      "--- R2 Completion ---\n",
      "best params: {'n_neighbors': 9}\n",
      "R2 score on train data: 0.81717035733\n",
      "R2 score on test  data: 0.742456132271\n",
      "--- R2 Retention ---\n",
      "best params: {'n_neighbors': 11}\n",
      "R2 score on train data: 0.710405446202\n",
      "R2 score on test  data: 0.66582395394\n",
      "--- MSE Completion ---\n",
      "MSE on train data: 0.00498072860907\n",
      "MSE on test  data: 0.00735240927971\n",
      "--- MSE Retention ---\n",
      "MSE on train data: 0.00358817960078\n",
      "MSE on test  data: 0.00480896286046\n",
      "--- MAE Completion ---\n",
      "MAE on train data: 0.0530898212721\n",
      "MAE on test  data: 0.0663693624603\n",
      "--- MAE Retention ---\n",
      "MAE on train data: 0.0409454357626\n",
      "MAE on test  data: 0.0509466566491\n"
     ]
    },
    {
     "data": {
      "image/png": "[encoded data removed]",
      "text/plain": [
       "<matplotlib.figure.Figure at 0x1180b9110>"
      ]
     },
     "metadata": {},
     "output_type": "display_data"
    },
    {
     "data": {
      "image/png": "[encoded data removed]",
      "text/plain": [
       "<matplotlib.figure.Figure at 0x11863f450>"
      ]
     },
     "metadata": {},
     "output_type": "display_data"
    },
    {
     "data": {
      "image/png": "[encoded data removed]",
      "text/plain": [
       "<matplotlib.figure.Figure at 0x11912cb10>"
      ]
     },
     "metadata": {},
     "output_type": "display_data"
    }
   ],
   "source": [
    "def build_KNN_model(X_train, X_test, y_train, y_test, cv=3, scorer=None):\n",
    "    if scorer == None:\n",
    "        scorer = default_scorer\n",
    "    y1_train, y1_test, y2_train, y2_test = split_y(y_train, y_test)\n",
    "\n",
    "    parameters = {'n_neighbors': range(5,20)}\n",
    "    reg = KNeighborsRegressor()\n",
    "    best_reg1 = GridSearchCV(reg, parameters, scoring=scorer, cv=cv)\n",
    "    best_reg1.fit(X_train, y1_train)\n",
    "\n",
    "    parameters = {'n_neighbors': range(5, 20)}\n",
    "    reg = KNeighborsRegressor()\n",
    "    best_reg2 = GridSearchCV(reg, parameters, scoring=scorer, cv=cv)\n",
    "    best_reg2.fit(X_train, y2_train)\n",
    "\n",
    "    r2 = print_r2_summary(best_reg1, best_reg2, X_train, X_test, y1_train, y1_test, y2_train, y2_test)\n",
    "    mse = print_mse_summary(best_reg1, best_reg2, X_train, X_test, y1_train, y1_test, y2_train, y2_test)\n",
    "    mae = print_mae_summary(best_reg1, best_reg2, X_train, X_test, y1_train, y1_test, y2_train, y2_test)\n",
    "    plot_err_metric(r2, metric='R2 score', model='KNN')\n",
    "    plot_err_metric(mse, metric='MSE', model='KNN')\n",
    "    plot_err_metric(mae, metric='MAE', model='KNN')\n",
    "    \n",
    "    return {'reg1': best_reg1, 'reg2': best_reg2, 'r2': r2, 'mse': mse, 'mae': mae}\n",
    "\n",
    "# KNN_reg1, KNN_reg2, _, _ = p5lib.build_KNN_model(X_train, X_test, y_train, y_test)\n",
    "KNN_model = build_KNN_model(X_train, X_test, y_train, y_test)"
   ]
  },
  {
   "cell_type": "code",
   "execution_count": 48,
   "metadata": {
    "collapsed": false
   },
   "outputs": [
    {
     "name": "stdout",
     "output_type": "stream",
     "text": [
      "--- R2 Completion ---\n",
      "R2 score on train data: 0.968350168971\n",
      "R2 score on test  data: 0.775585052005\n",
      "--- R2 Retention ---\n",
      "R2 score on train data: 0.942771394431\n",
      "R2 score on test  data: 0.676282336102\n",
      "--- MSE Completion ---\n",
      "MSE on train data: 0.000862219148808\n",
      "MSE on test  data: 0.00640663884058\n",
      "--- MSE Retention ---\n",
      "MSE on train data: 0.00070908279314\n",
      "MSE on test  data: 0.00465846143467\n",
      "--- MAE Completion ---\n",
      "MAE on train data: 0.0223201072339\n",
      "MAE on test  data: 0.0612602419533\n",
      "--- MAE Retention ---\n",
      "MAE on train data: 0.0175831898736\n",
      "MAE on test  data: 0.0490550794831\n"
     ]
    },
    {
     "data": {
      "image/png": "[encoded data removed]",
      "text/plain": [
       "<matplotlib.figure.Figure at 0x115fcc710>"
      ]
     },
     "metadata": {},
     "output_type": "display_data"
    },
    {
     "data": {
      "image/png": "[encoded data removed]",
      "text/plain": [
       "<matplotlib.figure.Figure at 0x11863ff50>"
      ]
     },
     "metadata": {},
     "output_type": "display_data"
    },
    {
     "data": {
      "image/png": "[encoded data removed]",
      "text/plain": [
       "<matplotlib.figure.Figure at 0x1183fea50>"
      ]
     },
     "metadata": {},
     "output_type": "display_data"
    }
   ],
   "source": [
    "def build_RandomForest_model(X_train, X_test, y_train, y_test, n_estimators=10, scorer=None):\n",
    "    if scorer == None:\n",
    "        scorer = default_scorer\n",
    "    y1_train, y1_test, y2_train, y2_test = split_y(y_train, y_test)\n",
    "\n",
    "    reg1 = RandomForestRegressor(n_estimators=n_estimators)\n",
    "    reg1.fit(X_train, y1_train)\n",
    "\n",
    "    reg2 = RandomForestRegressor(n_estimators=n_estimators)\n",
    "    reg2.fit(X_train, y2_train)\n",
    "\n",
    "    r2 = print_r2_summary(reg1, reg2, X_train, X_test, y1_train, y1_test, y2_train, y2_test)\n",
    "    mse = print_mse_summary(reg1, reg2, X_train, X_test, y1_train, y1_test, y2_train, y2_test)\n",
    "    mae = print_mae_summary(reg1, reg2, X_train, X_test, y1_train, y1_test, y2_train, y2_test)\n",
    "    plot_err_metric(r2, metric='R2 score', model='Random Forest')\n",
    "    plot_err_metric(mse, metric='MSE', model='Random Forest')\n",
    "    plot_err_metric(mae, metric='MAE', model='Random Forest')\n",
    "    \n",
    "    return {'reg1': reg1, 'reg2': reg2, 'r2': r2, 'mse': mse, 'mae': mae}\n",
    "\n",
    "RF_model = build_RandomForest_model(X_train, X_test, y_train, y_test, n_estimators=50)"
   ]
  },
  {
   "cell_type": "code",
   "execution_count": 52,
   "metadata": {
    "collapsed": false
   },
   "outputs": [
    {
     "name": "stdout",
     "output_type": "stream",
     "text": [
      "(6007, 27)\n",
      "6007\n"
     ]
    }
   ],
   "source": [
    "X_all = data[selected_features].copy()\n",
    "\n",
    "fill_cols_with_mean = ['DEBT_MDN', 'DEP_INC_AVG', 'GRAD_DEBT_MDN', 'IND_INC_AVG', 'INEXPFTE', 'WDRAW_DEBT_MDN',\n",
    "                       'PAR_ED_PCT_1STGEN', 'PAR_ED_PCT_HS', 'PAR_ED_PCT_MS', 'PAR_ED_PCT_PS', 'PCTFLOAN', 'PCTPELL', \n",
    "                       'UG25abv', 'NPT4', 'NUM4', 'PFTFTUG1_EF', 'PFTFAC', 'SAT_AVG_ALL', 'ACTCMMID', 'ADM_RATE_ALL', \n",
    "                       'AVGFACSAL', 'COSTT4_A']\n",
    "\n",
    "for col in fill_cols_with_mean:\n",
    "    if col in X:\n",
    "        X_all[col] = X_all[col].fillna(X_all[col].mean())\n",
    "\n",
    "print X_all.shape\n",
    "print len(X_all.dropna()) # check there is no missing values"
   ]
  },
  {
   "cell_type": "code",
   "execution_count": 53,
   "metadata": {
    "collapsed": false
   },
   "outputs": [
    {
     "name": "stdout",
     "output_type": "stream",
     "text": [
      "(6007, 25)\n",
      "(6007,)\n",
      "(6007,)\n"
     ]
    }
   ],
   "source": [
    "y1_all = X_all.C150 # X_all[['C150']]\n",
    "y2_all = X_all.RET_FT # X_all[['RET_FT']]\n",
    "X_all = X_all.drop('C150', 1)\n",
    "X_all = X_all.drop('RET_FT', 1)\n",
    "\n",
    "print X_all.shape\n",
    "print y1_all.shape\n",
    "print y2_all.shape\n",
    "\n"
   ]
  },
  {
   "cell_type": "code",
   "execution_count": 54,
   "metadata": {
    "collapsed": false
   },
   "outputs": [
    {
     "name": "stdout",
     "output_type": "stream",
     "text": [
      "(6007, 23)\n",
      "[  3.26050265e-01   1.24247742e-01   9.69326766e-02   6.89817577e-02\n",
      "   5.78529489e-02   4.73543591e-02   4.23201606e-02   3.93261019e-02\n",
      "   3.45064550e-02   2.76951539e-02   2.50172373e-02   2.22565806e-02\n",
      "   2.20522227e-02   1.60085311e-02   1.16593703e-02   9.29566488e-03\n",
      "   7.59550950e-03   7.36636142e-03   4.94938204e-03   4.59693586e-03\n",
      "   3.00392943e-03   6.09099409e-04   3.21554733e-04]\n",
      "(6007, 12)\n"
     ]
    }
   ],
   "source": [
    "tmpX = X_all[['DEBT_MDN', 'DEP_INC_AVG', 'GRAD_DEBT_MDN', 'IND_INC_AVG', 'INEXPFTE', 'UGDS', 'WDRAW_DEBT_MDN', 'NPT4', \n",
    "          'NUM4', 'SAT_AVG_ALL', 'ACTCMMID', 'AVGFACSAL', 'COSTT4_A',\n",
    "          'PAR_ED_PCT_1STGEN', 'PAR_ED_PCT_HS', 'PAR_ED_PCT_MS', 'PAR_ED_PCT_PS', 'PCTFLOAN', 'PCTPELL', 'UG25abv', \n",
    "          'PFTFTUG1_EF', 'PFTFAC', 'ADM_RATE_ALL'\n",
    "         ]]\n",
    "\n",
    "scaler = preprocessing.StandardScaler()\n",
    "forPcaX = scaler.fit_transform(tmpX)\n",
    "print forPcaX.shape\n",
    "\n",
    "pca = PCA(n_components=forPcaX.shape[1])\n",
    "pca.fit(forPcaX)\n",
    "\n",
    "# print pca.components_\n",
    "print pca.explained_variance_ratio_\n",
    "\n",
    "pca = PCA(n_components=12)\n",
    "pca.fit(forPcaX)\n",
    "reducedX = pca.transform(forPcaX)\n",
    "print reducedX.shape\n"
   ]
  },
  {
   "cell_type": "code",
   "execution_count": 59,
   "metadata": {
    "collapsed": false
   },
   "outputs": [
    {
     "name": "stdout",
     "output_type": "stream",
     "text": [
      "(6007, 3)\n",
      "(6007, 1)\n",
      "(6007, 12)\n",
      "(6007, 16)\n",
      "R2 score on train data: -0.00980699176305\n",
      "MAE on train data: 0.203628753924\n",
      "MSE on train data: 0.0569727990865\n"
     ]
    },
    {
     "data": {
      "text/plain": [
       "0.056972799086525965"
      ]
     },
     "execution_count": 59,
     "metadata": {},
     "output_type": "execute_result"
    }
   ],
   "source": [
    "\n",
    "tmp1X = np.array(pd.get_dummies(X_all['CONTROL']))\n",
    "tmp2X = X_all['L4_COLLEGE'].astype(int)\n",
    "tmp2X = np.reshape(tmp2X, (len(tmp2X), 1)) \n",
    "print tmp1X.shape\n",
    "print tmp2X.shape\n",
    "print reducedX.shape\n",
    "finalX = np.concatenate((reducedX, tmp1X, tmp2X), axis=1)\n",
    "print finalX.shape\n",
    "\n",
    "print_r2score(SVR_model['reg1'], finalX, y1_all)\n",
    "print_mae(SVR_model['reg1'], finalX, y1_all)\n",
    "print_mse(SVR_model['reg1'], finalX, y1_all)"
   ]
  },
  {
   "cell_type": "code",
   "execution_count": null,
   "metadata": {
    "collapsed": true
   },
   "outputs": [],
   "source": []
  }
 ],
 "metadata": {
  "kernelspec": {
   "display_name": "Python 2",
   "language": "python",
   "name": "python2"
  },
  "language_info": {
   "codemirror_mode": {
    "name": "ipython",
    "version": 2
   },
   "file_extension": ".py",
   "mimetype": "text/x-python",
   "name": "python",
   "nbconvert_exporter": "python",
   "pygments_lexer": "ipython2",
   "version": "2.7.10"
  }
 },
 "nbformat": 4,
 "nbformat_minor": 0
}
