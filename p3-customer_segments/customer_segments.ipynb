{
 "cells": [
  {
   "cell_type": "markdown",
   "metadata": {},
   "source": [
    "# Creating Customer Segments"
   ]
  },
  {
   "cell_type": "markdown",
   "metadata": {},
   "source": [
    "In this project you, will analyze a dataset containing annual spending amounts for internal structure, to understand the variation in the different types of customers that a wholesale distributor interacts with.\n",
    "\n",
    "Instructions:\n",
    "\n",
    "- Run each code block below by pressing **Shift+Enter**, making sure to implement any steps marked with a TODO.\n",
    "- Answer each question in the space provided by editing the blocks labeled \"Answer:\".\n",
    "- When you are done, submit the completed notebook (.ipynb) with all code blocks executed, as well as a .pdf version (File > Download as)."
   ]
  },
  {
   "cell_type": "code",
   "execution_count": 2,
   "metadata": {
    "collapsed": false
   },
   "outputs": [
    {
     "name": "stdout",
     "output_type": "stream",
     "text": [
      "Dataset has 440 rows, 6 columns\n",
      "   Fresh  Milk  Grocery  Frozen  Detergents_Paper  Delicatessen\n",
      "0  12669  9656     7561     214              2674          1338\n",
      "1   7057  9810     9568    1762              3293          1776\n",
      "2   6353  8808     7684    2405              3516          7844\n",
      "3  13265  1196     4221    6404               507          1788\n",
      "4  22615  5410     7198    3915              1777          5185\n",
      "        Fresh   Milk  Grocery  Frozen  Detergents_Paper  Delicatessen\n",
      "count     440    440      440     440               440           440\n",
      "mean    12000   5796     7951    3072              2881          1525\n",
      "std     12647   7380     9503    4855              4768          2820\n",
      "min         3     55        3      25                 3             3\n",
      "25%      3128   1533     2153     742               257           408\n",
      "50%      8504   3627     4756    1526               816           966\n",
      "75%     16934   7190    10656    3554              3922          1820\n",
      "max    112151  73498    92780   60869             40827         47943\n"
     ]
    }
   ],
   "source": [
    "# Import libraries: NumPy, pandas, matplotlib\n",
    "import numpy as np\n",
    "import pandas as pd\n",
    "import matplotlib.pyplot as plt\n",
    "\n",
    "# Tell iPython to include plots inline in the notebook\n",
    "%matplotlib inline\n",
    "\n",
    "# Read dataset\n",
    "data = pd.read_csv(\"wholesale-customers.csv\")\n",
    "print \"Dataset has {} rows, {} columns\".format(*data.shape)\n",
    "print data.head()  # print the first 5 rows\n",
    "print data.describe().round(0)"
   ]
  },
  {
   "cell_type": "markdown",
   "metadata": {},
   "source": [
    "## Feature Transformation"
   ]
  },
  {
   "cell_type": "markdown",
   "metadata": {},
   "source": [
    "**1)** In this section you will be using PCA and ICA to start to understand the structure of the data. Before doing any computations, what do you think will show up in your computations? List one or two ideas for what might show up as the first PCA dimensions, or what type of vectors will show up as ICA dimensions."
   ]
  },
  {
   "cell_type": "markdown",
   "metadata": {},
   "source": [
    "**Answer:**\n",
    "\n",
    "**PCA**\n",
    "\n",
    "The first PCA dimension might show a vector with high absolute values for fresh and milk. Fresh is the category that has the biggest standard deviation and range. Milk seem to be a category that might have a positive correlation with fresh, because customers (stores) that buy/sell more fresh product will likely also buy/sell more milk. So in combination, fresh, and milk might be the dimension that accounts for the most variance in the data set. \n",
    "\n",
    "Another possibility for the first PCA dimension is a vector with high absolute values for grocery, frozen and detergents paper. These 3 categories also might be positively correlated with each other, meaning that stores that buy/sell more grocery will also buy/sell more frozen and detergent paper products. So in combination, grocery, frozen and detergents paper might be the dimension that accounts for the most variance in the data set. \n",
    "\n",
    "** ICA **\n",
    "\n",
    "Because ICA reveals the independent source underlying the data, ICA will show independent signals that are constructed from linear combination of the purchase amount for each category (observed data). These independent signals can be interpreted as different type of customers that buy certain category of product with a certain proportion. For example we might get 2 ICA components like: \n",
    "\n",
    "```\n",
    "s1 = [0.8, 0.4, 0.1, 0.1, 0.1, 0.1]\n",
    "s2 = [0.2, 0.2, 0.5, 0.4, 0.2, 0.2]\n",
    "```\n",
    "\n",
    "The first signal can be interpreted as type of customer that buys and sells fresh product and milk. The second signal can be interpreted another type of customer that buys and sells mostly grocery and frozen product, and other categories about equally. For example grocery store like Kroger or Safeway.\n"
   ]
  },
  {
   "cell_type": "markdown",
   "metadata": {},
   "source": [
    "### PCA"
   ]
  },
  {
   "cell_type": "code",
   "execution_count": 3,
   "metadata": {
    "collapsed": false
   },
   "outputs": [
    {
     "name": "stdout",
     "output_type": "stream",
     "text": [
      "[[-0.97653685 -0.12118407 -0.06154039 -0.15236462  0.00705417 -0.06810471]\n",
      " [-0.11061386  0.51580216  0.76460638 -0.01872345  0.36535076  0.05707921]\n",
      " [-0.17855726  0.50988675 -0.27578088  0.71420037 -0.20440987  0.28321747]\n",
      " [-0.04187648 -0.64564047  0.37546049  0.64629232  0.14938013 -0.02039579]\n",
      " [ 0.015986    0.20323566 -0.1602915   0.22018612  0.20793016 -0.91707659]\n",
      " [-0.01576316  0.03349187  0.41093894 -0.01328898 -0.87128428 -0.26541687]]\n",
      "[ 0.45961362  0.40517227  0.07003008  0.04402344  0.01502212  0.00613848]\n"
     ]
    }
   ],
   "source": [
    "# TODO: Apply PCA with the same number of dimensions as variables in the dataset\n",
    "from sklearn.decomposition import PCA\n",
    "pca = PCA(n_components=6)\n",
    "pca.fit(data)\n",
    "\n",
    "# Print the components and the amount of variance in the data contained in each dimension\n",
    "print pca.components_\n",
    "print pca.explained_variance_ratio_"
   ]
  },
  {
   "cell_type": "markdown",
   "metadata": {},
   "source": [
    "**2)** How quickly does the variance drop off by dimension? If you were to use PCA on this dataset, how many dimensions would you choose for your analysis? Why?"
   ]
  },
  {
   "cell_type": "markdown",
   "metadata": {
    "collapsed": true
   },
   "source": [
    "**Answer:** Looking at the explained variance ratio, after the first 2 primary components, the variance drop off significantly. Based on this result, I would choose 2 dimensions for analysis, because the remaining dimensions' variance is small enough that there would be little information lost by removing them."
   ]
  },
  {
   "cell_type": "markdown",
   "metadata": {},
   "source": [
    "**3)** What do the dimensions seem to represent? How can you use this information?"
   ]
  },
  {
   "cell_type": "markdown",
   "metadata": {
    "collapsed": true
   },
   "source": [
    "**Answer:** \n",
    "The 1st primary component is a vector with a lot of weight on the Fresh category (-0.98), followed by Frozen (-0.15) and Milk (-0.12). Because frozen and milk value is relatively small compare to the fresh category, this component seem to be driven mostly by the fresh category, and it accounts for most of the variance in the data. \n",
    "The 2nd primary component is a vector with the biggest value on Grocery (0.76), Milk (0.52) and Detergents paper (0.37). This indicates that there is a pretty strong correlation between Grocery, Milk and Detergents paper. The combination of these 3 features made up most of the remaining variance of the data.\n",
    "\n",
    "We can use this information to see what original features contribute to most of the variance in the data. These 2 principal components--that is a mix of fresh, and (grocery, milk, and detergents paper)--account for most of the variance in the data. So we can use these 2 principal components as new features and project the data to reduce the number of features to analyze while still retaining most of the information from the original data. Reducing features will be useful in making calculation simpler and faster. \n"
   ]
  },
  {
   "cell_type": "markdown",
   "metadata": {},
   "source": [
    "### ICA"
   ]
  },
  {
   "cell_type": "code",
   "execution_count": 4,
   "metadata": {
    "collapsed": false
   },
   "outputs": [
    {
     "name": "stdout",
     "output_type": "stream",
     "text": [
      "ICA Components:\n",
      "[[-0.005 -0.002 -0.006 -0.003  0.002  0.051]\n",
      " [-0.004  0.017  0.114 -0.007 -0.134 -0.016]\n",
      " [-0.003  0.014 -0.061 -0.002  0.004  0.004]\n",
      " [-0.002 -0.073  0.055  0.002 -0.016  0.017]\n",
      " [ 0.011  0.001 -0.007 -0.054  0.003  0.017]\n",
      " [ 0.05  -0.006 -0.006 -0.003  0.01  -0.003]]\n"
     ]
    },
    {
     "data": {
      "text/plain": [
       "<matplotlib.axes._subplots.AxesSubplot at 0x115463750>"
      ]
     },
     "execution_count": 4,
     "metadata": {},
     "output_type": "execute_result"
    },
    {
     "data": {
      "image/png": "[encoded data removed]",
      "text/plain": [
       "<matplotlib.figure.Figure at 0x115458fd0>"
      ]
     },
     "metadata": {},
     "output_type": "display_data"
    }
   ],
   "source": [
    "# TODO: Fit an ICA model to the data\n",
    "# Note: Adjust the data to have center at the origin first!\n",
    "from sklearn.decomposition import FastICA\n",
    "from sklearn import preprocessing\n",
    "\n",
    "# data_centered = preprocessing.scale(data)\n",
    "scaler = preprocessing.StandardScaler()\n",
    "data_centered = scaler.fit_transform(data)\n",
    "\n",
    "# print \"data centered around origin:\"\n",
    "# print data_centered[0:5]\n",
    "# data_centered = pd.DataFrame(data_centered, columns=('Fresh', 'Milk', 'Grocery', 'Frozen', 'Detergents', 'Deli'))\n",
    "# print data_centered.mean()\n",
    "\n",
    "ica = FastICA(n_components=6, random_state=1)\n",
    "ica.fit(data_centered)\n",
    "\n",
    "# Print the independent components\n",
    "# Note: rounded down to 3 decimal places for more readability\n",
    "rounded_ica_components = ica.components_.round(3)\n",
    "# sort by the first element in the component\n",
    "sorted_ica_components = rounded_ica_components[np.argsort(rounded_ica_components[:, 0])]\n",
    "print \"ICA Components:\"\n",
    "print sorted_ica_components\n",
    "\n",
    "columns = ('Fresh', 'Milk', 'Grocery', 'Frozen', 'Detergents', 'Deli')\n",
    "pd.DataFrame(sorted_ica_components.T, index=columns).plot(legend=False, grid=True)\n"
   ]
  },
  {
   "cell_type": "code",
   "execution_count": 5,
   "metadata": {
    "collapsed": false
   },
   "outputs": [
    {
     "name": "stdout",
     "output_type": "stream",
     "text": [
      "** Reconstructed sources stats **\n",
      "              1        2        3        4        5        6\n",
      "count    440.00   440.00   440.00   440.00   440.00   440.00\n",
      "mean   12000.30  5796.27  7951.28  3071.93  2881.49  1524.87\n",
      "std      602.94   351.85   453.05   231.44   227.30   134.44\n",
      "min     8549.75  5311.48  2201.52   214.01  2677.24   295.72\n",
      "25%    11791.59  5556.84  7903.40  3035.71  2799.85  1494.01\n",
      "50%    11993.73  5700.57  8060.67  3110.72  2838.87  1564.34\n",
      "75%    12211.95  5935.40  8144.00  3159.77  2906.79  1603.63\n",
      "max    16444.47  8442.86  8641.58  4204.49  6670.89  1715.49\n",
      "** Original observation stats **\n",
      "           Fresh      Milk   Grocery    Frozen  Detergents_Paper  Delicatessen\n",
      "count     440.00    440.00    440.00    440.00            440.00        440.00\n",
      "mean    12000.30   5796.27   7951.28   3071.93           2881.49       1524.87\n",
      "std     12647.33   7380.38   9503.16   4854.67           4767.85       2820.11\n",
      "min         3.00     55.00      3.00     25.00              3.00          3.00\n",
      "25%      3127.75   1533.00   2153.00    742.25            256.75        408.25\n",
      "50%      8504.00   3627.00   4755.50   1526.00            816.50        965.50\n",
      "75%     16933.75   7190.25  10655.75   3554.25           3922.00       1820.25\n",
      "max    112151.00  73498.00  92780.00  60869.00          40827.00      47943.00\n"
     ]
    }
   ],
   "source": [
    "S = np.dot(ica.components_, data_centered.T).T\n",
    "S = scaler.inverse_transform(S)\n",
    "# print data.head(100)\n",
    "# print S[0:100]\n",
    "\n",
    "# row = 95\n",
    "# print data.iloc[row]\n",
    "# print S[row]\n",
    "# print data.iloc[row].sum()\n",
    "# print S[row].sum()\n",
    "\n",
    "# S is the source signal after applying the unmixing matrix to original data and scaling it back \n",
    "S = pd.DataFrame(S, columns=(1,2,3,4,5,6))\n",
    "print \"** Reconstructed sources stats **\"\n",
    "print S.describe().round(2)\n",
    "print \"** Original observation stats **\"\n",
    "print data.describe().round(2)"
   ]
  },
  {
   "cell_type": "markdown",
   "metadata": {},
   "source": [
    "**4)** For each vector in the ICA decomposition, write a sentence or two explaining what sort of object or property it corresponds to. What could these components be used for?"
   ]
  },
  {
   "cell_type": "markdown",
   "metadata": {
    "collapsed": true
   },
   "source": [
    "**Answer:**\n",
    "\n",
    "Each vector in the ICA decomposition represent some latent variables (sources) that is composed of linear combination of the observed features (fresh, milk, groceries, etc). \n",
    "\n",
    "```\n",
    "      Fresh  Milk   Groc   Froz   Det    Deli\n",
    "1st [-0.005 -0.002 -0.006 -0.003  0.002  0.051]\n",
    "2nd [-0.004  0.017  0.114 -0.007 -0.134 -0.016]\n",
    "3rd [-0.003  0.014 -0.061 -0.002  0.004  0.004]\n",
    "4th [-0.002 -0.073  0.055  0.002 -0.016  0.017]\n",
    "5th [ 0.011  0.001 -0.007 -0.054  0.003  0.017]\n",
    "6th [ 0.05  -0.006 -0.006 -0.003  0.01  -0.003]\n",
    "```\n",
    "\n",
    "ICA can be used to transforms the data about spending on the observed categories--such as Fresh, Milk, etc--into spending on certain combination of products that migh be influenced by the type of customer. It's interesting that when we reconstructed the source from the observed data using the unmixing matrix ```ica.components_```, we get a data set that has exactly the same mean as the original data set, but with less standard deviation and smaller range (See \"Reconstructed sources stats\" vs \"Original observation stats\").\n"
   ]
  },
  {
   "cell_type": "code",
   "execution_count": 6,
   "metadata": {
    "collapsed": false
   },
   "outputs": [
    {
     "data": {
      "image/png": "[encoded data removed]",
      "text/plain": [
       "<matplotlib.figure.Figure at 0x115458810>"
      ]
     },
     "metadata": {},
     "output_type": "display_data"
    }
   ],
   "source": [
    "def plot_ica_component(i):\n",
    "    pd.DataFrame(sorted_ica_components[i], index=columns).plot(legend=False, figsize=(5,2.5), grid=True, \n",
    "                                                           yticks=[-0.15, -0.10, -0.05, 0, 0.05, 0.10, 0.15])\n",
    "plot_ica_component(0)"
   ]
  },
  {
   "cell_type": "markdown",
   "metadata": {},
   "source": [
    "The 1st ICA component has a relatively large value for Deli (0.05) with other categories close to 0. This might indicate an independent signal from customers that buy/sell only deli stuff, such as cafe or sandwich shop."
   ]
  },
  {
   "cell_type": "code",
   "execution_count": 7,
   "metadata": {
    "collapsed": false
   },
   "outputs": [
    {
     "data": {
      "image/png": "[encoded data removed]",
      "text/plain": [
       "<matplotlib.figure.Figure at 0x115672dd0>"
      ]
     },
     "metadata": {},
     "output_type": "display_data"
    }
   ],
   "source": [
    "plot_ica_component(1)"
   ]
  },
  {
   "cell_type": "markdown",
   "metadata": {},
   "source": [
    "The 2nd ICA component has a large value for Grocery (0.114), and a large negative value for Detergent (-0.134). This might indicate a source fom a customer type only buys/sells food with main focus in grocery food. "
   ]
  },
  {
   "cell_type": "code",
   "execution_count": 8,
   "metadata": {
    "collapsed": false
   },
   "outputs": [
    {
     "data": {
      "image/png": "[encoded data removed]",
      "text/plain": [
       "<matplotlib.figure.Figure at 0x115727c50>"
      ]
     },
     "metadata": {},
     "output_type": "display_data"
    }
   ],
   "source": [
    "plot_ica_component(2)"
   ]
  },
  {
   "cell_type": "markdown",
   "metadata": {},
   "source": [
    "The 3rd ICA component has a relatively large negative value for Grocery (-0.061), a little bit of Milk (0.014), and everything else close to 0. It seems like a customer type that buy/sell everything equally except much less grocery. It could be a restaurant.\n"
   ]
  },
  {
   "cell_type": "code",
   "execution_count": 9,
   "metadata": {
    "collapsed": false
   },
   "outputs": [
    {
     "data": {
      "image/png": "[encoded data removed]",
      "text/plain": [
       "<matplotlib.figure.Figure at 0x11587cf10>"
      ]
     },
     "metadata": {},
     "output_type": "display_data"
    }
   ],
   "source": [
    "plot_ica_component(3)"
   ]
  },
  {
   "cell_type": "markdown",
   "metadata": {},
   "source": [
    "The 4th ICA component has a large negative value for Milk (-0.073), a large value for Grocery (0.055), and small negative value for Detergent (-0.016) and small value for Deli (0.017). So it's a customer type that buys/sells more grocery but no milk. My best guess would be Asian grocery store. "
   ]
  },
  {
   "cell_type": "code",
   "execution_count": 11,
   "metadata": {
    "collapsed": false
   },
   "outputs": [
    {
     "data": {
      "image/png": "[encoded data removed]",
      "text/plain": [
       "<matplotlib.figure.Figure at 0x115a621d0>"
      ]
     },
     "metadata": {},
     "output_type": "display_data"
    }
   ],
   "source": [
    "plot_ica_component(4)"
   ]
  },
  {
   "cell_type": "markdown",
   "metadata": {},
   "source": [
    "The 5th ICA component has a relatively large negative value for Frozen, and about close to 0 for everything else. It could be a fresh produce store with a deli cafe. "
   ]
  },
  {
   "cell_type": "code",
   "execution_count": 12,
   "metadata": {
    "collapsed": false
   },
   "outputs": [
    {
     "data": {
      "image/png": "[encoded data removed]",
      "text/plain": [
       "<matplotlib.figure.Figure at 0x115ae9fd0>"
      ]
     },
     "metadata": {},
     "output_type": "display_data"
    }
   ],
   "source": [
    "plot_ica_component(5)"
   ]
  },
  {
   "cell_type": "markdown",
   "metadata": {},
   "source": [
    "The 6th ICA component has relatively large value for Fresh, and about close to 0 for everything else. This seems like a fresh produce store."
   ]
  },
  {
   "cell_type": "markdown",
   "metadata": {},
   "source": [
    "## Clustering\n",
    "\n",
    "In this section you will choose either K Means clustering or Gaussian Mixed Models clustering, which implements expectation-maximization. Then you will sample elements from the clusters to understand their significance."
   ]
  },
  {
   "cell_type": "markdown",
   "metadata": {},
   "source": [
    "### Choose a Cluster Type\n",
    "\n",
    "**5)** What are the advantages of using K Means clustering or Gaussian Mixture Models?"
   ]
  },
  {
   "cell_type": "markdown",
   "metadata": {},
   "source": [
    "Answer: \n",
    "K Means is simple and fast clustering algorithm for large data set. However it does not always produce a consistent result (its result can be significantly different depending on the initialization state). It also performs poorly when there is significant density difference between the clusters, because the dense cluster pulls the center of less dense cluster (http://varianceexplained.org/r/kmeans-free-lunch/).\n",
    "\n",
    "Gaussian Mixture Models has the advantage of having a soft classification feature, meaning that there can be grey area where the algortihm predicts some points as having close to 50/50 chance of being in one cluster or another. It uses probabilistic approcah so we can inquire the probability of a data point being in one cluster. \n",
    "\n",
    "For this purpose, even though both KMeans and GMM produce similar result and is fast enough for the data set, I chose GMM because it seems to fit the data better visually. "
   ]
  },
  {
   "cell_type": "markdown",
   "metadata": {},
   "source": [
    "**6)** Below is some starter code to help you visualize some cluster data. The visualization is based on [this demo](http://scikit-learn.org/stable/auto_examples/cluster/plot_kmeans_digits.html) from the sklearn documentation."
   ]
  },
  {
   "cell_type": "code",
   "execution_count": 13,
   "metadata": {
    "collapsed": true
   },
   "outputs": [],
   "source": [
    "# Import clustering modules\n",
    "from sklearn.cluster import KMeans\n",
    "from sklearn.mixture import GMM"
   ]
  },
  {
   "cell_type": "code",
   "execution_count": 14,
   "metadata": {
    "collapsed": false
   },
   "outputs": [
    {
     "name": "stdout",
     "output_type": "stream",
     "text": [
      "[[  -650.02212207   1585.51909007]\n",
      " [  4426.80497937   4042.45150884]\n",
      " [  4841.9987068    2578.762176  ]\n",
      " [  -990.34643689  -6279.80599663]\n",
      " [-10657.99873116  -2159.72581518]\n",
      " [  2765.96159271   -959.87072713]\n",
      " [   715.55089221  -2013.00226567]\n",
      " [  4474.58366697   1429.49697204]\n",
      " [  6712.09539718  -2205.90915598]\n",
      " [  4823.63435407  13480.55920489]]\n"
     ]
    }
   ],
   "source": [
    "# TODO: First we reduce the data to two dimensions using PCA to capture variation\n",
    "pca = PCA(n_components=2)\n",
    "pca.fit(data)\n",
    "reduced_data = pca.transform(data)\n",
    "print reduced_data[:10]  # print upto 10 elements"
   ]
  },
  {
   "cell_type": "code",
   "execution_count": 48,
   "metadata": {
    "collapsed": false
   },
   "outputs": [
    {
     "name": "stdout",
     "output_type": "stream",
     "text": [
      "KMeans(copy_x=True, init='k-means++', max_iter=300, n_clusters=3, n_init=10,\n",
      "    n_jobs=1, precompute_distances='auto', random_state=None, tol=0.0001,\n",
      "    verbose=0)\n",
      "GMM(covariance_type='full', init_params='wmc', min_covar=0.001,\n",
      "  n_components=3, n_init=1, n_iter=100, params='wmc', random_state=None,\n",
      "  thresh=None, tol=0.001, verbose=0)\n"
     ]
    }
   ],
   "source": [
    "# TODO: Implement your clustering algorithm here, and fit it to the reduced data for visualization\n",
    "# The visualizer below assumes your clustering object is named 'clusters'\n",
    "\n",
    "num_clusters = 3\n",
    "km_clusters = KMeans(n_clusters=num_clusters)\n",
    "gmm_clusters = GMM(n_components=num_clusters, covariance_type='full')\n",
    "km_clusters.fit(reduced_data)\n",
    "gmm_clusters.fit(reduced_data)\n",
    "print km_clusters\n",
    "print gmm_clusters"
   ]
  },
  {
   "cell_type": "code",
   "execution_count": 49,
   "metadata": {
    "collapsed": false
   },
   "outputs": [],
   "source": [
    "# Plot the decision boundary by building a mesh grid to populate a graph.\n",
    "# print type(reduced_data)\n",
    "x_min, x_max = reduced_data[:, 0].min() - 1, reduced_data[:, 0].max() + 1\n",
    "y_min, y_max = reduced_data[:, 1].min() - 1, reduced_data[:, 1].max() + 1\n",
    "hx = (x_max-x_min)/1000.\n",
    "hy = (y_max-y_min)/1000.\n",
    "xx, yy = np.meshgrid(np.arange(x_min, x_max, hx), np.arange(y_min, y_max, hy))\n",
    "\n",
    "# Obtain labels for each point in mesh. Use last trained model.\n",
    "Z_km = km_clusters.predict(np.c_[xx.ravel(), yy.ravel()])\n",
    "Z_gmm = gmm_clusters.predict(np.c_[xx.ravel(), yy.ravel()])"
   ]
  },
  {
   "cell_type": "code",
   "execution_count": 50,
   "metadata": {
    "collapsed": false
   },
   "outputs": [
    {
     "name": "stdout",
     "output_type": "stream",
     "text": [
      "[[-24220.71188261  -4364.45560022]\n",
      " [  1497.13461172  24998.27760147]\n",
      " [  4106.90273941  -3168.41202086]]\n",
      "[[-16124.38278841  -5074.17173035]\n",
      " [  1718.61432297  19219.30845756]\n",
      " [  4460.37052071  -3349.57116377]]\n"
     ]
    }
   ],
   "source": [
    "# TODO: Find the centroids for KMeans or the cluster means for GMM \n",
    "\n",
    "centroids_km = km_clusters.cluster_centers_\n",
    "centroids_gmm = gmm_clusters.means_\n",
    "print centroids_km\n",
    "print centroids_gmm"
   ]
  },
  {
   "cell_type": "code",
   "execution_count": 51,
   "metadata": {
    "collapsed": false
   },
   "outputs": [
    {
     "data": {
      "image/png": "[encoded data removed]",
      "text/plain": [
       "<matplotlib.figure.Figure at 0x115a3b310>"
      ]
     },
     "metadata": {},
     "output_type": "display_data"
    },
    {
     "data": {
      "image/png": "[encoded data removed]",
      "text/plain": [
       "<matplotlib.figure.Figure at 0x115a3bb90>"
      ]
     },
     "metadata": {},
     "output_type": "display_data"
    }
   ],
   "source": [
    "# Put the result into a color plot\n",
    "def plot_cluster(Z, centroids, cltype):\n",
    "    Z = Z.reshape(xx.shape)\n",
    "    plt.figure(1)\n",
    "    plt.clf()\n",
    "    plt.imshow(Z, interpolation='nearest',\n",
    "               extent=(xx.min(), xx.max(), yy.min(), yy.max()),\n",
    "               cmap=plt.cm.Paired,\n",
    "               aspect='auto', origin='lower')\n",
    "\n",
    "    plt.plot(reduced_data[:, 0], reduced_data[:, 1], 'k.', markersize=2)\n",
    "    centroid_colors = ['r', 'w', 'y']\n",
    "    for i in range(0, 3):\n",
    "        plt.scatter(centroids[i, 0], centroids[i, 1],\n",
    "                    marker='x', s=169, linewidths=3,\n",
    "                    color=centroid_colors[i], zorder=10)\n",
    "\n",
    "    plt.title('{} Clustering on the wholesale grocery dataset (PCA-reduced data)\\n'\n",
    "              'Centroids are marked with a cross'.format(cltype))\n",
    "    plt.xlim(x_min, x_max)\n",
    "    plt.ylim(y_min, y_max)\n",
    "    plt.xticks(())\n",
    "    plt.yticks(())\n",
    "    plt.show()\n",
    "    \n",
    "plot_cluster(Z_km, centroids_km, 'K-Means')\n",
    "plot_cluster(Z_gmm, centroids_gmm, 'GMM')"
   ]
  },
  {
   "cell_type": "markdown",
   "metadata": {},
   "source": [
    "**7)** What are the central objects in each cluster? Describe them as customers."
   ]
  },
  {
   "cell_type": "markdown",
   "metadata": {
    "collapsed": true
   },
   "source": [
    "**Answer:**\n",
    "\n",
    "The first cluster--which takes the lower left corner--is a group of customers that buys some fresh product and less grocery, milk, and detergents paper. These seems to be smaller family owned shops selling mostly fresh product.\n",
    "\n",
    "The second cluster--which spans upper left to upper right corner--is a group of customers that buys more grocery, milk and detergents paper as well as fresh products. This group seems to be the larger grocery store like Safeway, or Kroger. There are less of these customers (maybe around 10%-15% of all customers), but their total purchase makes up a bigger proportion of the company revenue. \n",
    "\n",
    "The third cluster--which takes a small area on the lower right corner and accounts for majority of the customers and probably the majority of the company revenue--is a group of customers that buys more fresh product and less grocery, milk, and detergents paper. This group seems to be similar to the first group, but buys a little bit more fresh produce (a little larger in size). This 1st and 3rd group could be a store selling fresh product or a deli shop selling fresh food, sadwiches, etc."
   ]
  },
  {
   "cell_type": "markdown",
   "metadata": {},
   "source": [
    "### Conclusions\n",
    "\n",
    "** 8)** Which of these techniques did you feel gave you the most insight into the data?"
   ]
  },
  {
   "cell_type": "markdown",
   "metadata": {
    "collapsed": true
   },
   "source": [
    "**Answer:**\n",
    "\n",
    "I feel PCA gave us the most insight into the data. First, it tells us that 95% of the variance in the data is accounted by the first 2 principal components. It also tells us that the first principal component accounts for  variance in fresh product, while the 2nd principal components accounts for variance in grocery, milk, and detergents paper. We also use PCA to reduce the data to 2 dimensions by projecting the data to the first 2 principal components. Having the data in 2 dimensions allows us to visualize the customer segments. "
   ]
  },
  {
   "cell_type": "markdown",
   "metadata": {
    "collapsed": true
   },
   "source": [
    "**9)** How would you use that technique to help the company design new experiments?"
   ]
  },
  {
   "cell_type": "markdown",
   "metadata": {},
   "source": [
    "**Answer:**\n",
    "\n",
    "We can use PCA and clusering method to divide the customers into 2 or 3 segments. When the company designs new experiments, they could conduct A/B testing where the new experiment is implemented for half of the customers in each segments, while the other half continue without the new experiment. For each customer segment we measure the customer satisfaction or increase in revenue (order) and compare the result with the baseline group (without new new experiment). This way we can see if a change affects a customer segment positively or negatively. "
   ]
  },
  {
   "cell_type": "markdown",
   "metadata": {},
   "source": [
    "**10)** How would you use that data to help you predict future customer needs?"
   ]
  },
  {
   "cell_type": "markdown",
   "metadata": {},
   "source": [
    "**Answer:**\n",
    "\n",
    "We could use the data to label our existing customers into roughly 2 segments: smaller businesses buying mostly fresh product (which is the majority of the company's customer), and bigger stores buying fresh product, grocery, detergents paper, etc. We can implement a supervised learning model and train it using this existing data to predict which customer segment a new customer will fall into (after we have their purchasing data).\n",
    "\n",
    "If we have a history of purchasing data (possbily broken down to months). We can analyze the purchasing pattern for each customer segment and create a regression model to predict how much a certain customer will spend in the next month, and what kind of product they will purchase, so the company can prepare for how much stock to keep in their warehouse. \n",
    " "
   ]
  }
 ],
 "metadata": {
  "kernelspec": {
   "display_name": "Python 2",
   "language": "python",
   "name": "python2"
  },
  "language_info": {
   "codemirror_mode": {
    "name": "ipython",
    "version": 2
   },
   "file_extension": ".py",
   "mimetype": "text/x-python",
   "name": "python",
   "nbconvert_exporter": "python",
   "pygments_lexer": "ipython2",
   "version": "2.7.10"
  }
 },
 "nbformat": 4,
 "nbformat_minor": 0
}
